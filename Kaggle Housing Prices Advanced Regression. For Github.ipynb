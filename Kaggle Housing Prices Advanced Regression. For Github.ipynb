{
 "cells": [
  {
   "cell_type": "markdown",
   "id": "ea21f0ba",
   "metadata": {
    "id": "ea21f0ba"
   },
   "source": [
    "# 1. Frame the problem and look at the big picture"
   ]
  },
  {
   "cell_type": "markdown",
   "id": "684c1bf3",
   "metadata": {
    "id": "684c1bf3"
   },
   "source": [
    "It is your job to predict the sales price for each house. \n",
    "For each Id in the test set, you must predict the value of the SalePrice variable. \n",
    "\n",
    "Submissions are evaluated on Root-Mean-Squared-Error (RMSE) between the logarithm of the predicted value and the logarithm of the observed sales price. (Taking logs means that errors in predicting expensive houses and cheap houses will affect the result equally.)"
   ]
  },
  {
   "cell_type": "markdown",
   "id": "bdf4d707",
   "metadata": {
    "id": "bdf4d707"
   },
   "source": [
    "##### Look at the big picture\n",
    "Predict the sales price of the test-test. Get the lowest RootMeanSquaredError possible. \n",
    "79 Explanatory variables. 1450 observations in training dataset\n",
    "\n",
    "##### What type of problem:\n",
    "Includes labels: (data includes the desired solutions)\n",
    "Typical regression task: we want to predict a value. Multiple regression as we will use multiple features\n",
    "Univariate regression: Only trying to predict one value per house\n",
    "No continuous flow of data into the system\n",
    "No need to adjust or change data rapidly. \n",
    "Data is small enough to fit in memory. Plain batch learning"
   ]
  },
  {
   "cell_type": "markdown",
   "id": "655472f3",
   "metadata": {
    "id": "655472f3"
   },
   "source": [
    "# 2. Get the data "
   ]
  },
  {
   "cell_type": "code",
   "execution_count": 1,
   "id": "ae9a45eb",
   "metadata": {
    "executionInfo": {
     "elapsed": 602,
     "status": "ok",
     "timestamp": 1656341667080,
     "user": {
      "displayName": "tim kalisvaart",
      "userId": "02455859823427268290"
     },
     "user_tz": -120
    },
    "id": "ae9a45eb"
   },
   "outputs": [],
   "source": [
    "\n",
    "import os\n",
    "import pandas as pd\n",
    "import numpy as np"
   ]
  },
  {
   "cell_type": "code",
   "execution_count": 2,
   "id": "06146c52",
   "metadata": {
    "executionInfo": {
     "elapsed": 297,
     "status": "ok",
     "timestamp": 1656342374194,
     "user": {
      "displayName": "tim kalisvaart",
      "userId": "02455859823427268290"
     },
     "user_tz": -120
    },
    "id": "06146c52"
   },
   "outputs": [],
   "source": [
    "HOUSING_PATH = #\"File location\"\n"
   ]
  },
  {
   "cell_type": "code",
   "execution_count": 3,
   "id": "f5993afd",
   "metadata": {
    "executionInfo": {
     "elapsed": 438,
     "status": "ok",
     "timestamp": 1656342061146,
     "user": {
      "displayName": "tim kalisvaart",
      "userId": "02455859823427268290"
     },
     "user_tz": -120
    },
    "id": "f5993afd"
   },
   "outputs": [],
   "source": [
    "def load_training_data(housing_path=HOUSING_PATH):\n",
    "    csv_path =os.path.join(housing_path, \"train.csv\")\n",
    "    \n",
    "def load_test_data(housing_path=HOUSING_PATH):\n",
    "    csv_path =os.path.join(housing_path, \"test.csv\")\n",
    "    return pd.read_csv(csv_path)"
   ]
  },
  {
   "cell_type": "code",
   "execution_count": 4,
   "id": "772e2e65",
   "metadata": {
    "executionInfo": {
     "elapsed": 225,
     "status": "ok",
     "timestamp": 1656342063117,
     "user": {
      "displayName": "tim kalisvaart",
      "userId": "02455859823427268290"
     },
     "user_tz": -120
    },
    "id": "772e2e65"
   },
   "outputs": [],
   "source": [
    "# To plot pretty figures\n",
    "%matplotlib inline\n",
    "import matplotlib as mpl\n",
    "import matplotlib.pyplot as plt\n",
    "mpl.rc('axes', labelsize=14)\n",
    "mpl.rc('xtick', labelsize=12)\n",
    "mpl.rc('ytick', labelsize=12)\n",
    "\n",
    "IMAGES_PATH = HOUSING_PATH\n",
    "os.makedirs(IMAGES_PATH, exist_ok=True)\n",
    "\n",
    "def save_fig(fig_id, tight_layout=True, fig_extension=\"png\", resolution=300):\n",
    "    path = os.path.join(IMAGES_PATH, fig_id + \".\" + fig_extension)\n",
    "    print(\"Saving figure\", fig_id)\n",
    "    if tight_layout:\n",
    "        plt.tight_layout()\n",
    "    plt.savefig(path, format=fig_extension, dpi=resolution)"
   ]
  },
  {
   "cell_type": "code",
   "execution_count": 5,
   "id": "645e9441",
   "metadata": {
    "colab": {
     "base_uri": "https://localhost:8080/",
     "height": 363
    },
    "executionInfo": {
     "elapsed": 230,
     "status": "error",
     "timestamp": 1656342065569,
     "user": {
      "displayName": "tim kalisvaart",
      "userId": "02455859823427268290"
     },
     "user_tz": -120
    },
    "id": "645e9441",
    "outputId": "21f3dea8-2882-4836-f4e1-fc25ce32ee9a"
   },
   "outputs": [
    {
     "data": {
      "text/html": [
       "<div>\n",
       "<style scoped>\n",
       "    .dataframe tbody tr th:only-of-type {\n",
       "        vertical-align: middle;\n",
       "    }\n",
       "\n",
       "    .dataframe tbody tr th {\n",
       "        vertical-align: top;\n",
       "    }\n",
       "\n",
       "    .dataframe thead th {\n",
       "        text-align: right;\n",
       "    }\n",
       "</style>\n",
       "<table border=\"1\" class=\"dataframe\">\n",
       "  <thead>\n",
       "    <tr style=\"text-align: right;\">\n",
       "      <th></th>\n",
       "      <th>Id</th>\n",
       "      <th>MSSubClass</th>\n",
       "      <th>MSZoning</th>\n",
       "      <th>LotFrontage</th>\n",
       "      <th>LotArea</th>\n",
       "      <th>Street</th>\n",
       "      <th>Alley</th>\n",
       "      <th>LotShape</th>\n",
       "      <th>LandContour</th>\n",
       "      <th>Utilities</th>\n",
       "      <th>...</th>\n",
       "      <th>PoolArea</th>\n",
       "      <th>PoolQC</th>\n",
       "      <th>Fence</th>\n",
       "      <th>MiscFeature</th>\n",
       "      <th>MiscVal</th>\n",
       "      <th>MoSold</th>\n",
       "      <th>YrSold</th>\n",
       "      <th>SaleType</th>\n",
       "      <th>SaleCondition</th>\n",
       "      <th>SalePrice</th>\n",
       "    </tr>\n",
       "  </thead>\n",
       "  <tbody>\n",
       "    <tr>\n",
       "      <th>0</th>\n",
       "      <td>1</td>\n",
       "      <td>60</td>\n",
       "      <td>RL</td>\n",
       "      <td>65.0</td>\n",
       "      <td>8450</td>\n",
       "      <td>Pave</td>\n",
       "      <td>NaN</td>\n",
       "      <td>Reg</td>\n",
       "      <td>Lvl</td>\n",
       "      <td>AllPub</td>\n",
       "      <td>...</td>\n",
       "      <td>0</td>\n",
       "      <td>NaN</td>\n",
       "      <td>NaN</td>\n",
       "      <td>NaN</td>\n",
       "      <td>0</td>\n",
       "      <td>2</td>\n",
       "      <td>2008</td>\n",
       "      <td>WD</td>\n",
       "      <td>Normal</td>\n",
       "      <td>208500</td>\n",
       "    </tr>\n",
       "    <tr>\n",
       "      <th>1</th>\n",
       "      <td>2</td>\n",
       "      <td>20</td>\n",
       "      <td>RL</td>\n",
       "      <td>80.0</td>\n",
       "      <td>9600</td>\n",
       "      <td>Pave</td>\n",
       "      <td>NaN</td>\n",
       "      <td>Reg</td>\n",
       "      <td>Lvl</td>\n",
       "      <td>AllPub</td>\n",
       "      <td>...</td>\n",
       "      <td>0</td>\n",
       "      <td>NaN</td>\n",
       "      <td>NaN</td>\n",
       "      <td>NaN</td>\n",
       "      <td>0</td>\n",
       "      <td>5</td>\n",
       "      <td>2007</td>\n",
       "      <td>WD</td>\n",
       "      <td>Normal</td>\n",
       "      <td>181500</td>\n",
       "    </tr>\n",
       "    <tr>\n",
       "      <th>2</th>\n",
       "      <td>3</td>\n",
       "      <td>60</td>\n",
       "      <td>RL</td>\n",
       "      <td>68.0</td>\n",
       "      <td>11250</td>\n",
       "      <td>Pave</td>\n",
       "      <td>NaN</td>\n",
       "      <td>IR1</td>\n",
       "      <td>Lvl</td>\n",
       "      <td>AllPub</td>\n",
       "      <td>...</td>\n",
       "      <td>0</td>\n",
       "      <td>NaN</td>\n",
       "      <td>NaN</td>\n",
       "      <td>NaN</td>\n",
       "      <td>0</td>\n",
       "      <td>9</td>\n",
       "      <td>2008</td>\n",
       "      <td>WD</td>\n",
       "      <td>Normal</td>\n",
       "      <td>223500</td>\n",
       "    </tr>\n",
       "    <tr>\n",
       "      <th>3</th>\n",
       "      <td>4</td>\n",
       "      <td>70</td>\n",
       "      <td>RL</td>\n",
       "      <td>60.0</td>\n",
       "      <td>9550</td>\n",
       "      <td>Pave</td>\n",
       "      <td>NaN</td>\n",
       "      <td>IR1</td>\n",
       "      <td>Lvl</td>\n",
       "      <td>AllPub</td>\n",
       "      <td>...</td>\n",
       "      <td>0</td>\n",
       "      <td>NaN</td>\n",
       "      <td>NaN</td>\n",
       "      <td>NaN</td>\n",
       "      <td>0</td>\n",
       "      <td>2</td>\n",
       "      <td>2006</td>\n",
       "      <td>WD</td>\n",
       "      <td>Abnorml</td>\n",
       "      <td>140000</td>\n",
       "    </tr>\n",
       "    <tr>\n",
       "      <th>4</th>\n",
       "      <td>5</td>\n",
       "      <td>60</td>\n",
       "      <td>RL</td>\n",
       "      <td>84.0</td>\n",
       "      <td>14260</td>\n",
       "      <td>Pave</td>\n",
       "      <td>NaN</td>\n",
       "      <td>IR1</td>\n",
       "      <td>Lvl</td>\n",
       "      <td>AllPub</td>\n",
       "      <td>...</td>\n",
       "      <td>0</td>\n",
       "      <td>NaN</td>\n",
       "      <td>NaN</td>\n",
       "      <td>NaN</td>\n",
       "      <td>0</td>\n",
       "      <td>12</td>\n",
       "      <td>2008</td>\n",
       "      <td>WD</td>\n",
       "      <td>Normal</td>\n",
       "      <td>250000</td>\n",
       "    </tr>\n",
       "  </tbody>\n",
       "</table>\n",
       "<p>5 rows × 81 columns</p>\n",
       "</div>"
      ],
      "text/plain": [
       "   Id  MSSubClass MSZoning  LotFrontage  LotArea Street Alley LotShape  \\\n",
       "0   1          60       RL         65.0     8450   Pave   NaN      Reg   \n",
       "1   2          20       RL         80.0     9600   Pave   NaN      Reg   \n",
       "2   3          60       RL         68.0    11250   Pave   NaN      IR1   \n",
       "3   4          70       RL         60.0     9550   Pave   NaN      IR1   \n",
       "4   5          60       RL         84.0    14260   Pave   NaN      IR1   \n",
       "\n",
       "  LandContour Utilities  ... PoolArea PoolQC Fence MiscFeature MiscVal MoSold  \\\n",
       "0         Lvl    AllPub  ...        0    NaN   NaN         NaN       0      2   \n",
       "1         Lvl    AllPub  ...        0    NaN   NaN         NaN       0      5   \n",
       "2         Lvl    AllPub  ...        0    NaN   NaN         NaN       0      9   \n",
       "3         Lvl    AllPub  ...        0    NaN   NaN         NaN       0      2   \n",
       "4         Lvl    AllPub  ...        0    NaN   NaN         NaN       0     12   \n",
       "\n",
       "  YrSold  SaleType  SaleCondition  SalePrice  \n",
       "0   2008        WD         Normal     208500  \n",
       "1   2007        WD         Normal     181500  \n",
       "2   2008        WD         Normal     223500  \n",
       "3   2006        WD        Abnorml     140000  \n",
       "4   2008        WD         Normal     250000  \n",
       "\n",
       "[5 rows x 81 columns]"
      ]
     },
     "execution_count": 5,
     "metadata": {},
     "output_type": "execute_result"
    }
   ],
   "source": [
    "### Take a look at the data structure\n",
    "\n",
    "#Let's check the first rows\n",
    "housing = load_training_data()\n",
    "housing.head()"
   ]
  },
  {
   "cell_type": "code",
   "execution_count": 6,
   "id": "ee3597ed",
   "metadata": {
    "id": "ee3597ed",
    "outputId": "f80cf804-7188-4f93-9cb1-9cc3b670cb55",
    "scrolled": true
   },
   "outputs": [
    {
     "name": "stdout",
     "output_type": "stream",
     "text": [
      "<class 'pandas.core.frame.DataFrame'>\n",
      "RangeIndex: 1460 entries, 0 to 1459\n",
      "Data columns (total 81 columns):\n",
      " #   Column         Non-Null Count  Dtype  \n",
      "---  ------         --------------  -----  \n",
      " 0   Id             1460 non-null   int64  \n",
      " 1   MSSubClass     1460 non-null   int64  \n",
      " 2   MSZoning       1460 non-null   object \n",
      " 3   LotFrontage    1201 non-null   float64\n",
      " 4   LotArea        1460 non-null   int64  \n",
      " 5   Street         1460 non-null   object \n",
      " 6   Alley          91 non-null     object \n",
      " 7   LotShape       1460 non-null   object \n",
      " 8   LandContour    1460 non-null   object \n",
      " 9   Utilities      1460 non-null   object \n",
      " 10  LotConfig      1460 non-null   object \n",
      " 11  LandSlope      1460 non-null   object \n",
      " 12  Neighborhood   1460 non-null   object \n",
      " 13  Condition1     1460 non-null   object \n",
      " 14  Condition2     1460 non-null   object \n",
      " 15  BldgType       1460 non-null   object \n",
      " 16  HouseStyle     1460 non-null   object \n",
      " 17  OverallQual    1460 non-null   int64  \n",
      " 18  OverallCond    1460 non-null   int64  \n",
      " 19  YearBuilt      1460 non-null   int64  \n",
      " 20  YearRemodAdd   1460 non-null   int64  \n",
      " 21  RoofStyle      1460 non-null   object \n",
      " 22  RoofMatl       1460 non-null   object \n",
      " 23  Exterior1st    1460 non-null   object \n",
      " 24  Exterior2nd    1460 non-null   object \n",
      " 25  MasVnrType     1452 non-null   object \n",
      " 26  MasVnrArea     1452 non-null   float64\n",
      " 27  ExterQual      1460 non-null   object \n",
      " 28  ExterCond      1460 non-null   object \n",
      " 29  Foundation     1460 non-null   object \n",
      " 30  BsmtQual       1423 non-null   object \n",
      " 31  BsmtCond       1423 non-null   object \n",
      " 32  BsmtExposure   1422 non-null   object \n",
      " 33  BsmtFinType1   1423 non-null   object \n",
      " 34  BsmtFinSF1     1460 non-null   int64  \n",
      " 35  BsmtFinType2   1422 non-null   object \n",
      " 36  BsmtFinSF2     1460 non-null   int64  \n",
      " 37  BsmtUnfSF      1460 non-null   int64  \n",
      " 38  TotalBsmtSF    1460 non-null   int64  \n",
      " 39  Heating        1460 non-null   object \n",
      " 40  HeatingQC      1460 non-null   object \n",
      " 41  CentralAir     1460 non-null   object \n",
      " 42  Electrical     1459 non-null   object \n",
      " 43  1stFlrSF       1460 non-null   int64  \n",
      " 44  2ndFlrSF       1460 non-null   int64  \n",
      " 45  LowQualFinSF   1460 non-null   int64  \n",
      " 46  GrLivArea      1460 non-null   int64  \n",
      " 47  BsmtFullBath   1460 non-null   int64  \n",
      " 48  BsmtHalfBath   1460 non-null   int64  \n",
      " 49  FullBath       1460 non-null   int64  \n",
      " 50  HalfBath       1460 non-null   int64  \n",
      " 51  BedroomAbvGr   1460 non-null   int64  \n",
      " 52  KitchenAbvGr   1460 non-null   int64  \n",
      " 53  KitchenQual    1460 non-null   object \n",
      " 54  TotRmsAbvGrd   1460 non-null   int64  \n",
      " 55  Functional     1460 non-null   object \n",
      " 56  Fireplaces     1460 non-null   int64  \n",
      " 57  FireplaceQu    770 non-null    object \n",
      " 58  GarageType     1379 non-null   object \n",
      " 59  GarageYrBlt    1379 non-null   float64\n",
      " 60  GarageFinish   1379 non-null   object \n",
      " 61  GarageCars     1460 non-null   int64  \n",
      " 62  GarageArea     1460 non-null   int64  \n",
      " 63  GarageQual     1379 non-null   object \n",
      " 64  GarageCond     1379 non-null   object \n",
      " 65  PavedDrive     1460 non-null   object \n",
      " 66  WoodDeckSF     1460 non-null   int64  \n",
      " 67  OpenPorchSF    1460 non-null   int64  \n",
      " 68  EnclosedPorch  1460 non-null   int64  \n",
      " 69  3SsnPorch      1460 non-null   int64  \n",
      " 70  ScreenPorch    1460 non-null   int64  \n",
      " 71  PoolArea       1460 non-null   int64  \n",
      " 72  PoolQC         7 non-null      object \n",
      " 73  Fence          281 non-null    object \n",
      " 74  MiscFeature    54 non-null     object \n",
      " 75  MiscVal        1460 non-null   int64  \n",
      " 76  MoSold         1460 non-null   int64  \n",
      " 77  YrSold         1460 non-null   int64  \n",
      " 78  SaleType       1460 non-null   object \n",
      " 79  SaleCondition  1460 non-null   object \n",
      " 80  SalePrice      1460 non-null   int64  \n",
      "dtypes: float64(3), int64(35), object(43)\n",
      "memory usage: 924.0+ KB\n"
     ]
    }
   ],
   "source": [
    "housing.info()"
   ]
  },
  {
   "cell_type": "code",
   "execution_count": 7,
   "id": "a44b2f7e",
   "metadata": {
    "id": "a44b2f7e",
    "outputId": "a41ea49a-e05b-451f-f59c-0d3aa049d4d1"
   },
   "outputs": [
    {
     "data": {
      "text/html": [
       "<div>\n",
       "<style scoped>\n",
       "    .dataframe tbody tr th:only-of-type {\n",
       "        vertical-align: middle;\n",
       "    }\n",
       "\n",
       "    .dataframe tbody tr th {\n",
       "        vertical-align: top;\n",
       "    }\n",
       "\n",
       "    .dataframe thead th {\n",
       "        text-align: right;\n",
       "    }\n",
       "</style>\n",
       "<table border=\"1\" class=\"dataframe\">\n",
       "  <thead>\n",
       "    <tr style=\"text-align: right;\">\n",
       "      <th></th>\n",
       "      <th>Id</th>\n",
       "      <th>MSSubClass</th>\n",
       "      <th>LotFrontage</th>\n",
       "      <th>LotArea</th>\n",
       "      <th>OverallQual</th>\n",
       "      <th>OverallCond</th>\n",
       "      <th>YearBuilt</th>\n",
       "      <th>YearRemodAdd</th>\n",
       "      <th>MasVnrArea</th>\n",
       "      <th>BsmtFinSF1</th>\n",
       "      <th>...</th>\n",
       "      <th>WoodDeckSF</th>\n",
       "      <th>OpenPorchSF</th>\n",
       "      <th>EnclosedPorch</th>\n",
       "      <th>3SsnPorch</th>\n",
       "      <th>ScreenPorch</th>\n",
       "      <th>PoolArea</th>\n",
       "      <th>MiscVal</th>\n",
       "      <th>MoSold</th>\n",
       "      <th>YrSold</th>\n",
       "      <th>SalePrice</th>\n",
       "    </tr>\n",
       "  </thead>\n",
       "  <tbody>\n",
       "    <tr>\n",
       "      <th>count</th>\n",
       "      <td>1460.000000</td>\n",
       "      <td>1460.000000</td>\n",
       "      <td>1201.000000</td>\n",
       "      <td>1460.000000</td>\n",
       "      <td>1460.000000</td>\n",
       "      <td>1460.000000</td>\n",
       "      <td>1460.000000</td>\n",
       "      <td>1460.000000</td>\n",
       "      <td>1452.000000</td>\n",
       "      <td>1460.000000</td>\n",
       "      <td>...</td>\n",
       "      <td>1460.000000</td>\n",
       "      <td>1460.000000</td>\n",
       "      <td>1460.000000</td>\n",
       "      <td>1460.000000</td>\n",
       "      <td>1460.000000</td>\n",
       "      <td>1460.000000</td>\n",
       "      <td>1460.000000</td>\n",
       "      <td>1460.000000</td>\n",
       "      <td>1460.000000</td>\n",
       "      <td>1460.000000</td>\n",
       "    </tr>\n",
       "    <tr>\n",
       "      <th>mean</th>\n",
       "      <td>730.500000</td>\n",
       "      <td>56.897260</td>\n",
       "      <td>70.049958</td>\n",
       "      <td>10516.828082</td>\n",
       "      <td>6.099315</td>\n",
       "      <td>5.575342</td>\n",
       "      <td>1971.267808</td>\n",
       "      <td>1984.865753</td>\n",
       "      <td>103.685262</td>\n",
       "      <td>443.639726</td>\n",
       "      <td>...</td>\n",
       "      <td>94.244521</td>\n",
       "      <td>46.660274</td>\n",
       "      <td>21.954110</td>\n",
       "      <td>3.409589</td>\n",
       "      <td>15.060959</td>\n",
       "      <td>2.758904</td>\n",
       "      <td>43.489041</td>\n",
       "      <td>6.321918</td>\n",
       "      <td>2007.815753</td>\n",
       "      <td>180921.195890</td>\n",
       "    </tr>\n",
       "    <tr>\n",
       "      <th>std</th>\n",
       "      <td>421.610009</td>\n",
       "      <td>42.300571</td>\n",
       "      <td>24.284752</td>\n",
       "      <td>9981.264932</td>\n",
       "      <td>1.382997</td>\n",
       "      <td>1.112799</td>\n",
       "      <td>30.202904</td>\n",
       "      <td>20.645407</td>\n",
       "      <td>181.066207</td>\n",
       "      <td>456.098091</td>\n",
       "      <td>...</td>\n",
       "      <td>125.338794</td>\n",
       "      <td>66.256028</td>\n",
       "      <td>61.119149</td>\n",
       "      <td>29.317331</td>\n",
       "      <td>55.757415</td>\n",
       "      <td>40.177307</td>\n",
       "      <td>496.123024</td>\n",
       "      <td>2.703626</td>\n",
       "      <td>1.328095</td>\n",
       "      <td>79442.502883</td>\n",
       "    </tr>\n",
       "    <tr>\n",
       "      <th>min</th>\n",
       "      <td>1.000000</td>\n",
       "      <td>20.000000</td>\n",
       "      <td>21.000000</td>\n",
       "      <td>1300.000000</td>\n",
       "      <td>1.000000</td>\n",
       "      <td>1.000000</td>\n",
       "      <td>1872.000000</td>\n",
       "      <td>1950.000000</td>\n",
       "      <td>0.000000</td>\n",
       "      <td>0.000000</td>\n",
       "      <td>...</td>\n",
       "      <td>0.000000</td>\n",
       "      <td>0.000000</td>\n",
       "      <td>0.000000</td>\n",
       "      <td>0.000000</td>\n",
       "      <td>0.000000</td>\n",
       "      <td>0.000000</td>\n",
       "      <td>0.000000</td>\n",
       "      <td>1.000000</td>\n",
       "      <td>2006.000000</td>\n",
       "      <td>34900.000000</td>\n",
       "    </tr>\n",
       "    <tr>\n",
       "      <th>25%</th>\n",
       "      <td>365.750000</td>\n",
       "      <td>20.000000</td>\n",
       "      <td>59.000000</td>\n",
       "      <td>7553.500000</td>\n",
       "      <td>5.000000</td>\n",
       "      <td>5.000000</td>\n",
       "      <td>1954.000000</td>\n",
       "      <td>1967.000000</td>\n",
       "      <td>0.000000</td>\n",
       "      <td>0.000000</td>\n",
       "      <td>...</td>\n",
       "      <td>0.000000</td>\n",
       "      <td>0.000000</td>\n",
       "      <td>0.000000</td>\n",
       "      <td>0.000000</td>\n",
       "      <td>0.000000</td>\n",
       "      <td>0.000000</td>\n",
       "      <td>0.000000</td>\n",
       "      <td>5.000000</td>\n",
       "      <td>2007.000000</td>\n",
       "      <td>129975.000000</td>\n",
       "    </tr>\n",
       "    <tr>\n",
       "      <th>50%</th>\n",
       "      <td>730.500000</td>\n",
       "      <td>50.000000</td>\n",
       "      <td>69.000000</td>\n",
       "      <td>9478.500000</td>\n",
       "      <td>6.000000</td>\n",
       "      <td>5.000000</td>\n",
       "      <td>1973.000000</td>\n",
       "      <td>1994.000000</td>\n",
       "      <td>0.000000</td>\n",
       "      <td>383.500000</td>\n",
       "      <td>...</td>\n",
       "      <td>0.000000</td>\n",
       "      <td>25.000000</td>\n",
       "      <td>0.000000</td>\n",
       "      <td>0.000000</td>\n",
       "      <td>0.000000</td>\n",
       "      <td>0.000000</td>\n",
       "      <td>0.000000</td>\n",
       "      <td>6.000000</td>\n",
       "      <td>2008.000000</td>\n",
       "      <td>163000.000000</td>\n",
       "    </tr>\n",
       "    <tr>\n",
       "      <th>75%</th>\n",
       "      <td>1095.250000</td>\n",
       "      <td>70.000000</td>\n",
       "      <td>80.000000</td>\n",
       "      <td>11601.500000</td>\n",
       "      <td>7.000000</td>\n",
       "      <td>6.000000</td>\n",
       "      <td>2000.000000</td>\n",
       "      <td>2004.000000</td>\n",
       "      <td>166.000000</td>\n",
       "      <td>712.250000</td>\n",
       "      <td>...</td>\n",
       "      <td>168.000000</td>\n",
       "      <td>68.000000</td>\n",
       "      <td>0.000000</td>\n",
       "      <td>0.000000</td>\n",
       "      <td>0.000000</td>\n",
       "      <td>0.000000</td>\n",
       "      <td>0.000000</td>\n",
       "      <td>8.000000</td>\n",
       "      <td>2009.000000</td>\n",
       "      <td>214000.000000</td>\n",
       "    </tr>\n",
       "    <tr>\n",
       "      <th>max</th>\n",
       "      <td>1460.000000</td>\n",
       "      <td>190.000000</td>\n",
       "      <td>313.000000</td>\n",
       "      <td>215245.000000</td>\n",
       "      <td>10.000000</td>\n",
       "      <td>9.000000</td>\n",
       "      <td>2010.000000</td>\n",
       "      <td>2010.000000</td>\n",
       "      <td>1600.000000</td>\n",
       "      <td>5644.000000</td>\n",
       "      <td>...</td>\n",
       "      <td>857.000000</td>\n",
       "      <td>547.000000</td>\n",
       "      <td>552.000000</td>\n",
       "      <td>508.000000</td>\n",
       "      <td>480.000000</td>\n",
       "      <td>738.000000</td>\n",
       "      <td>15500.000000</td>\n",
       "      <td>12.000000</td>\n",
       "      <td>2010.000000</td>\n",
       "      <td>755000.000000</td>\n",
       "    </tr>\n",
       "  </tbody>\n",
       "</table>\n",
       "<p>8 rows × 38 columns</p>\n",
       "</div>"
      ],
      "text/plain": [
       "                Id   MSSubClass  LotFrontage        LotArea  OverallQual  \\\n",
       "count  1460.000000  1460.000000  1201.000000    1460.000000  1460.000000   \n",
       "mean    730.500000    56.897260    70.049958   10516.828082     6.099315   \n",
       "std     421.610009    42.300571    24.284752    9981.264932     1.382997   \n",
       "min       1.000000    20.000000    21.000000    1300.000000     1.000000   \n",
       "25%     365.750000    20.000000    59.000000    7553.500000     5.000000   \n",
       "50%     730.500000    50.000000    69.000000    9478.500000     6.000000   \n",
       "75%    1095.250000    70.000000    80.000000   11601.500000     7.000000   \n",
       "max    1460.000000   190.000000   313.000000  215245.000000    10.000000   \n",
       "\n",
       "       OverallCond    YearBuilt  YearRemodAdd   MasVnrArea   BsmtFinSF1  ...  \\\n",
       "count  1460.000000  1460.000000   1460.000000  1452.000000  1460.000000  ...   \n",
       "mean      5.575342  1971.267808   1984.865753   103.685262   443.639726  ...   \n",
       "std       1.112799    30.202904     20.645407   181.066207   456.098091  ...   \n",
       "min       1.000000  1872.000000   1950.000000     0.000000     0.000000  ...   \n",
       "25%       5.000000  1954.000000   1967.000000     0.000000     0.000000  ...   \n",
       "50%       5.000000  1973.000000   1994.000000     0.000000   383.500000  ...   \n",
       "75%       6.000000  2000.000000   2004.000000   166.000000   712.250000  ...   \n",
       "max       9.000000  2010.000000   2010.000000  1600.000000  5644.000000  ...   \n",
       "\n",
       "        WoodDeckSF  OpenPorchSF  EnclosedPorch    3SsnPorch  ScreenPorch  \\\n",
       "count  1460.000000  1460.000000    1460.000000  1460.000000  1460.000000   \n",
       "mean     94.244521    46.660274      21.954110     3.409589    15.060959   \n",
       "std     125.338794    66.256028      61.119149    29.317331    55.757415   \n",
       "min       0.000000     0.000000       0.000000     0.000000     0.000000   \n",
       "25%       0.000000     0.000000       0.000000     0.000000     0.000000   \n",
       "50%       0.000000    25.000000       0.000000     0.000000     0.000000   \n",
       "75%     168.000000    68.000000       0.000000     0.000000     0.000000   \n",
       "max     857.000000   547.000000     552.000000   508.000000   480.000000   \n",
       "\n",
       "          PoolArea       MiscVal       MoSold       YrSold      SalePrice  \n",
       "count  1460.000000   1460.000000  1460.000000  1460.000000    1460.000000  \n",
       "mean      2.758904     43.489041     6.321918  2007.815753  180921.195890  \n",
       "std      40.177307    496.123024     2.703626     1.328095   79442.502883  \n",
       "min       0.000000      0.000000     1.000000  2006.000000   34900.000000  \n",
       "25%       0.000000      0.000000     5.000000  2007.000000  129975.000000  \n",
       "50%       0.000000      0.000000     6.000000  2008.000000  163000.000000  \n",
       "75%       0.000000      0.000000     8.000000  2009.000000  214000.000000  \n",
       "max     738.000000  15500.000000    12.000000  2010.000000  755000.000000  \n",
       "\n",
       "[8 rows x 38 columns]"
      ]
     },
     "execution_count": 7,
     "metadata": {},
     "output_type": "execute_result"
    }
   ],
   "source": [
    "housing.describe()"
   ]
  },
  {
   "cell_type": "code",
   "execution_count": 8,
   "id": "e7b183aa",
   "metadata": {
    "id": "e7b183aa",
    "outputId": "4fa8a526-b75e-44ee-d376-f9f53b951f3f"
   },
   "outputs": [
    {
     "data": {
      "text/plain": [
       "count    1460.000000\n",
       "mean     1162.626712\n",
       "std       386.587738\n",
       "min       334.000000\n",
       "25%       882.000000\n",
       "50%      1087.000000\n",
       "75%      1391.250000\n",
       "max      4692.000000\n",
       "Name: 1stFlrSF, dtype: float64"
      ]
     },
     "execution_count": 8,
     "metadata": {},
     "output_type": "execute_result"
    }
   ],
   "source": [
    "housing['1stFlrSF'].describe()"
   ]
  },
  {
   "cell_type": "code",
   "execution_count": 9,
   "id": "9cc1354f",
   "metadata": {
    "id": "9cc1354f",
    "outputId": "49c2b726-76de-4797-c86f-260380da16e3"
   },
   "outputs": [
    {
     "data": {
      "text/plain": [
       "<function matplotlib.pyplot.show(close=None, block=None)>"
      ]
     },
     "execution_count": 9,
     "metadata": {},
     "output_type": "execute_result"
    },
    {
     "data": {
      "image/png": "[encoded data removed]",
      "text/plain": [
       "<Figure size 1440x1080 with 42 Axes>"
      ]
     },
     "metadata": {
      "needs_background": "light"
     },
     "output_type": "display_data"
    }
   ],
   "source": [
    "%matplotlib inline\n",
    "import matplotlib.pyplot as plt\n",
    "housing.hist(bins=50, figsize=(20,15))\n",
    "#save_fig(\"attribute_histogram_plots\")\n",
    "plt.show"
   ]
  },
  {
   "cell_type": "code",
   "execution_count": 7,
   "id": "bdca498d",
   "metadata": {
    "id": "bdca498d",
    "outputId": "593793a0-0b13-40e7-c226-f292d95e298c"
   },
   "outputs": [
    {
     "data": {
      "text/plain": [
       "<AxesSubplot:>"
      ]
     },
     "execution_count": 7,
     "metadata": {},
     "output_type": "execute_result"
    },
    {
     "data": {
      "image/png": "[encoded data removed]",
      "text/plain": [
       "<Figure size 432x288 with 1 Axes>"
      ]
     },
     "metadata": {
      "needs_background": "light"
     },
     "output_type": "display_data"
    }
   ],
   "source": [
    "#Let's say I would test the distribution of the number of square meters\n",
    "#First I make a category collom, on the total dataset\n",
    "\n",
    "#Stel dat ik wil testen of het aantal vierkante meters ongeveer gelijk loopt\n",
    "#Eerst maak ik een categorie-kolom, op totale dataset\n",
    "housing['1stFlrSF_cat'] = pd.cut(housing[\"1stFlrSF\"],\n",
    "                                bins=[0., 500, 1000, 1500, 2000, 5000, np.inf],\n",
    "                                labels = [1, 2, 3, 4, 5, 6])\n",
    "housing['1stFlrSF_cat'].hist()\n",
    "#After a trial and error, to correct for the long tail; I used a 3000 feet last category instead of 500"
   ]
  },
  {
   "cell_type": "code",
   "execution_count": 13,
   "id": "cdc2e10c",
   "metadata": {
    "id": "cdc2e10c"
   },
   "outputs": [],
   "source": [
    "#Create a test set. Using the ID in each row to decide test and train set\n",
    "#Making an hash out of those IDs\n",
    "\n",
    "from zlib import crc32\n",
    "\n",
    "def test_set_check(identifier, test_ratio):\n",
    "    return crc32(np.int64(identifier)) & 0xffffffff < test_ratio * 2**32"
   ]
  },
  {
   "cell_type": "code",
   "execution_count": 14,
   "id": "f298d7c4",
   "metadata": {
    "id": "f298d7c4"
   },
   "outputs": [],
   "source": [
    "import numpy as np\n",
    "def split_train_test_by_id(data, test_ratio, id_column):\n",
    "    ids = data[id_column]\n",
    "    in_test_set = ids.apply(lambda id_: test_set_check(id_, test_ratio))\n",
    "    return data.loc[~in_test_set], data.loc[in_test_set]\n",
    "\n",
    "#Can also be done with sk train_test_split() function"
   ]
  },
  {
   "cell_type": "code",
   "execution_count": 15,
   "id": "c0df31e7",
   "metadata": {
    "id": "c0df31e7"
   },
   "outputs": [],
   "source": [
    "train_set, test_set = split_train_test_by_id(housing, 0.2, 'Id')"
   ]
  },
  {
   "cell_type": "code",
   "execution_count": 16,
   "id": "6ab57331",
   "metadata": {
    "id": "6ab57331",
    "outputId": "1409681a-ee37-4ae0-ceba-d297278e181e"
   },
   "outputs": [
    {
     "data": {
      "text/html": [
       "<div>\n",
       "<style scoped>\n",
       "    .dataframe tbody tr th:only-of-type {\n",
       "        vertical-align: middle;\n",
       "    }\n",
       "\n",
       "    .dataframe tbody tr th {\n",
       "        vertical-align: top;\n",
       "    }\n",
       "\n",
       "    .dataframe thead th {\n",
       "        text-align: right;\n",
       "    }\n",
       "</style>\n",
       "<table border=\"1\" class=\"dataframe\">\n",
       "  <thead>\n",
       "    <tr style=\"text-align: right;\">\n",
       "      <th></th>\n",
       "      <th>Id</th>\n",
       "      <th>MSSubClass</th>\n",
       "      <th>MSZoning</th>\n",
       "      <th>LotFrontage</th>\n",
       "      <th>LotArea</th>\n",
       "      <th>Street</th>\n",
       "      <th>Alley</th>\n",
       "      <th>LotShape</th>\n",
       "      <th>LandContour</th>\n",
       "      <th>Utilities</th>\n",
       "      <th>...</th>\n",
       "      <th>PoolQC</th>\n",
       "      <th>Fence</th>\n",
       "      <th>MiscFeature</th>\n",
       "      <th>MiscVal</th>\n",
       "      <th>MoSold</th>\n",
       "      <th>YrSold</th>\n",
       "      <th>SaleType</th>\n",
       "      <th>SaleCondition</th>\n",
       "      <th>SalePrice</th>\n",
       "      <th>1stFlrSF_cat</th>\n",
       "    </tr>\n",
       "  </thead>\n",
       "  <tbody>\n",
       "    <tr>\n",
       "      <th>0</th>\n",
       "      <td>1</td>\n",
       "      <td>60</td>\n",
       "      <td>RL</td>\n",
       "      <td>65.0</td>\n",
       "      <td>8450</td>\n",
       "      <td>Pave</td>\n",
       "      <td>NaN</td>\n",
       "      <td>Reg</td>\n",
       "      <td>Lvl</td>\n",
       "      <td>AllPub</td>\n",
       "      <td>...</td>\n",
       "      <td>NaN</td>\n",
       "      <td>NaN</td>\n",
       "      <td>NaN</td>\n",
       "      <td>0</td>\n",
       "      <td>2</td>\n",
       "      <td>2008</td>\n",
       "      <td>WD</td>\n",
       "      <td>Normal</td>\n",
       "      <td>208500</td>\n",
       "      <td>2</td>\n",
       "    </tr>\n",
       "    <tr>\n",
       "      <th>2</th>\n",
       "      <td>3</td>\n",
       "      <td>60</td>\n",
       "      <td>RL</td>\n",
       "      <td>68.0</td>\n",
       "      <td>11250</td>\n",
       "      <td>Pave</td>\n",
       "      <td>NaN</td>\n",
       "      <td>IR1</td>\n",
       "      <td>Lvl</td>\n",
       "      <td>AllPub</td>\n",
       "      <td>...</td>\n",
       "      <td>NaN</td>\n",
       "      <td>NaN</td>\n",
       "      <td>NaN</td>\n",
       "      <td>0</td>\n",
       "      <td>9</td>\n",
       "      <td>2008</td>\n",
       "      <td>WD</td>\n",
       "      <td>Normal</td>\n",
       "      <td>223500</td>\n",
       "      <td>2</td>\n",
       "    </tr>\n",
       "    <tr>\n",
       "      <th>3</th>\n",
       "      <td>4</td>\n",
       "      <td>70</td>\n",
       "      <td>RL</td>\n",
       "      <td>60.0</td>\n",
       "      <td>9550</td>\n",
       "      <td>Pave</td>\n",
       "      <td>NaN</td>\n",
       "      <td>IR1</td>\n",
       "      <td>Lvl</td>\n",
       "      <td>AllPub</td>\n",
       "      <td>...</td>\n",
       "      <td>NaN</td>\n",
       "      <td>NaN</td>\n",
       "      <td>NaN</td>\n",
       "      <td>0</td>\n",
       "      <td>2</td>\n",
       "      <td>2006</td>\n",
       "      <td>WD</td>\n",
       "      <td>Abnorml</td>\n",
       "      <td>140000</td>\n",
       "      <td>2</td>\n",
       "    </tr>\n",
       "    <tr>\n",
       "      <th>5</th>\n",
       "      <td>6</td>\n",
       "      <td>50</td>\n",
       "      <td>RL</td>\n",
       "      <td>85.0</td>\n",
       "      <td>14115</td>\n",
       "      <td>Pave</td>\n",
       "      <td>NaN</td>\n",
       "      <td>IR1</td>\n",
       "      <td>Lvl</td>\n",
       "      <td>AllPub</td>\n",
       "      <td>...</td>\n",
       "      <td>NaN</td>\n",
       "      <td>MnPrv</td>\n",
       "      <td>Shed</td>\n",
       "      <td>700</td>\n",
       "      <td>10</td>\n",
       "      <td>2009</td>\n",
       "      <td>WD</td>\n",
       "      <td>Normal</td>\n",
       "      <td>143000</td>\n",
       "      <td>2</td>\n",
       "    </tr>\n",
       "    <tr>\n",
       "      <th>6</th>\n",
       "      <td>7</td>\n",
       "      <td>20</td>\n",
       "      <td>RL</td>\n",
       "      <td>75.0</td>\n",
       "      <td>10084</td>\n",
       "      <td>Pave</td>\n",
       "      <td>NaN</td>\n",
       "      <td>Reg</td>\n",
       "      <td>Lvl</td>\n",
       "      <td>AllPub</td>\n",
       "      <td>...</td>\n",
       "      <td>NaN</td>\n",
       "      <td>NaN</td>\n",
       "      <td>NaN</td>\n",
       "      <td>0</td>\n",
       "      <td>8</td>\n",
       "      <td>2007</td>\n",
       "      <td>WD</td>\n",
       "      <td>Normal</td>\n",
       "      <td>307000</td>\n",
       "      <td>4</td>\n",
       "    </tr>\n",
       "  </tbody>\n",
       "</table>\n",
       "<p>5 rows × 82 columns</p>\n",
       "</div>"
      ],
      "text/plain": [
       "   Id  MSSubClass MSZoning  LotFrontage  LotArea Street Alley LotShape  \\\n",
       "0   1          60       RL         65.0     8450   Pave   NaN      Reg   \n",
       "2   3          60       RL         68.0    11250   Pave   NaN      IR1   \n",
       "3   4          70       RL         60.0     9550   Pave   NaN      IR1   \n",
       "5   6          50       RL         85.0    14115   Pave   NaN      IR1   \n",
       "6   7          20       RL         75.0    10084   Pave   NaN      Reg   \n",
       "\n",
       "  LandContour Utilities  ... PoolQC  Fence MiscFeature MiscVal MoSold YrSold  \\\n",
       "0         Lvl    AllPub  ...    NaN    NaN         NaN       0      2   2008   \n",
       "2         Lvl    AllPub  ...    NaN    NaN         NaN       0      9   2008   \n",
       "3         Lvl    AllPub  ...    NaN    NaN         NaN       0      2   2006   \n",
       "5         Lvl    AllPub  ...    NaN  MnPrv        Shed     700     10   2009   \n",
       "6         Lvl    AllPub  ...    NaN    NaN         NaN       0      8   2007   \n",
       "\n",
       "  SaleType  SaleCondition  SalePrice  1stFlrSF_cat  \n",
       "0       WD         Normal     208500             2  \n",
       "2       WD         Normal     223500             2  \n",
       "3       WD        Abnorml     140000             2  \n",
       "5       WD         Normal     143000             2  \n",
       "6       WD         Normal     307000             4  \n",
       "\n",
       "[5 rows x 82 columns]"
      ]
     },
     "execution_count": 16,
     "metadata": {},
     "output_type": "execute_result"
    }
   ],
   "source": [
    "train_set.head()"
   ]
  },
  {
   "cell_type": "code",
   "execution_count": 17,
   "id": "d38a4017",
   "metadata": {
    "id": "d38a4017",
    "outputId": "6e14e6a0-30b4-4dec-df9e-01f0c1648a16"
   },
   "outputs": [
    {
     "data": {
      "text/plain": [
       "1169"
      ]
     },
     "execution_count": 17,
     "metadata": {},
     "output_type": "execute_result"
    }
   ],
   "source": [
    "len(train_set)"
   ]
  },
  {
   "cell_type": "code",
   "execution_count": 18,
   "id": "9f89527f",
   "metadata": {
    "id": "9f89527f",
    "outputId": "d28e5c65-1cfe-4f76-8b76-fa3f68008a94"
   },
   "outputs": [
    {
     "data": {
      "text/html": [
       "<div>\n",
       "<style scoped>\n",
       "    .dataframe tbody tr th:only-of-type {\n",
       "        vertical-align: middle;\n",
       "    }\n",
       "\n",
       "    .dataframe tbody tr th {\n",
       "        vertical-align: top;\n",
       "    }\n",
       "\n",
       "    .dataframe thead th {\n",
       "        text-align: right;\n",
       "    }\n",
       "</style>\n",
       "<table border=\"1\" class=\"dataframe\">\n",
       "  <thead>\n",
       "    <tr style=\"text-align: right;\">\n",
       "      <th></th>\n",
       "      <th>Id</th>\n",
       "      <th>MSSubClass</th>\n",
       "      <th>MSZoning</th>\n",
       "      <th>LotFrontage</th>\n",
       "      <th>LotArea</th>\n",
       "      <th>Street</th>\n",
       "      <th>Alley</th>\n",
       "      <th>LotShape</th>\n",
       "      <th>LandContour</th>\n",
       "      <th>Utilities</th>\n",
       "      <th>...</th>\n",
       "      <th>PoolQC</th>\n",
       "      <th>Fence</th>\n",
       "      <th>MiscFeature</th>\n",
       "      <th>MiscVal</th>\n",
       "      <th>MoSold</th>\n",
       "      <th>YrSold</th>\n",
       "      <th>SaleType</th>\n",
       "      <th>SaleCondition</th>\n",
       "      <th>SalePrice</th>\n",
       "      <th>1stFlrSF_cat</th>\n",
       "    </tr>\n",
       "  </thead>\n",
       "  <tbody>\n",
       "    <tr>\n",
       "      <th>1</th>\n",
       "      <td>2</td>\n",
       "      <td>20</td>\n",
       "      <td>RL</td>\n",
       "      <td>80.0</td>\n",
       "      <td>9600</td>\n",
       "      <td>Pave</td>\n",
       "      <td>NaN</td>\n",
       "      <td>Reg</td>\n",
       "      <td>Lvl</td>\n",
       "      <td>AllPub</td>\n",
       "      <td>...</td>\n",
       "      <td>NaN</td>\n",
       "      <td>NaN</td>\n",
       "      <td>NaN</td>\n",
       "      <td>0</td>\n",
       "      <td>5</td>\n",
       "      <td>2007</td>\n",
       "      <td>WD</td>\n",
       "      <td>Normal</td>\n",
       "      <td>181500</td>\n",
       "      <td>3</td>\n",
       "    </tr>\n",
       "    <tr>\n",
       "      <th>4</th>\n",
       "      <td>5</td>\n",
       "      <td>60</td>\n",
       "      <td>RL</td>\n",
       "      <td>84.0</td>\n",
       "      <td>14260</td>\n",
       "      <td>Pave</td>\n",
       "      <td>NaN</td>\n",
       "      <td>IR1</td>\n",
       "      <td>Lvl</td>\n",
       "      <td>AllPub</td>\n",
       "      <td>...</td>\n",
       "      <td>NaN</td>\n",
       "      <td>NaN</td>\n",
       "      <td>NaN</td>\n",
       "      <td>0</td>\n",
       "      <td>12</td>\n",
       "      <td>2008</td>\n",
       "      <td>WD</td>\n",
       "      <td>Normal</td>\n",
       "      <td>250000</td>\n",
       "      <td>3</td>\n",
       "    </tr>\n",
       "    <tr>\n",
       "      <th>11</th>\n",
       "      <td>12</td>\n",
       "      <td>60</td>\n",
       "      <td>RL</td>\n",
       "      <td>85.0</td>\n",
       "      <td>11924</td>\n",
       "      <td>Pave</td>\n",
       "      <td>NaN</td>\n",
       "      <td>IR1</td>\n",
       "      <td>Lvl</td>\n",
       "      <td>AllPub</td>\n",
       "      <td>...</td>\n",
       "      <td>NaN</td>\n",
       "      <td>NaN</td>\n",
       "      <td>NaN</td>\n",
       "      <td>0</td>\n",
       "      <td>7</td>\n",
       "      <td>2006</td>\n",
       "      <td>New</td>\n",
       "      <td>Partial</td>\n",
       "      <td>345000</td>\n",
       "      <td>3</td>\n",
       "    </tr>\n",
       "    <tr>\n",
       "      <th>15</th>\n",
       "      <td>16</td>\n",
       "      <td>45</td>\n",
       "      <td>RM</td>\n",
       "      <td>51.0</td>\n",
       "      <td>6120</td>\n",
       "      <td>Pave</td>\n",
       "      <td>NaN</td>\n",
       "      <td>Reg</td>\n",
       "      <td>Lvl</td>\n",
       "      <td>AllPub</td>\n",
       "      <td>...</td>\n",
       "      <td>NaN</td>\n",
       "      <td>GdPrv</td>\n",
       "      <td>NaN</td>\n",
       "      <td>0</td>\n",
       "      <td>7</td>\n",
       "      <td>2007</td>\n",
       "      <td>WD</td>\n",
       "      <td>Normal</td>\n",
       "      <td>132000</td>\n",
       "      <td>2</td>\n",
       "    </tr>\n",
       "    <tr>\n",
       "      <th>22</th>\n",
       "      <td>23</td>\n",
       "      <td>20</td>\n",
       "      <td>RL</td>\n",
       "      <td>75.0</td>\n",
       "      <td>9742</td>\n",
       "      <td>Pave</td>\n",
       "      <td>NaN</td>\n",
       "      <td>Reg</td>\n",
       "      <td>Lvl</td>\n",
       "      <td>AllPub</td>\n",
       "      <td>...</td>\n",
       "      <td>NaN</td>\n",
       "      <td>NaN</td>\n",
       "      <td>NaN</td>\n",
       "      <td>0</td>\n",
       "      <td>9</td>\n",
       "      <td>2008</td>\n",
       "      <td>WD</td>\n",
       "      <td>Normal</td>\n",
       "      <td>230000</td>\n",
       "      <td>4</td>\n",
       "    </tr>\n",
       "  </tbody>\n",
       "</table>\n",
       "<p>5 rows × 82 columns</p>\n",
       "</div>"
      ],
      "text/plain": [
       "    Id  MSSubClass MSZoning  LotFrontage  LotArea Street Alley LotShape  \\\n",
       "1    2          20       RL         80.0     9600   Pave   NaN      Reg   \n",
       "4    5          60       RL         84.0    14260   Pave   NaN      IR1   \n",
       "11  12          60       RL         85.0    11924   Pave   NaN      IR1   \n",
       "15  16          45       RM         51.0     6120   Pave   NaN      Reg   \n",
       "22  23          20       RL         75.0     9742   Pave   NaN      Reg   \n",
       "\n",
       "   LandContour Utilities  ... PoolQC  Fence MiscFeature MiscVal MoSold YrSold  \\\n",
       "1          Lvl    AllPub  ...    NaN    NaN         NaN       0      5   2007   \n",
       "4          Lvl    AllPub  ...    NaN    NaN         NaN       0     12   2008   \n",
       "11         Lvl    AllPub  ...    NaN    NaN         NaN       0      7   2006   \n",
       "15         Lvl    AllPub  ...    NaN  GdPrv         NaN       0      7   2007   \n",
       "22         Lvl    AllPub  ...    NaN    NaN         NaN       0      9   2008   \n",
       "\n",
       "   SaleType  SaleCondition  SalePrice  1stFlrSF_cat  \n",
       "1        WD         Normal     181500             3  \n",
       "4        WD         Normal     250000             3  \n",
       "11      New        Partial     345000             3  \n",
       "15       WD         Normal     132000             2  \n",
       "22       WD         Normal     230000             4  \n",
       "\n",
       "[5 rows x 82 columns]"
      ]
     },
     "execution_count": 18,
     "metadata": {},
     "output_type": "execute_result"
    }
   ],
   "source": [
    "test_set.head()"
   ]
  },
  {
   "cell_type": "code",
   "execution_count": 19,
   "id": "e0aff104",
   "metadata": {
    "id": "e0aff104",
    "outputId": "6c9d02f8-cebc-400f-e6b1-c2effb3702b5"
   },
   "outputs": [
    {
     "data": {
      "text/plain": [
       "291"
      ]
     },
     "execution_count": 19,
     "metadata": {},
     "output_type": "execute_result"
    }
   ],
   "source": [
    "len(test_set)"
   ]
  },
  {
   "cell_type": "code",
   "execution_count": 20,
   "id": "adbeb7ba",
   "metadata": {
    "id": "adbeb7ba",
    "outputId": "258d722d-ebc5-4045-b25f-cbf6a16268e5"
   },
   "outputs": [
    {
     "data": {
      "text/plain": [
       "3    0.413014\n",
       "2    0.391781\n",
       "4    0.159589\n",
       "5    0.027397\n",
       "1    0.008219\n",
       "6    0.000000\n",
       "Name: 1stFlrSF_cat, dtype: float64"
      ]
     },
     "execution_count": 20,
     "metadata": {},
     "output_type": "execute_result"
    }
   ],
   "source": [
    "housing['1stFlrSF_cat'].value_counts()/len(housing['1stFlrSF_cat'])"
   ]
  },
  {
   "cell_type": "code",
   "execution_count": 21,
   "id": "5574550a",
   "metadata": {
    "id": "5574550a",
    "outputId": "ba0c9e05-8bfc-4c92-cc82-aaffe215eb57"
   },
   "outputs": [
    {
     "data": {
      "text/plain": [
       "3    0.336301\n",
       "2    0.315068\n",
       "4    0.118493\n",
       "5    0.023288\n",
       "1    0.007534\n",
       "6    0.000000\n",
       "Name: 1stFlrSF_cat, dtype: float64"
      ]
     },
     "execution_count": 21,
     "metadata": {},
     "output_type": "execute_result"
    }
   ],
   "source": [
    "train_set['1stFlrSF_cat'].value_counts()/len(housing['1stFlrSF_cat'])"
   ]
  },
  {
   "cell_type": "code",
   "execution_count": 22,
   "id": "a85f8fb3",
   "metadata": {
    "id": "a85f8fb3"
   },
   "outputs": [],
   "source": [
    "#Let's to stratified sampling in order to make sure that the test and train set have similar representation \n",
    "#    on 1st floor square foot"
   ]
  },
  {
   "cell_type": "code",
   "execution_count": 8,
   "id": "4b523bb4",
   "metadata": {
    "id": "4b523bb4"
   },
   "outputs": [],
   "source": [
    "from sklearn.model_selection import StratifiedShuffleSplit\n",
    "split = StratifiedShuffleSplit(n_splits=1, test_size=0.2, random_state=42)\n",
    "for train_index, test_index in split.split(housing, housing[\"1stFlrSF_cat\"]):\n",
    "    strat_train_set = housing.loc[train_index]\n",
    "    strat_test_set = housing.loc[test_index]"
   ]
  },
  {
   "cell_type": "code",
   "execution_count": 9,
   "id": "b0b13b9b",
   "metadata": {
    "id": "b0b13b9b",
    "outputId": "65632d76-6c86-4062-df89-75a5eddf72c7"
   },
   "outputs": [
    {
     "data": {
      "text/plain": [
       "3    0.330137\n",
       "2    0.313699\n",
       "4    0.127397\n",
       "5    0.021918\n",
       "1    0.006849\n",
       "6    0.000000\n",
       "Name: 1stFlrSF_cat, dtype: float64"
      ]
     },
     "execution_count": 9,
     "metadata": {},
     "output_type": "execute_result"
    }
   ],
   "source": [
    "strat_train_set[\"1stFlrSF_cat\"].value_counts()/len(housing['1stFlrSF_cat'])\n",
    "#As you can see below, the square feet category is represented more accurately than in the initial training set \n",
    "## (although its was not too far off in the first place)\n",
    "\n",
    "#Same result because of random state = fixed"
   ]
  },
  {
   "cell_type": "markdown",
   "id": "459db378",
   "metadata": {},
   "source": [
    "Above same resul if run again because of markdown"
   ]
  },
  {
   "cell_type": "code",
   "execution_count": 10,
   "id": "d63aa801",
   "metadata": {
    "id": "d63aa801"
   },
   "outputs": [],
   "source": [
    "#Now remove the [\"1stFlrSF_cat\"] to get the data back at its original state"
   ]
  },
  {
   "cell_type": "code",
   "execution_count": 11,
   "id": "fb611ff5",
   "metadata": {
    "id": "fb611ff5"
   },
   "outputs": [],
   "source": [
    "for set_ in (strat_train_set, strat_test_set):\n",
    "    set_.drop(\"1stFlrSF_cat\", axis=1, inplace=True)\n"
   ]
  },
  {
   "cell_type": "code",
   "execution_count": 27,
   "id": "d6269158",
   "metadata": {},
   "outputs": [],
   "source": [
    "#strat_train_set.columns"
   ]
  },
  {
   "cell_type": "code",
   "execution_count": null,
   "id": "87be10dc",
   "metadata": {},
   "outputs": [],
   "source": []
  },
  {
   "cell_type": "code",
   "execution_count": 28,
   "id": "3ad6d84a",
   "metadata": {
    "id": "3ad6d84a"
   },
   "outputs": [],
   "source": [
    "### done for 2. Get the data"
   ]
  },
  {
   "cell_type": "markdown",
   "id": "65e63ec0",
   "metadata": {
    "id": "65e63ec0"
   },
   "source": [
    "# 3. Explore the data to gain insights"
   ]
  },
  {
   "cell_type": "code",
   "execution_count": 29,
   "id": "3aa16279",
   "metadata": {
    "id": "3aa16279"
   },
   "outputs": [
    {
     "data": {
      "text/plain": [
       "SalePrice       1.000000\n",
       "OverallQual     0.790982\n",
       "GrLivArea       0.708624\n",
       "GarageCars      0.640409\n",
       "GarageArea      0.623431\n",
       "TotalBsmtSF     0.613581\n",
       "1stFlrSF        0.605852\n",
       "FullBath        0.560664\n",
       "TotRmsAbvGrd    0.533723\n",
       "YearBuilt       0.522897\n",
       "Name: SalePrice, dtype: float64"
      ]
     },
     "execution_count": 29,
     "metadata": {},
     "output_type": "execute_result"
    }
   ],
   "source": [
    "corr_matrix = housing.corr()\n",
    "corr_matrix[\"SalePrice\"].sort_values(ascending=False)[:10]"
   ]
  },
  {
   "cell_type": "code",
   "execution_count": 30,
   "id": "237aa898",
   "metadata": {},
   "outputs": [
    {
     "data": {
      "text/plain": [
       "KitchenAbvGr    -0.135907\n",
       "EnclosedPorch   -0.128578\n",
       "MSSubClass      -0.084284\n",
       "OverallCond     -0.077856\n",
       "YrSold          -0.028923\n",
       "LowQualFinSF    -0.025606\n",
       "Id              -0.021917\n",
       "MiscVal         -0.021190\n",
       "BsmtHalfBath    -0.016844\n",
       "BsmtFinSF2      -0.011378\n",
       "Name: SalePrice, dtype: float64"
      ]
     },
     "execution_count": 30,
     "metadata": {},
     "output_type": "execute_result"
    }
   ],
   "source": [
    "corr_matrix[\"SalePrice\"].sort_values(ascending=True)[:10]"
   ]
  },
  {
   "cell_type": "code",
   "execution_count": 31,
   "id": "a2e66150",
   "metadata": {
    "id": "a2e66150",
    "scrolled": true
   },
   "outputs": [
    {
     "data": {
      "text/plain": [
       "array([[<AxesSubplot:xlabel='SalePrice', ylabel='SalePrice'>,\n",
       "        <AxesSubplot:xlabel='OverallQual', ylabel='SalePrice'>,\n",
       "        <AxesSubplot:xlabel='GrLivArea', ylabel='SalePrice'>,\n",
       "        <AxesSubplot:xlabel='GarageCars', ylabel='SalePrice'>],\n",
       "       [<AxesSubplot:xlabel='SalePrice', ylabel='OverallQual'>,\n",
       "        <AxesSubplot:xlabel='OverallQual', ylabel='OverallQual'>,\n",
       "        <AxesSubplot:xlabel='GrLivArea', ylabel='OverallQual'>,\n",
       "        <AxesSubplot:xlabel='GarageCars', ylabel='OverallQual'>],\n",
       "       [<AxesSubplot:xlabel='SalePrice', ylabel='GrLivArea'>,\n",
       "        <AxesSubplot:xlabel='OverallQual', ylabel='GrLivArea'>,\n",
       "        <AxesSubplot:xlabel='GrLivArea', ylabel='GrLivArea'>,\n",
       "        <AxesSubplot:xlabel='GarageCars', ylabel='GrLivArea'>],\n",
       "       [<AxesSubplot:xlabel='SalePrice', ylabel='GarageCars'>,\n",
       "        <AxesSubplot:xlabel='OverallQual', ylabel='GarageCars'>,\n",
       "        <AxesSubplot:xlabel='GrLivArea', ylabel='GarageCars'>,\n",
       "        <AxesSubplot:xlabel='GarageCars', ylabel='GarageCars'>]],\n",
       "      dtype=object)"
      ]
     },
     "execution_count": 31,
     "metadata": {},
     "output_type": "execute_result"
    },
    {
     "data": {
      "image/png": "[encoded data removed]",
      "text/plain": [
       "<Figure size 864x576 with 16 Axes>"
      ]
     },
     "metadata": {
      "needs_background": "light"
     },
     "output_type": "display_data"
    }
   ],
   "source": [
    "#Plot corelations between most promising attributes\n",
    "\n",
    "from pandas.plotting import scatter_matrix\n",
    "\n",
    "attributes = ['SalePrice', 'OverallQual', 'GrLivArea', 'GarageCars']\n",
    "scatter_matrix(housing[attributes], figsize=(12,8))"
   ]
  },
  {
   "cell_type": "code",
   "execution_count": 32,
   "id": "af7dd00a",
   "metadata": {},
   "outputs": [
    {
     "data": {
      "text/plain": [
       "array([[<AxesSubplot:xlabel='SalePrice', ylabel='SalePrice'>,\n",
       "        <AxesSubplot:xlabel='OverallQual', ylabel='SalePrice'>],\n",
       "       [<AxesSubplot:xlabel='SalePrice', ylabel='OverallQual'>,\n",
       "        <AxesSubplot:xlabel='OverallQual', ylabel='OverallQual'>]],\n",
       "      dtype=object)"
      ]
     },
     "execution_count": 32,
     "metadata": {},
     "output_type": "execute_result"
    },
    {
     "data": {
      "image/png": "[encoded data removed]",
      "text/plain": [
       "<Figure size 864x576 with 4 Axes>"
      ]
     },
     "metadata": {
      "needs_background": "light"
     },
     "output_type": "display_data"
    }
   ],
   "source": [
    "attributes =[\"SalePrice\", 'OverallQual']\n",
    "scatter_matrix(housing[attributes], figsize=(12,8))"
   ]
  },
  {
   "cell_type": "markdown",
   "id": "03c50b33",
   "metadata": {
    "id": "03c50b33"
   },
   "source": [
    "# 4. Prepare the data to better expose underlying data patterns to Machine Learning algorithms"
   ]
  },
  {
   "cell_type": "markdown",
   "id": "0b32fee6",
   "metadata": {},
   "source": [
    "### Preparing the data for machine learning algorithms"
   ]
  },
  {
   "cell_type": "code",
   "execution_count": 33,
   "id": "2472cd7b",
   "metadata": {},
   "outputs": [],
   "source": [
    "#Writing functions to transform the data\n",
    "\n",
    "# Let's start with writing functions to take care of missing features"
   ]
  },
  {
   "cell_type": "code",
   "execution_count": 12,
   "id": "e530da25",
   "metadata": {},
   "outputs": [],
   "source": [
    "#Creating a copy of the training set and storing the labels seperately\n",
    "housing = strat_train_set.drop(\"SalePrice\", axis=1)\n",
    "housing_labels = strat_train_set[\"SalePrice\"].copy()"
   ]
  },
  {
   "cell_type": "code",
   "execution_count": 13,
   "id": "8d9077e4",
   "metadata": {},
   "outputs": [],
   "source": [
    "#Get rid of the row\n",
    "#Get rid of the attribute\n",
    "#Set values to zero\n",
    "median = housing[\"LotFrontage\"].median()\n",
    "housing[\"LotFrontage\"].fillna(median, inplace=True)"
   ]
  },
  {
   "cell_type": "code",
   "execution_count": 36,
   "id": "ff6ba83e",
   "metadata": {},
   "outputs": [
    {
     "name": "stdout",
     "output_type": "stream",
     "text": [
      "<class 'pandas.core.frame.DataFrame'>\n",
      "Int64Index: 1168 entries, 646 to 721\n",
      "Data columns (total 80 columns):\n",
      " #   Column         Non-Null Count  Dtype  \n",
      "---  ------         --------------  -----  \n",
      " 0   Id             1168 non-null   int64  \n",
      " 1   MSSubClass     1168 non-null   int64  \n",
      " 2   MSZoning       1168 non-null   object \n",
      " 3   LotFrontage    1168 non-null   float64\n",
      " 4   LotArea        1168 non-null   int64  \n",
      " 5   Street         1168 non-null   object \n",
      " 6   Alley          78 non-null     object \n",
      " 7   LotShape       1168 non-null   object \n",
      " 8   LandContour    1168 non-null   object \n",
      " 9   Utilities      1168 non-null   object \n",
      " 10  LotConfig      1168 non-null   object \n",
      " 11  LandSlope      1168 non-null   object \n",
      " 12  Neighborhood   1168 non-null   object \n",
      " 13  Condition1     1168 non-null   object \n",
      " 14  Condition2     1168 non-null   object \n",
      " 15  BldgType       1168 non-null   object \n",
      " 16  HouseStyle     1168 non-null   object \n",
      " 17  OverallQual    1168 non-null   int64  \n",
      " 18  OverallCond    1168 non-null   int64  \n",
      " 19  YearBuilt      1168 non-null   int64  \n",
      " 20  YearRemodAdd   1168 non-null   int64  \n",
      " 21  RoofStyle      1168 non-null   object \n",
      " 22  RoofMatl       1168 non-null   object \n",
      " 23  Exterior1st    1168 non-null   object \n",
      " 24  Exterior2nd    1168 non-null   object \n",
      " 25  MasVnrType     1162 non-null   object \n",
      " 26  MasVnrArea     1162 non-null   float64\n",
      " 27  ExterQual      1168 non-null   object \n",
      " 28  ExterCond      1168 non-null   object \n",
      " 29  Foundation     1168 non-null   object \n",
      " 30  BsmtQual       1144 non-null   object \n",
      " 31  BsmtCond       1144 non-null   object \n",
      " 32  BsmtExposure   1143 non-null   object \n",
      " 33  BsmtFinType1   1144 non-null   object \n",
      " 34  BsmtFinSF1     1168 non-null   int64  \n",
      " 35  BsmtFinType2   1143 non-null   object \n",
      " 36  BsmtFinSF2     1168 non-null   int64  \n",
      " 37  BsmtUnfSF      1168 non-null   int64  \n",
      " 38  TotalBsmtSF    1168 non-null   int64  \n",
      " 39  Heating        1168 non-null   object \n",
      " 40  HeatingQC      1168 non-null   object \n",
      " 41  CentralAir     1168 non-null   object \n",
      " 42  Electrical     1167 non-null   object \n",
      " 43  1stFlrSF       1168 non-null   int64  \n",
      " 44  2ndFlrSF       1168 non-null   int64  \n",
      " 45  LowQualFinSF   1168 non-null   int64  \n",
      " 46  GrLivArea      1168 non-null   int64  \n",
      " 47  BsmtFullBath   1168 non-null   int64  \n",
      " 48  BsmtHalfBath   1168 non-null   int64  \n",
      " 49  FullBath       1168 non-null   int64  \n",
      " 50  HalfBath       1168 non-null   int64  \n",
      " 51  BedroomAbvGr   1168 non-null   int64  \n",
      " 52  KitchenAbvGr   1168 non-null   int64  \n",
      " 53  KitchenQual    1168 non-null   object \n",
      " 54  TotRmsAbvGrd   1168 non-null   int64  \n",
      " 55  Functional     1168 non-null   object \n",
      " 56  Fireplaces     1168 non-null   int64  \n",
      " 57  FireplaceQu    616 non-null    object \n",
      " 58  GarageType     1108 non-null   object \n",
      " 59  GarageYrBlt    1108 non-null   float64\n",
      " 60  GarageFinish   1108 non-null   object \n",
      " 61  GarageCars     1168 non-null   int64  \n",
      " 62  GarageArea     1168 non-null   int64  \n",
      " 63  GarageQual     1108 non-null   object \n",
      " 64  GarageCond     1108 non-null   object \n",
      " 65  PavedDrive     1168 non-null   object \n",
      " 66  WoodDeckSF     1168 non-null   int64  \n",
      " 67  OpenPorchSF    1168 non-null   int64  \n",
      " 68  EnclosedPorch  1168 non-null   int64  \n",
      " 69  3SsnPorch      1168 non-null   int64  \n",
      " 70  ScreenPorch    1168 non-null   int64  \n",
      " 71  PoolArea       1168 non-null   int64  \n",
      " 72  PoolQC         4 non-null      object \n",
      " 73  Fence          224 non-null    object \n",
      " 74  MiscFeature    41 non-null     object \n",
      " 75  MiscVal        1168 non-null   int64  \n",
      " 76  MoSold         1168 non-null   int64  \n",
      " 77  YrSold         1168 non-null   int64  \n",
      " 78  SaleType       1168 non-null   object \n",
      " 79  SaleCondition  1168 non-null   object \n",
      "dtypes: float64(3), int64(34), object(43)\n",
      "memory usage: 739.1+ KB\n"
     ]
    }
   ],
   "source": [
    "housing.info()\n",
    "#LotFrontage has been filled"
   ]
  },
  {
   "cell_type": "code",
   "execution_count": 14,
   "id": "5ae81b86",
   "metadata": {},
   "outputs": [],
   "source": [
    "#Now let's use SciKit's simple Imputer\n",
    "from sklearn.impute import SimpleImputer\n",
    "\n",
    "imputer = SimpleImputer(strategy=\"constant\", fill_value=0)"
   ]
  },
  {
   "cell_type": "code",
   "execution_count": 15,
   "id": "6b5e828f",
   "metadata": {},
   "outputs": [],
   "source": [
    "#This imputer can only be applied on numerical values, therefore we create a copy of the data without text attributes"
   ]
  },
  {
   "cell_type": "code",
   "execution_count": 16,
   "id": "a52bd0be",
   "metadata": {},
   "outputs": [
    {
     "name": "stdout",
     "output_type": "stream",
     "text": [
      "<class 'pandas.core.frame.DataFrame'>\n",
      "Int64Index: 1168 entries, 646 to 721\n",
      "Data columns (total 37 columns):\n",
      " #   Column         Non-Null Count  Dtype  \n",
      "---  ------         --------------  -----  \n",
      " 0   Id             1168 non-null   int64  \n",
      " 1   MSSubClass     1168 non-null   int64  \n",
      " 2   LotFrontage    1168 non-null   float64\n",
      " 3   LotArea        1168 non-null   int64  \n",
      " 4   OverallQual    1168 non-null   int64  \n",
      " 5   OverallCond    1168 non-null   int64  \n",
      " 6   YearBuilt      1168 non-null   int64  \n",
      " 7   YearRemodAdd   1168 non-null   int64  \n",
      " 8   MasVnrArea     1162 non-null   float64\n",
      " 9   BsmtFinSF1     1168 non-null   int64  \n",
      " 10  BsmtFinSF2     1168 non-null   int64  \n",
      " 11  BsmtUnfSF      1168 non-null   int64  \n",
      " 12  TotalBsmtSF    1168 non-null   int64  \n",
      " 13  1stFlrSF       1168 non-null   int64  \n",
      " 14  2ndFlrSF       1168 non-null   int64  \n",
      " 15  LowQualFinSF   1168 non-null   int64  \n",
      " 16  GrLivArea      1168 non-null   int64  \n",
      " 17  BsmtFullBath   1168 non-null   int64  \n",
      " 18  BsmtHalfBath   1168 non-null   int64  \n",
      " 19  FullBath       1168 non-null   int64  \n",
      " 20  HalfBath       1168 non-null   int64  \n",
      " 21  BedroomAbvGr   1168 non-null   int64  \n",
      " 22  KitchenAbvGr   1168 non-null   int64  \n",
      " 23  TotRmsAbvGrd   1168 non-null   int64  \n",
      " 24  Fireplaces     1168 non-null   int64  \n",
      " 25  GarageYrBlt    1108 non-null   float64\n",
      " 26  GarageCars     1168 non-null   int64  \n",
      " 27  GarageArea     1168 non-null   int64  \n",
      " 28  WoodDeckSF     1168 non-null   int64  \n",
      " 29  OpenPorchSF    1168 non-null   int64  \n",
      " 30  EnclosedPorch  1168 non-null   int64  \n",
      " 31  3SsnPorch      1168 non-null   int64  \n",
      " 32  ScreenPorch    1168 non-null   int64  \n",
      " 33  PoolArea       1168 non-null   int64  \n",
      " 34  MiscVal        1168 non-null   int64  \n",
      " 35  MoSold         1168 non-null   int64  \n",
      " 36  YrSold         1168 non-null   int64  \n",
      "dtypes: float64(3), int64(34)\n",
      "memory usage: 346.8 KB\n"
     ]
    }
   ],
   "source": [
    "housing_num = housing.select_dtypes(include=['int64','float64'])\n",
    "housing_num.info()\n",
    "\n",
    "#It worked (not from the textbook)"
   ]
  },
  {
   "cell_type": "code",
   "execution_count": 17,
   "id": "953f7f66",
   "metadata": {},
   "outputs": [
    {
     "data": {
      "text/html": [
       "<style>#sk-container-id-1 {color: black;background-color: white;}#sk-container-id-1 pre{padding: 0;}#sk-container-id-1 div.sk-toggleable {background-color: white;}#sk-container-id-1 label.sk-toggleable__label {cursor: pointer;display: block;width: 100%;margin-bottom: 0;padding: 0.3em;box-sizing: border-box;text-align: center;}#sk-container-id-1 label.sk-toggleable__label-arrow:before {content: \"▸\";float: left;margin-right: 0.25em;color: #696969;}#sk-container-id-1 label.sk-toggleable__label-arrow:hover:before {color: black;}#sk-container-id-1 div.sk-estimator:hover label.sk-toggleable__label-arrow:before {color: black;}#sk-container-id-1 div.sk-toggleable__content {max-height: 0;max-width: 0;overflow: hidden;text-align: left;background-color: #f0f8ff;}#sk-container-id-1 div.sk-toggleable__content pre {margin: 0.2em;color: black;border-radius: 0.25em;background-color: #f0f8ff;}#sk-container-id-1 input.sk-toggleable__control:checked~div.sk-toggleable__content {max-height: 200px;max-width: 100%;overflow: auto;}#sk-container-id-1 input.sk-toggleable__control:checked~label.sk-toggleable__label-arrow:before {content: \"▾\";}#sk-container-id-1 div.sk-estimator input.sk-toggleable__control:checked~label.sk-toggleable__label {background-color: #d4ebff;}#sk-container-id-1 div.sk-label input.sk-toggleable__control:checked~label.sk-toggleable__label {background-color: #d4ebff;}#sk-container-id-1 input.sk-hidden--visually {border: 0;clip: rect(1px 1px 1px 1px);clip: rect(1px, 1px, 1px, 1px);height: 1px;margin: -1px;overflow: hidden;padding: 0;position: absolute;width: 1px;}#sk-container-id-1 div.sk-estimator {font-family: monospace;background-color: #f0f8ff;border: 1px dotted black;border-radius: 0.25em;box-sizing: border-box;margin-bottom: 0.5em;}#sk-container-id-1 div.sk-estimator:hover {background-color: #d4ebff;}#sk-container-id-1 div.sk-parallel-item::after {content: \"\";width: 100%;border-bottom: 1px solid gray;flex-grow: 1;}#sk-container-id-1 div.sk-label:hover label.sk-toggleable__label {background-color: #d4ebff;}#sk-container-id-1 div.sk-serial::before {content: \"\";position: absolute;border-left: 1px solid gray;box-sizing: border-box;top: 0;bottom: 0;left: 50%;z-index: 0;}#sk-container-id-1 div.sk-serial {display: flex;flex-direction: column;align-items: center;background-color: white;padding-right: 0.2em;padding-left: 0.2em;position: relative;}#sk-container-id-1 div.sk-item {position: relative;z-index: 1;}#sk-container-id-1 div.sk-parallel {display: flex;align-items: stretch;justify-content: center;background-color: white;position: relative;}#sk-container-id-1 div.sk-item::before, #sk-container-id-1 div.sk-parallel-item::before {content: \"\";position: absolute;border-left: 1px solid gray;box-sizing: border-box;top: 0;bottom: 0;left: 50%;z-index: -1;}#sk-container-id-1 div.sk-parallel-item {display: flex;flex-direction: column;z-index: 1;position: relative;background-color: white;}#sk-container-id-1 div.sk-parallel-item:first-child::after {align-self: flex-end;width: 50%;}#sk-container-id-1 div.sk-parallel-item:last-child::after {align-self: flex-start;width: 50%;}#sk-container-id-1 div.sk-parallel-item:only-child::after {width: 0;}#sk-container-id-1 div.sk-dashed-wrapped {border: 1px dashed gray;margin: 0 0.4em 0.5em 0.4em;box-sizing: border-box;padding-bottom: 0.4em;background-color: white;}#sk-container-id-1 div.sk-label label {font-family: monospace;font-weight: bold;display: inline-block;line-height: 1.2em;}#sk-container-id-1 div.sk-label-container {text-align: center;}#sk-container-id-1 div.sk-container {/* jupyter's `normalize.less` sets `[hidden] { display: none; }` but bootstrap.min.css set `[hidden] { display: none !important; }` so we also need the `!important` here to be able to override the default hidden behavior on the sphinx rendered scikit-learn.org. See: https://github.com/scikit-learn/scikit-learn/issues/21755 */display: inline-block !important;position: relative;}#sk-container-id-1 div.sk-text-repr-fallback {display: none;}</style><div id=\"sk-container-id-1\" class=\"sk-top-container\"><div class=\"sk-text-repr-fallback\"><pre>SimpleImputer(fill_value=0, strategy=&#x27;constant&#x27;)</pre><b>In a Jupyter environment, please rerun this cell to show the HTML representation or trust the notebook. <br />On GitHub, the HTML representation is unable to render, please try loading this page with nbviewer.org.</b></div><div class=\"sk-container\" hidden><div class=\"sk-item\"><div class=\"sk-estimator sk-toggleable\"><input class=\"sk-toggleable__control sk-hidden--visually\" id=\"sk-estimator-id-1\" type=\"checkbox\" checked><label for=\"sk-estimator-id-1\" class=\"sk-toggleable__label sk-toggleable__label-arrow\">SimpleImputer</label><div class=\"sk-toggleable__content\"><pre>SimpleImputer(fill_value=0, strategy=&#x27;constant&#x27;)</pre></div></div></div></div></div>"
      ],
      "text/plain": [
       "SimpleImputer(fill_value=0, strategy='constant')"
      ]
     },
     "execution_count": 17,
     "metadata": {},
     "output_type": "execute_result"
    }
   ],
   "source": [
    "imputer.fit(housing_num)"
   ]
  },
  {
   "cell_type": "code",
   "execution_count": 18,
   "id": "987a6118",
   "metadata": {},
   "outputs": [
    {
     "data": {
      "text/plain": [
       "array([0., 0., 0., 0., 0., 0., 0., 0., 0., 0., 0., 0., 0., 0., 0., 0., 0.,\n",
       "       0., 0., 0., 0., 0., 0., 0., 0., 0., 0., 0., 0., 0., 0., 0., 0., 0.,\n",
       "       0., 0., 0.])"
      ]
     },
     "execution_count": 18,
     "metadata": {},
     "output_type": "execute_result"
    }
   ],
   "source": [
    "imputer.statistics_\n",
    "#This example is not so interesting as I only put in 0's if missing"
   ]
  },
  {
   "cell_type": "code",
   "execution_count": 19,
   "id": "f700f156",
   "metadata": {},
   "outputs": [],
   "source": [
    "#Creating an array with the transformed features\n",
    "X = imputer.transform(housing_num)\n",
    "\n",
    "#putting it back in a datafram\n",
    "housing_tr = pd.DataFrame(X, columns=housing_num.columns,\n",
    "                         index= housing_num.index)"
   ]
  },
  {
   "cell_type": "code",
   "execution_count": 20,
   "id": "7a4a5549",
   "metadata": {},
   "outputs": [
    {
     "name": "stdout",
     "output_type": "stream",
     "text": [
      "<class 'pandas.core.frame.DataFrame'>\n",
      "Int64Index: 1168 entries, 646 to 721\n",
      "Data columns (total 37 columns):\n",
      " #   Column         Non-Null Count  Dtype  \n",
      "---  ------         --------------  -----  \n",
      " 0   Id             1168 non-null   float64\n",
      " 1   MSSubClass     1168 non-null   float64\n",
      " 2   LotFrontage    1168 non-null   float64\n",
      " 3   LotArea        1168 non-null   float64\n",
      " 4   OverallQual    1168 non-null   float64\n",
      " 5   OverallCond    1168 non-null   float64\n",
      " 6   YearBuilt      1168 non-null   float64\n",
      " 7   YearRemodAdd   1168 non-null   float64\n",
      " 8   MasVnrArea     1168 non-null   float64\n",
      " 9   BsmtFinSF1     1168 non-null   float64\n",
      " 10  BsmtFinSF2     1168 non-null   float64\n",
      " 11  BsmtUnfSF      1168 non-null   float64\n",
      " 12  TotalBsmtSF    1168 non-null   float64\n",
      " 13  1stFlrSF       1168 non-null   float64\n",
      " 14  2ndFlrSF       1168 non-null   float64\n",
      " 15  LowQualFinSF   1168 non-null   float64\n",
      " 16  GrLivArea      1168 non-null   float64\n",
      " 17  BsmtFullBath   1168 non-null   float64\n",
      " 18  BsmtHalfBath   1168 non-null   float64\n",
      " 19  FullBath       1168 non-null   float64\n",
      " 20  HalfBath       1168 non-null   float64\n",
      " 21  BedroomAbvGr   1168 non-null   float64\n",
      " 22  KitchenAbvGr   1168 non-null   float64\n",
      " 23  TotRmsAbvGrd   1168 non-null   float64\n",
      " 24  Fireplaces     1168 non-null   float64\n",
      " 25  GarageYrBlt    1168 non-null   float64\n",
      " 26  GarageCars     1168 non-null   float64\n",
      " 27  GarageArea     1168 non-null   float64\n",
      " 28  WoodDeckSF     1168 non-null   float64\n",
      " 29  OpenPorchSF    1168 non-null   float64\n",
      " 30  EnclosedPorch  1168 non-null   float64\n",
      " 31  3SsnPorch      1168 non-null   float64\n",
      " 32  ScreenPorch    1168 non-null   float64\n",
      " 33  PoolArea       1168 non-null   float64\n",
      " 34  MiscVal        1168 non-null   float64\n",
      " 35  MoSold         1168 non-null   float64\n",
      " 36  YrSold         1168 non-null   float64\n",
      "dtypes: float64(37)\n",
      "memory usage: 346.8 KB\n"
     ]
    }
   ],
   "source": [
    "#Now you can see it's all filled\n",
    "housing_tr.info()"
   ]
  },
  {
   "cell_type": "markdown",
   "id": "6f108058",
   "metadata": {},
   "source": [
    "### handling text and categorical attributes"
   ]
  },
  {
   "cell_type": "code",
   "execution_count": 21,
   "id": "0697bab1",
   "metadata": {},
   "outputs": [
    {
     "name": "stdout",
     "output_type": "stream",
     "text": [
      "<class 'pandas.core.frame.DataFrame'>\n",
      "Int64Index: 1168 entries, 646 to 721\n",
      "Data columns (total 43 columns):\n",
      " #   Column         Non-Null Count  Dtype \n",
      "---  ------         --------------  ----- \n",
      " 0   MSZoning       1168 non-null   object\n",
      " 1   Street         1168 non-null   object\n",
      " 2   Alley          78 non-null     object\n",
      " 3   LotShape       1168 non-null   object\n",
      " 4   LandContour    1168 non-null   object\n",
      " 5   Utilities      1168 non-null   object\n",
      " 6   LotConfig      1168 non-null   object\n",
      " 7   LandSlope      1168 non-null   object\n",
      " 8   Neighborhood   1168 non-null   object\n",
      " 9   Condition1     1168 non-null   object\n",
      " 10  Condition2     1168 non-null   object\n",
      " 11  BldgType       1168 non-null   object\n",
      " 12  HouseStyle     1168 non-null   object\n",
      " 13  RoofStyle      1168 non-null   object\n",
      " 14  RoofMatl       1168 non-null   object\n",
      " 15  Exterior1st    1168 non-null   object\n",
      " 16  Exterior2nd    1168 non-null   object\n",
      " 17  MasVnrType     1162 non-null   object\n",
      " 18  ExterQual      1168 non-null   object\n",
      " 19  ExterCond      1168 non-null   object\n",
      " 20  Foundation     1168 non-null   object\n",
      " 21  BsmtQual       1144 non-null   object\n",
      " 22  BsmtCond       1144 non-null   object\n",
      " 23  BsmtExposure   1143 non-null   object\n",
      " 24  BsmtFinType1   1144 non-null   object\n",
      " 25  BsmtFinType2   1143 non-null   object\n",
      " 26  Heating        1168 non-null   object\n",
      " 27  HeatingQC      1168 non-null   object\n",
      " 28  CentralAir     1168 non-null   object\n",
      " 29  Electrical     1167 non-null   object\n",
      " 30  KitchenQual    1168 non-null   object\n",
      " 31  Functional     1168 non-null   object\n",
      " 32  FireplaceQu    616 non-null    object\n",
      " 33  GarageType     1108 non-null   object\n",
      " 34  GarageFinish   1108 non-null   object\n",
      " 35  GarageQual     1108 non-null   object\n",
      " 36  GarageCond     1108 non-null   object\n",
      " 37  PavedDrive     1168 non-null   object\n",
      " 38  PoolQC         4 non-null      object\n",
      " 39  Fence          224 non-null    object\n",
      " 40  MiscFeature    41 non-null     object\n",
      " 41  SaleType       1168 non-null   object\n",
      " 42  SaleCondition  1168 non-null   object\n",
      "dtypes: object(43)\n",
      "memory usage: 401.5+ KB\n"
     ]
    }
   ],
   "source": [
    "housing_cat = housing.select_dtypes(include=['object'])\n",
    "housing_cat.info()"
   ]
  },
  {
   "cell_type": "markdown",
   "id": "8926c896",
   "metadata": {},
   "source": [
    "### Not all values have been filled. Can I add in ' Not applicable'  instead of NaN?\n",
    "\n",
    "#### below is not like in the book"
   ]
  },
  {
   "cell_type": "code",
   "execution_count": 22,
   "id": "c4d808f5",
   "metadata": {},
   "outputs": [
    {
     "data": {
      "text/html": [
       "<style>#sk-container-id-2 {color: black;background-color: white;}#sk-container-id-2 pre{padding: 0;}#sk-container-id-2 div.sk-toggleable {background-color: white;}#sk-container-id-2 label.sk-toggleable__label {cursor: pointer;display: block;width: 100%;margin-bottom: 0;padding: 0.3em;box-sizing: border-box;text-align: center;}#sk-container-id-2 label.sk-toggleable__label-arrow:before {content: \"▸\";float: left;margin-right: 0.25em;color: #696969;}#sk-container-id-2 label.sk-toggleable__label-arrow:hover:before {color: black;}#sk-container-id-2 div.sk-estimator:hover label.sk-toggleable__label-arrow:before {color: black;}#sk-container-id-2 div.sk-toggleable__content {max-height: 0;max-width: 0;overflow: hidden;text-align: left;background-color: #f0f8ff;}#sk-container-id-2 div.sk-toggleable__content pre {margin: 0.2em;color: black;border-radius: 0.25em;background-color: #f0f8ff;}#sk-container-id-2 input.sk-toggleable__control:checked~div.sk-toggleable__content {max-height: 200px;max-width: 100%;overflow: auto;}#sk-container-id-2 input.sk-toggleable__control:checked~label.sk-toggleable__label-arrow:before {content: \"▾\";}#sk-container-id-2 div.sk-estimator input.sk-toggleable__control:checked~label.sk-toggleable__label {background-color: #d4ebff;}#sk-container-id-2 div.sk-label input.sk-toggleable__control:checked~label.sk-toggleable__label {background-color: #d4ebff;}#sk-container-id-2 input.sk-hidden--visually {border: 0;clip: rect(1px 1px 1px 1px);clip: rect(1px, 1px, 1px, 1px);height: 1px;margin: -1px;overflow: hidden;padding: 0;position: absolute;width: 1px;}#sk-container-id-2 div.sk-estimator {font-family: monospace;background-color: #f0f8ff;border: 1px dotted black;border-radius: 0.25em;box-sizing: border-box;margin-bottom: 0.5em;}#sk-container-id-2 div.sk-estimator:hover {background-color: #d4ebff;}#sk-container-id-2 div.sk-parallel-item::after {content: \"\";width: 100%;border-bottom: 1px solid gray;flex-grow: 1;}#sk-container-id-2 div.sk-label:hover label.sk-toggleable__label {background-color: #d4ebff;}#sk-container-id-2 div.sk-serial::before {content: \"\";position: absolute;border-left: 1px solid gray;box-sizing: border-box;top: 0;bottom: 0;left: 50%;z-index: 0;}#sk-container-id-2 div.sk-serial {display: flex;flex-direction: column;align-items: center;background-color: white;padding-right: 0.2em;padding-left: 0.2em;position: relative;}#sk-container-id-2 div.sk-item {position: relative;z-index: 1;}#sk-container-id-2 div.sk-parallel {display: flex;align-items: stretch;justify-content: center;background-color: white;position: relative;}#sk-container-id-2 div.sk-item::before, #sk-container-id-2 div.sk-parallel-item::before {content: \"\";position: absolute;border-left: 1px solid gray;box-sizing: border-box;top: 0;bottom: 0;left: 50%;z-index: -1;}#sk-container-id-2 div.sk-parallel-item {display: flex;flex-direction: column;z-index: 1;position: relative;background-color: white;}#sk-container-id-2 div.sk-parallel-item:first-child::after {align-self: flex-end;width: 50%;}#sk-container-id-2 div.sk-parallel-item:last-child::after {align-self: flex-start;width: 50%;}#sk-container-id-2 div.sk-parallel-item:only-child::after {width: 0;}#sk-container-id-2 div.sk-dashed-wrapped {border: 1px dashed gray;margin: 0 0.4em 0.5em 0.4em;box-sizing: border-box;padding-bottom: 0.4em;background-color: white;}#sk-container-id-2 div.sk-label label {font-family: monospace;font-weight: bold;display: inline-block;line-height: 1.2em;}#sk-container-id-2 div.sk-label-container {text-align: center;}#sk-container-id-2 div.sk-container {/* jupyter's `normalize.less` sets `[hidden] { display: none; }` but bootstrap.min.css set `[hidden] { display: none !important; }` so we also need the `!important` here to be able to override the default hidden behavior on the sphinx rendered scikit-learn.org. See: https://github.com/scikit-learn/scikit-learn/issues/21755 */display: inline-block !important;position: relative;}#sk-container-id-2 div.sk-text-repr-fallback {display: none;}</style><div id=\"sk-container-id-2\" class=\"sk-top-container\"><div class=\"sk-text-repr-fallback\"><pre>SimpleImputer(fill_value=&#x27;Not applicable&#x27;, strategy=&#x27;constant&#x27;)</pre><b>In a Jupyter environment, please rerun this cell to show the HTML representation or trust the notebook. <br />On GitHub, the HTML representation is unable to render, please try loading this page with nbviewer.org.</b></div><div class=\"sk-container\" hidden><div class=\"sk-item\"><div class=\"sk-estimator sk-toggleable\"><input class=\"sk-toggleable__control sk-hidden--visually\" id=\"sk-estimator-id-2\" type=\"checkbox\" checked><label for=\"sk-estimator-id-2\" class=\"sk-toggleable__label sk-toggleable__label-arrow\">SimpleImputer</label><div class=\"sk-toggleable__content\"><pre>SimpleImputer(fill_value=&#x27;Not applicable&#x27;, strategy=&#x27;constant&#x27;)</pre></div></div></div></div></div>"
      ],
      "text/plain": [
       "SimpleImputer(fill_value='Not applicable', strategy='constant')"
      ]
     },
     "execution_count": 22,
     "metadata": {},
     "output_type": "execute_result"
    }
   ],
   "source": [
    "imputer = SimpleImputer(strategy=\"constant\", fill_value='Not applicable')\n",
    "imputer.fit(housing_cat)"
   ]
  },
  {
   "cell_type": "code",
   "execution_count": 23,
   "id": "08ace6e3",
   "metadata": {},
   "outputs": [
    {
     "data": {
      "text/plain": [
       "array(['Not applicable', 'Not applicable'], dtype=object)"
      ]
     },
     "execution_count": 23,
     "metadata": {},
     "output_type": "execute_result"
    }
   ],
   "source": [
    "imputer.statistics_[:2]"
   ]
  },
  {
   "cell_type": "code",
   "execution_count": 24,
   "id": "b8224dd0",
   "metadata": {},
   "outputs": [],
   "source": [
    "#Creating an array with the transformed features\n",
    "X = imputer.transform(housing_cat)\n",
    "\n",
    "#putting it back in a datafram\n",
    "housing_tr_cat = pd.DataFrame(X, columns=housing_cat.columns,\n",
    "                         index= housing_cat.index)"
   ]
  },
  {
   "cell_type": "code",
   "execution_count": 25,
   "id": "bf3a3092",
   "metadata": {},
   "outputs": [
    {
     "name": "stdout",
     "output_type": "stream",
     "text": [
      "<class 'pandas.core.frame.DataFrame'>\n",
      "Int64Index: 1168 entries, 646 to 721\n",
      "Data columns (total 43 columns):\n",
      " #   Column         Non-Null Count  Dtype \n",
      "---  ------         --------------  ----- \n",
      " 0   MSZoning       1168 non-null   object\n",
      " 1   Street         1168 non-null   object\n",
      " 2   Alley          1168 non-null   object\n",
      " 3   LotShape       1168 non-null   object\n",
      " 4   LandContour    1168 non-null   object\n",
      " 5   Utilities      1168 non-null   object\n",
      " 6   LotConfig      1168 non-null   object\n",
      " 7   LandSlope      1168 non-null   object\n",
      " 8   Neighborhood   1168 non-null   object\n",
      " 9   Condition1     1168 non-null   object\n",
      " 10  Condition2     1168 non-null   object\n",
      " 11  BldgType       1168 non-null   object\n",
      " 12  HouseStyle     1168 non-null   object\n",
      " 13  RoofStyle      1168 non-null   object\n",
      " 14  RoofMatl       1168 non-null   object\n",
      " 15  Exterior1st    1168 non-null   object\n",
      " 16  Exterior2nd    1168 non-null   object\n",
      " 17  MasVnrType     1168 non-null   object\n",
      " 18  ExterQual      1168 non-null   object\n",
      " 19  ExterCond      1168 non-null   object\n",
      " 20  Foundation     1168 non-null   object\n",
      " 21  BsmtQual       1168 non-null   object\n",
      " 22  BsmtCond       1168 non-null   object\n",
      " 23  BsmtExposure   1168 non-null   object\n",
      " 24  BsmtFinType1   1168 non-null   object\n",
      " 25  BsmtFinType2   1168 non-null   object\n",
      " 26  Heating        1168 non-null   object\n",
      " 27  HeatingQC      1168 non-null   object\n",
      " 28  CentralAir     1168 non-null   object\n",
      " 29  Electrical     1168 non-null   object\n",
      " 30  KitchenQual    1168 non-null   object\n",
      " 31  Functional     1168 non-null   object\n",
      " 32  FireplaceQu    1168 non-null   object\n",
      " 33  GarageType     1168 non-null   object\n",
      " 34  GarageFinish   1168 non-null   object\n",
      " 35  GarageQual     1168 non-null   object\n",
      " 36  GarageCond     1168 non-null   object\n",
      " 37  PavedDrive     1168 non-null   object\n",
      " 38  PoolQC         1168 non-null   object\n",
      " 39  Fence          1168 non-null   object\n",
      " 40  MiscFeature    1168 non-null   object\n",
      " 41  SaleType       1168 non-null   object\n",
      " 42  SaleCondition  1168 non-null   object\n",
      "dtypes: object(43)\n",
      "memory usage: 401.5+ KB\n"
     ]
    }
   ],
   "source": [
    "housing_tr_cat.info()"
   ]
  },
  {
   "cell_type": "code",
   "execution_count": 26,
   "id": "c2c9e814",
   "metadata": {},
   "outputs": [],
   "source": [
    "#Some of the above, such as GarageQual (Ex, Gd, TA, etc.) are judgement scales, just like OverallQual(0 - 10)\n",
    "#Could transform them to numbers and then see how they would score on corelation \n",
    "#ML algorithms prefer working with numbers, so let's convert"
   ]
  },
  {
   "cell_type": "code",
   "execution_count": 27,
   "id": "5f695224",
   "metadata": {},
   "outputs": [
    {
     "data": {
      "text/plain": [
       "array([[ 3.,  1.,  1.,  3.,  3.,  0.,  4.,  0., 12.,  2.,  2.,  0.,  2.,\n",
       "         3.,  0.,  8.,  8.,  2.,  3.,  4.,  1.,  3.,  2.,  4.,  4.,  4.,\n",
       "         0.,  2.,  1.,  5.,  3.,  2.,  3.,  5.,  3.,  5.,  5.,  2.,  3.,\n",
       "         4.,  1.,  8.,  4.],\n",
       "       [ 3.,  1.,  1.,  3.,  3.,  0.,  4.,  0., 12.,  2.,  2.,  2.,  2.,\n",
       "         1.,  0., 11., 12.,  1.,  3.,  4.,  3.,  3.,  2.,  4.,  4.,  4.,\n",
       "         4.,  1.,  0.,  0.,  3.,  6.,  3.,  5.,  3.,  5.,  5.,  2.,  3.,\n",
       "         4.,  1.,  8.,  4.]])"
      ]
     },
     "execution_count": 27,
     "metadata": {},
     "output_type": "execute_result"
    }
   ],
   "source": [
    "from sklearn.preprocessing import OrdinalEncoder\n",
    "\n",
    "ordinal_encoder = OrdinalEncoder()\n",
    "housing_cat_encoded = ordinal_encoder.fit_transform(housing_tr_cat)\n",
    "housing_cat_encoded[:2]"
   ]
  },
  {
   "cell_type": "code",
   "execution_count": 72,
   "id": "d06a9d52",
   "metadata": {},
   "outputs": [
    {
     "data": {
      "text/plain": [
       "[array(['C (all)', 'FV', 'RH', 'RL', 'RM'], dtype=object),\n",
       " array(['Grvl', 'Pave'], dtype=object),\n",
       " array(['Grvl', 'Not applicable', 'Pave'], dtype=object),\n",
       " array(['IR1', 'IR2', 'IR3', 'Reg'], dtype=object),\n",
       " array(['Bnk', 'HLS', 'Low', 'Lvl'], dtype=object),\n",
       " array(['AllPub', 'NoSeWa'], dtype=object),\n",
       " array(['Corner', 'CulDSac', 'FR2', 'FR3', 'Inside'], dtype=object),\n",
       " array(['Gtl', 'Mod', 'Sev'], dtype=object),\n",
       " array(['Blmngtn', 'Blueste', 'BrDale', 'BrkSide', 'ClearCr', 'CollgCr',\n",
       "        'Crawfor', 'Edwards', 'Gilbert', 'IDOTRR', 'MeadowV', 'Mitchel',\n",
       "        'NAmes', 'NPkVill', 'NWAmes', 'NoRidge', 'NridgHt', 'OldTown',\n",
       "        'SWISU', 'Sawyer', 'SawyerW', 'Somerst', 'StoneBr', 'Timber',\n",
       "        'Veenker'], dtype=object),\n",
       " array(['Artery', 'Feedr', 'Norm', 'PosA', 'PosN', 'RRAe', 'RRAn', 'RRNe',\n",
       "        'RRNn'], dtype=object)]"
      ]
     },
     "execution_count": 72,
     "metadata": {},
     "output_type": "execute_result"
    }
   ],
   "source": [
    "#the encoders for each of the arays\n",
    "ordinal_encoder.categories_[:10]"
   ]
  },
  {
   "cell_type": "code",
   "execution_count": 29,
   "id": "c1163b3d",
   "metadata": {},
   "outputs": [],
   "source": [
    "#Issue with this representation is that ML algorithm will assume that two nearby values are more similar than two distant values\n",
    "#In this data, this is not always correct.\n",
    "#Solution is to create one binary attribute per category: one hot encoding. The new attributes would be dummy variables"
   ]
  },
  {
   "cell_type": "code",
   "execution_count": 74,
   "id": "e366fa95",
   "metadata": {},
   "outputs": [
    {
     "data": {
      "text/plain": [
       "<1168x263 sparse matrix of type '<class 'numpy.float64'>'\n",
       "\twith 50224 stored elements in Compressed Sparse Row format>"
      ]
     },
     "execution_count": 74,
     "metadata": {},
     "output_type": "execute_result"
    }
   ],
   "source": [
    "from sklearn.preprocessing import OneHotEncoder\n",
    "\n",
    "cat_encoder = OneHotEncoder(handle_unknown = 'ignore') \n",
    "                            #handle_unknown: if any categories appear in test set which were not in training set\n",
    "                            \n",
    "housing_cat_1hot = cat_encoder.fit_transform(housing_tr_cat)\n",
    "housing_cat_1hot\n",
    "#Output is a sparse matrix, only remembering where there are 1's to save memory"
   ]
  },
  {
   "cell_type": "markdown",
   "id": "968653b1",
   "metadata": {},
   "source": [
    "#### Custom transformers, I skip for now"
   ]
  },
  {
   "cell_type": "markdown",
   "id": "e62eefe1",
   "metadata": {},
   "source": [
    "#### Feature scaling"
   ]
  },
  {
   "cell_type": "code",
   "execution_count": 31,
   "id": "bfe48cee",
   "metadata": {},
   "outputs": [],
   "source": [
    "### You can use min - max (all between 0 and 1) or Standardisation (substracts mean value and divides by stand. dev.)\n",
    "### We use Standardisation\n",
    "### Pipeline for numerical values\n",
    "\n",
    "from sklearn.pipeline import Pipeline\n",
    "from sklearn.preprocessing import StandardScaler\n",
    "\n",
    "num_pipeline = Pipeline([\n",
    "    ('imputer', SimpleImputer(strategy=\"constant\", fill_value=0)),\n",
    "    ('std_scaler', StandardScaler()),\n",
    "])\n",
    "\n",
    "housing_num_tr = num_pipeline.fit_transform(housing_num)"
   ]
  },
  {
   "cell_type": "code",
   "execution_count": 32,
   "id": "6e920b02",
   "metadata": {},
   "outputs": [
    {
     "data": {
      "text/plain": [
       "array([[-0.19313344, -0.85564765, -0.48132633, ..., -0.08116821,\n",
       "         0.24238915,  0.14548979],\n",
       "       [-0.90869207,  0.81458637,  0.01281901, ..., -0.08116821,\n",
       "        -0.50165955, -1.36501757],\n",
       "       [-0.61681947, -0.85564765,  0.75403703, ..., -0.08116821,\n",
       "        -0.8736839 , -0.60976389],\n",
       "       ...,\n",
       "       [ 1.55104073, -0.13983307, -0.48132633, ..., -0.08116821,\n",
       "         0.6144135 , -0.60976389],\n",
       "       [-0.0589662 ,  3.20063495,  0.30930622, ..., -0.08116821,\n",
       "        -0.50165955,  1.65599715],\n",
       "       [-0.01659759,  1.53040094,  0.01281901, ..., -0.08116821,\n",
       "        -0.50165955,  1.65599715]])"
      ]
     },
     "execution_count": 32,
     "metadata": {},
     "output_type": "execute_result"
    }
   ],
   "source": [
    "housing_num_tr"
   ]
  },
  {
   "cell_type": "code",
   "execution_count": 77,
   "id": "eeee7da7",
   "metadata": {},
   "outputs": [],
   "source": [
    "from sklearn.compose import ColumnTransformer\n",
    "\n",
    "num_attribs = list(housing_num)\n",
    "cat_attribs = list(housing_cat)\n",
    "\n",
    "full_pipeline = ColumnTransformer([\n",
    "    (\"num\", num_pipeline, num_attribs),\n",
    "    ### Could still, later, add in a drop line\n",
    "    (\"cat\", OneHotEncoder (handle_unknown='ignore'), cat_attribs)\n",
    "])#Also here, with the OneHotEncoder, adding the handle_unknown='ignore'\n",
    "\n",
    "housing_prepared = full_pipeline.fit_transform(housing)"
   ]
  },
  {
   "cell_type": "code",
   "execution_count": 34,
   "id": "aeb7e8b1",
   "metadata": {},
   "outputs": [
    {
     "data": {
      "text/plain": [
       "<1168x300 sparse matrix of type '<class 'numpy.float64'>'\n",
       "\twith 93440 stored elements in Compressed Sparse Row format>"
      ]
     },
     "execution_count": 34,
     "metadata": {},
     "output_type": "execute_result"
    }
   ],
   "source": [
    "housing_prepared\n",
    "\n",
    "#Sparse matrix if ratio of nonzero cells is below 0.3"
   ]
  },
  {
   "cell_type": "markdown",
   "id": "8c543fd6",
   "metadata": {
    "id": "8c543fd6"
   },
   "source": [
    "# 5. Explore many different models and shortlist the best ones"
   ]
  },
  {
   "cell_type": "markdown",
   "id": "83721483",
   "metadata": {},
   "source": [
    "#### Select and train a model"
   ]
  },
  {
   "cell_type": "code",
   "execution_count": 65,
   "id": "6afb2b27",
   "metadata": {},
   "outputs": [
    {
     "data": {
      "text/html": [
       "<style>#sk-container-id-3 {color: black;background-color: white;}#sk-container-id-3 pre{padding: 0;}#sk-container-id-3 div.sk-toggleable {background-color: white;}#sk-container-id-3 label.sk-toggleable__label {cursor: pointer;display: block;width: 100%;margin-bottom: 0;padding: 0.3em;box-sizing: border-box;text-align: center;}#sk-container-id-3 label.sk-toggleable__label-arrow:before {content: \"▸\";float: left;margin-right: 0.25em;color: #696969;}#sk-container-id-3 label.sk-toggleable__label-arrow:hover:before {color: black;}#sk-container-id-3 div.sk-estimator:hover label.sk-toggleable__label-arrow:before {color: black;}#sk-container-id-3 div.sk-toggleable__content {max-height: 0;max-width: 0;overflow: hidden;text-align: left;background-color: #f0f8ff;}#sk-container-id-3 div.sk-toggleable__content pre {margin: 0.2em;color: black;border-radius: 0.25em;background-color: #f0f8ff;}#sk-container-id-3 input.sk-toggleable__control:checked~div.sk-toggleable__content {max-height: 200px;max-width: 100%;overflow: auto;}#sk-container-id-3 input.sk-toggleable__control:checked~label.sk-toggleable__label-arrow:before {content: \"▾\";}#sk-container-id-3 div.sk-estimator input.sk-toggleable__control:checked~label.sk-toggleable__label {background-color: #d4ebff;}#sk-container-id-3 div.sk-label input.sk-toggleable__control:checked~label.sk-toggleable__label {background-color: #d4ebff;}#sk-container-id-3 input.sk-hidden--visually {border: 0;clip: rect(1px 1px 1px 1px);clip: rect(1px, 1px, 1px, 1px);height: 1px;margin: -1px;overflow: hidden;padding: 0;position: absolute;width: 1px;}#sk-container-id-3 div.sk-estimator {font-family: monospace;background-color: #f0f8ff;border: 1px dotted black;border-radius: 0.25em;box-sizing: border-box;margin-bottom: 0.5em;}#sk-container-id-3 div.sk-estimator:hover {background-color: #d4ebff;}#sk-container-id-3 div.sk-parallel-item::after {content: \"\";width: 100%;border-bottom: 1px solid gray;flex-grow: 1;}#sk-container-id-3 div.sk-label:hover label.sk-toggleable__label {background-color: #d4ebff;}#sk-container-id-3 div.sk-serial::before {content: \"\";position: absolute;border-left: 1px solid gray;box-sizing: border-box;top: 0;bottom: 0;left: 50%;z-index: 0;}#sk-container-id-3 div.sk-serial {display: flex;flex-direction: column;align-items: center;background-color: white;padding-right: 0.2em;padding-left: 0.2em;position: relative;}#sk-container-id-3 div.sk-item {position: relative;z-index: 1;}#sk-container-id-3 div.sk-parallel {display: flex;align-items: stretch;justify-content: center;background-color: white;position: relative;}#sk-container-id-3 div.sk-item::before, #sk-container-id-3 div.sk-parallel-item::before {content: \"\";position: absolute;border-left: 1px solid gray;box-sizing: border-box;top: 0;bottom: 0;left: 50%;z-index: -1;}#sk-container-id-3 div.sk-parallel-item {display: flex;flex-direction: column;z-index: 1;position: relative;background-color: white;}#sk-container-id-3 div.sk-parallel-item:first-child::after {align-self: flex-end;width: 50%;}#sk-container-id-3 div.sk-parallel-item:last-child::after {align-self: flex-start;width: 50%;}#sk-container-id-3 div.sk-parallel-item:only-child::after {width: 0;}#sk-container-id-3 div.sk-dashed-wrapped {border: 1px dashed gray;margin: 0 0.4em 0.5em 0.4em;box-sizing: border-box;padding-bottom: 0.4em;background-color: white;}#sk-container-id-3 div.sk-label label {font-family: monospace;font-weight: bold;display: inline-block;line-height: 1.2em;}#sk-container-id-3 div.sk-label-container {text-align: center;}#sk-container-id-3 div.sk-container {/* jupyter's `normalize.less` sets `[hidden] { display: none; }` but bootstrap.min.css set `[hidden] { display: none !important; }` so we also need the `!important` here to be able to override the default hidden behavior on the sphinx rendered scikit-learn.org. See: https://github.com/scikit-learn/scikit-learn/issues/21755 */display: inline-block !important;position: relative;}#sk-container-id-3 div.sk-text-repr-fallback {display: none;}</style><div id=\"sk-container-id-3\" class=\"sk-top-container\"><div class=\"sk-text-repr-fallback\"><pre>LinearRegression()</pre><b>In a Jupyter environment, please rerun this cell to show the HTML representation or trust the notebook. <br />On GitHub, the HTML representation is unable to render, please try loading this page with nbviewer.org.</b></div><div class=\"sk-container\" hidden><div class=\"sk-item\"><div class=\"sk-estimator sk-toggleable\"><input class=\"sk-toggleable__control sk-hidden--visually\" id=\"sk-estimator-id-3\" type=\"checkbox\" checked><label for=\"sk-estimator-id-3\" class=\"sk-toggleable__label sk-toggleable__label-arrow\">LinearRegression</label><div class=\"sk-toggleable__content\"><pre>LinearRegression()</pre></div></div></div></div></div>"
      ],
      "text/plain": [
       "LinearRegression()"
      ]
     },
     "execution_count": 65,
     "metadata": {},
     "output_type": "execute_result"
    }
   ],
   "source": [
    "from sklearn.linear_model import LinearRegression\n",
    "\n",
    "lin_reg = LinearRegression()\n",
    "lin_reg.fit(housing_prepared, housing_labels)"
   ]
  },
  {
   "cell_type": "code",
   "execution_count": 41,
   "id": "b0a7bca1",
   "metadata": {},
   "outputs": [],
   "source": [
    "some_data = housing.iloc[:5]\n",
    "some_labels = housing_labels.iloc[:5]\n",
    "some_data_prepared = full_pipeline.transform(some_data)"
   ]
  },
  {
   "cell_type": "code",
   "execution_count": null,
   "id": "a2ad373f",
   "metadata": {},
   "outputs": [],
   "source": [
    "print(\"Predictions:\", lin_reg.predict(some_data_prepared))"
   ]
  },
  {
   "cell_type": "code",
   "execution_count": 68,
   "id": "d2c32879",
   "metadata": {},
   "outputs": [
    {
     "name": "stdout",
     "output_type": "stream",
     "text": [
      "Labels: [98300, 87500, 167000, 256300, 201800]\n"
     ]
    }
   ],
   "source": [
    "print(\"Labels:\", list(some_labels))5\n",
    "#Not bad, but in some instances a bit off (second case ~8%)"
   ]
  },
  {
   "cell_type": "code",
   "execution_count": 69,
   "id": "cf4edc3e",
   "metadata": {},
   "outputs": [
    {
     "data": {
      "text/plain": [
       "20472.232542558206"
      ]
     },
     "execution_count": 69,
     "metadata": {},
     "output_type": "execute_result"
    }
   ],
   "source": [
    "from sklearn.metrics import mean_squared_error\n",
    "housing_predictions = lin_reg.predict(housing_prepared)\n",
    "lin_mse = mean_squared_error(housing_labels, housing_predictions)\n",
    "lin_rmse = np.sqrt(lin_mse)\n",
    "lin_rmse\n",
    "#So typically the sales price predicted by the linear regression model is 20.000 off. \n",
    "#Half of districts are between 130 k and 214 k, so 20 k error is a bit far "
   ]
  },
  {
   "cell_type": "code",
   "execution_count": 70,
   "id": "20e64442",
   "metadata": {
    "id": "20e64442"
   },
   "outputs": [
    {
     "data": {
      "text/html": [
       "<style>#sk-container-id-4 {color: black;background-color: white;}#sk-container-id-4 pre{padding: 0;}#sk-container-id-4 div.sk-toggleable {background-color: white;}#sk-container-id-4 label.sk-toggleable__label {cursor: pointer;display: block;width: 100%;margin-bottom: 0;padding: 0.3em;box-sizing: border-box;text-align: center;}#sk-container-id-4 label.sk-toggleable__label-arrow:before {content: \"▸\";float: left;margin-right: 0.25em;color: #696969;}#sk-container-id-4 label.sk-toggleable__label-arrow:hover:before {color: black;}#sk-container-id-4 div.sk-estimator:hover label.sk-toggleable__label-arrow:before {color: black;}#sk-container-id-4 div.sk-toggleable__content {max-height: 0;max-width: 0;overflow: hidden;text-align: left;background-color: #f0f8ff;}#sk-container-id-4 div.sk-toggleable__content pre {margin: 0.2em;color: black;border-radius: 0.25em;background-color: #f0f8ff;}#sk-container-id-4 input.sk-toggleable__control:checked~div.sk-toggleable__content {max-height: 200px;max-width: 100%;overflow: auto;}#sk-container-id-4 input.sk-toggleable__control:checked~label.sk-toggleable__label-arrow:before {content: \"▾\";}#sk-container-id-4 div.sk-estimator input.sk-toggleable__control:checked~label.sk-toggleable__label {background-color: #d4ebff;}#sk-container-id-4 div.sk-label input.sk-toggleable__control:checked~label.sk-toggleable__label {background-color: #d4ebff;}#sk-container-id-4 input.sk-hidden--visually {border: 0;clip: rect(1px 1px 1px 1px);clip: rect(1px, 1px, 1px, 1px);height: 1px;margin: -1px;overflow: hidden;padding: 0;position: absolute;width: 1px;}#sk-container-id-4 div.sk-estimator {font-family: monospace;background-color: #f0f8ff;border: 1px dotted black;border-radius: 0.25em;box-sizing: border-box;margin-bottom: 0.5em;}#sk-container-id-4 div.sk-estimator:hover {background-color: #d4ebff;}#sk-container-id-4 div.sk-parallel-item::after {content: \"\";width: 100%;border-bottom: 1px solid gray;flex-grow: 1;}#sk-container-id-4 div.sk-label:hover label.sk-toggleable__label {background-color: #d4ebff;}#sk-container-id-4 div.sk-serial::before {content: \"\";position: absolute;border-left: 1px solid gray;box-sizing: border-box;top: 0;bottom: 0;left: 50%;z-index: 0;}#sk-container-id-4 div.sk-serial {display: flex;flex-direction: column;align-items: center;background-color: white;padding-right: 0.2em;padding-left: 0.2em;position: relative;}#sk-container-id-4 div.sk-item {position: relative;z-index: 1;}#sk-container-id-4 div.sk-parallel {display: flex;align-items: stretch;justify-content: center;background-color: white;position: relative;}#sk-container-id-4 div.sk-item::before, #sk-container-id-4 div.sk-parallel-item::before {content: \"\";position: absolute;border-left: 1px solid gray;box-sizing: border-box;top: 0;bottom: 0;left: 50%;z-index: -1;}#sk-container-id-4 div.sk-parallel-item {display: flex;flex-direction: column;z-index: 1;position: relative;background-color: white;}#sk-container-id-4 div.sk-parallel-item:first-child::after {align-self: flex-end;width: 50%;}#sk-container-id-4 div.sk-parallel-item:last-child::after {align-self: flex-start;width: 50%;}#sk-container-id-4 div.sk-parallel-item:only-child::after {width: 0;}#sk-container-id-4 div.sk-dashed-wrapped {border: 1px dashed gray;margin: 0 0.4em 0.5em 0.4em;box-sizing: border-box;padding-bottom: 0.4em;background-color: white;}#sk-container-id-4 div.sk-label label {font-family: monospace;font-weight: bold;display: inline-block;line-height: 1.2em;}#sk-container-id-4 div.sk-label-container {text-align: center;}#sk-container-id-4 div.sk-container {/* jupyter's `normalize.less` sets `[hidden] { display: none; }` but bootstrap.min.css set `[hidden] { display: none !important; }` so we also need the `!important` here to be able to override the default hidden behavior on the sphinx rendered scikit-learn.org. See: https://github.com/scikit-learn/scikit-learn/issues/21755 */display: inline-block !important;position: relative;}#sk-container-id-4 div.sk-text-repr-fallback {display: none;}</style><div id=\"sk-container-id-4\" class=\"sk-top-container\"><div class=\"sk-text-repr-fallback\"><pre>DecisionTreeRegressor()</pre><b>In a Jupyter environment, please rerun this cell to show the HTML representation or trust the notebook. <br />On GitHub, the HTML representation is unable to render, please try loading this page with nbviewer.org.</b></div><div class=\"sk-container\" hidden><div class=\"sk-item\"><div class=\"sk-estimator sk-toggleable\"><input class=\"sk-toggleable__control sk-hidden--visually\" id=\"sk-estimator-id-4\" type=\"checkbox\" checked><label for=\"sk-estimator-id-4\" class=\"sk-toggleable__label sk-toggleable__label-arrow\">DecisionTreeRegressor</label><div class=\"sk-toggleable__content\"><pre>DecisionTreeRegressor()</pre></div></div></div></div></div>"
      ],
      "text/plain": [
       "DecisionTreeRegressor()"
      ]
     },
     "execution_count": 70,
     "metadata": {},
     "output_type": "execute_result"
    }
   ],
   "source": [
    "#Let's try decision tree, probably overfitting at first\n",
    "from sklearn.tree import DecisionTreeRegressor\n",
    "\n",
    "tree_reg = DecisionTreeRegressor()\n",
    "tree_reg.fit(housing_prepared, housing_labels)"
   ]
  },
  {
   "cell_type": "code",
   "execution_count": 71,
   "id": "3adcf39d",
   "metadata": {
    "id": "3adcf39d"
   },
   "outputs": [
    {
     "data": {
      "text/plain": [
       "0.0"
      ]
     },
     "execution_count": 71,
     "metadata": {},
     "output_type": "execute_result"
    }
   ],
   "source": [
    "housing_predictions = tree_reg.predict(housing_prepared)\n",
    "tree_mse = mean_squared_error(housing_labels, housing_predictions)\n",
    "tree_rmse = np.sqrt(tree_mse)\n",
    "tree_rmse"
   ]
  },
  {
   "cell_type": "markdown",
   "id": "b3d09598",
   "metadata": {},
   "source": [
    "#### Better evaluation using Cross-validation"
   ]
  },
  {
   "cell_type": "code",
   "execution_count": 74,
   "id": "c7da3eb9",
   "metadata": {
    "id": "c7da3eb9"
   },
   "outputs": [],
   "source": [
    "### cross validation\n",
    "from sklearn.model_selection import cross_val_score\n",
    "scores = cross_val_score(tree_reg, housing_prepared, housing_labels,\n",
    "                        scoring=\"neg_mean_squared_error\", cv=10)\n",
    "tree_rmse_scores = np.sqrt(-scores)"
   ]
  },
  {
   "cell_type": "code",
   "execution_count": 75,
   "id": "b816eb18",
   "metadata": {
    "id": "b816eb18"
   },
   "outputs": [],
   "source": [
    "def display_scores (scores):\n",
    "    print(\"Scores:\", scores)\n",
    "    print(\"Mean:\", scores.mean())\n",
    "    print(\"Standard deviation:\", scores.std())"
   ]
  },
  {
   "cell_type": "code",
   "execution_count": 76,
   "id": "837ca086",
   "metadata": {},
   "outputs": [
    {
     "name": "stdout",
     "output_type": "stream",
     "text": [
      "Scores: [55239.66220514 44078.44559952 44777.9058407  45074.05603811\n",
      " 39579.31527105 35905.6126583  40748.08834455 34237.84378657\n",
      " 35852.76891666 38326.55599199]\n",
      "Mean: 41382.02546525834\n",
      "Standard deviation: 5908.117398294058\n"
     ]
    }
   ],
   "source": [
    "display_scores(tree_rmse_scores)\n",
    "#So performance is worse; 41 k off on average, while it was 20 k off before"
   ]
  },
  {
   "cell_type": "code",
   "execution_count": 77,
   "id": "33649bcc",
   "metadata": {},
   "outputs": [
    {
     "name": "stdout",
     "output_type": "stream",
     "text": [
      "Scores: [ 49792.31643272  52411.14682372  23332.65994796  27856.34548207\n",
      " 362676.04088652  32759.40323268  19169.8449934   20159.47460704\n",
      "  36330.80256608  27231.51763585]\n",
      "Mean: 65171.95526080315\n",
      "Standard deviation: 99757.31243395033\n"
     ]
    }
   ],
   "source": [
    "### let's cross validate the Linear Regression model\n",
    "\n",
    "lin_scores = cross_val_score(lin_reg, housing_prepared, housing_labels,\n",
    "                            scoring=\"neg_mean_squared_error\", cv=10)\n",
    "lin_rmse_scores = np.sqrt(-lin_scores)\n",
    "display_scores(lin_rmse_scores)"
   ]
  },
  {
   "cell_type": "code",
   "execution_count": null,
   "id": "a6b392e1",
   "metadata": {},
   "outputs": [],
   "source": [
    "#So it seems there was overfitting by the Linear Regression too. \n",
    "#In fact, we now know that the linear Regression may hold up worse than the overfitting decision tree model"
   ]
  },
  {
   "cell_type": "code",
   "execution_count": null,
   "id": "3ae759b6",
   "metadata": {},
   "outputs": [],
   "source": [
    "### Random forest: Works by training many decision trees on random subsets of features, than averaging out predictions"
   ]
  },
  {
   "cell_type": "code",
   "execution_count": 44,
   "id": "9fc08c83",
   "metadata": {},
   "outputs": [],
   "source": [
    "from sklearn.ensemble import RandomForestRegressor\n",
    "forest_reg = RandomForestRegressor()"
   ]
  },
  {
   "cell_type": "code",
   "execution_count": null,
   "id": "62681e8e",
   "metadata": {},
   "outputs": [],
   "source": [
    "forest_reg.fit(housing_prepared, housing_labels)"
   ]
  },
  {
   "cell_type": "code",
   "execution_count": 79,
   "id": "98289948",
   "metadata": {},
   "outputs": [
    {
     "data": {
      "text/plain": [
       "12090.589930468399"
      ]
     },
     "execution_count": 79,
     "metadata": {},
     "output_type": "execute_result"
    }
   ],
   "source": [
    "housing_predictions = forest_reg.predict(housing_prepared)\n",
    "forest_mse = mean_squared_error(housing_labels, housing_predictions)\n",
    "forest_rmse = np.sqrt(forest_mse)\n",
    "forest_rmse\n",
    "\n",
    "#12 k, that's better score on the training set than linear regression, worse than decision tree"
   ]
  },
  {
   "cell_type": "code",
   "execution_count": 81,
   "id": "909ba79e",
   "metadata": {},
   "outputs": [
    {
     "name": "stdout",
     "output_type": "stream",
     "text": [
      "Scores: [46975.66599391 31807.26869677 25546.85033663 33471.01857253\n",
      " 28982.01784317 25795.19180835 24898.01541685 26493.78954801\n",
      " 37361.11625833 25214.23504273]\n",
      "Mean: 30654.5169517292\n",
      "Standard deviation: 6731.746284203176\n"
     ]
    }
   ],
   "source": [
    "scores = cross_val_score(forest_reg, housing_prepared, housing_labels,\n",
    "                        scoring=\"neg_mean_squared_error\", cv=10)\n",
    "forest_rmse_scores = np.sqrt(-scores)\n",
    "display_scores(forest_rmse_scores)\n",
    "\n",
    "#30 k mean rmse, this is the best score so far. \n",
    "#score on the validation set"
   ]
  },
  {
   "cell_type": "markdown",
   "id": "0d98b763",
   "metadata": {},
   "source": [
    "##### let's try to save models"
   ]
  },
  {
   "cell_type": "code",
   "execution_count": 82,
   "id": "b57b06bf",
   "metadata": {},
   "outputs": [
    {
     "data": {
      "text/plain": [
       "array([ 99427.96488863,  94777.63361953, 186646.65947234, 262805.53908503,\n",
       "       218798.31159999])"
      ]
     },
     "execution_count": 82,
     "metadata": {},
     "output_type": "execute_result"
    }
   ],
   "source": [
    "full_pipeline_with_predictor = Pipeline([\n",
    "        (\"preparation\", full_pipeline),\n",
    "        (\"linear\", LinearRegression())\n",
    "    ])\n",
    "\n",
    "full_pipeline_with_predictor.fit(housing, housing_labels)\n",
    "full_pipeline_with_predictor.predict(some_data)"
   ]
  },
  {
   "cell_type": "code",
   "execution_count": 83,
   "id": "1604510e",
   "metadata": {},
   "outputs": [],
   "source": [
    "linear_model = full_pipeline_with_predictor"
   ]
  },
  {
   "cell_type": "code",
   "execution_count": 84,
   "id": "02021655",
   "metadata": {},
   "outputs": [
    {
     "data": {
      "text/plain": [
       "array([ 98300.,  87500., 167000., 256300., 201800.])"
      ]
     },
     "execution_count": 84,
     "metadata": {},
     "output_type": "execute_result"
    }
   ],
   "source": [
    "full_pipeline_with_predictor = Pipeline([\n",
    "        (\"preparation\", full_pipeline),\n",
    "        (\"tree\", DecisionTreeRegressor())\n",
    "    ])\n",
    "\n",
    "full_pipeline_with_predictor.fit(housing, housing_labels)\n",
    "full_pipeline_with_predictor.predict(some_data)"
   ]
  },
  {
   "cell_type": "code",
   "execution_count": 85,
   "id": "05ceea37",
   "metadata": {},
   "outputs": [],
   "source": [
    "dec_tree_model = full_pipeline_with_predictor"
   ]
  },
  {
   "cell_type": "code",
   "execution_count": 86,
   "id": "7e888dbb",
   "metadata": {},
   "outputs": [
    {
     "data": {
      "text/plain": [
       "array([104537.  ,  89136.11, 168661.5 , 255399.59, 205543.1 ])"
      ]
     },
     "execution_count": 86,
     "metadata": {},
     "output_type": "execute_result"
    }
   ],
   "source": [
    "full_pipeline_with_predictor = Pipeline([\n",
    "        (\"preparation\", full_pipeline),\n",
    "        (\"linear\", RandomForestRegressor())\n",
    "    ])\n",
    "\n",
    "full_pipeline_with_predictor.fit(housing, housing_labels)\n",
    "full_pipeline_with_predictor.predict(some_data)"
   ]
  },
  {
   "cell_type": "code",
   "execution_count": 87,
   "id": "e7bb2b7c",
   "metadata": {},
   "outputs": [],
   "source": [
    "rand_for_model = full_pipeline_with_predictor"
   ]
  },
  {
   "cell_type": "code",
   "execution_count": 88,
   "id": "8ac2f531",
   "metadata": {},
   "outputs": [
    {
     "data": {
      "text/plain": [
       "['rf_model.pkl']"
      ]
     },
     "execution_count": 88,
     "metadata": {},
     "output_type": "execute_result"
    }
   ],
   "source": [
    "import joblib\n",
    "#joblib.dump(my_model, \"my_model.pkl\")\n",
    "joblib.dump(linear_model, \"lin_model.pkl\")\n",
    "joblib.dump(dec_tree_model, \"tree_model.pkl\")\n",
    "joblib.dump(rand_for_model, \"rf_model.pkl\")\n",
    "\n",
    "\n",
    "# DIFF\n",
    "#...\n",
    "#lin_model_loaded = joblib.load(\"lin_model.pkl\") # DIFF"
   ]
  },
  {
   "cell_type": "markdown",
   "id": "e8564ccf",
   "metadata": {},
   "source": [
    "### Models were created some time ago. Now I reload the models "
   ]
  },
  {
   "cell_type": "code",
   "execution_count": 38,
   "id": "45bd80cd",
   "metadata": {},
   "outputs": [],
   "source": [
    "import joblib\n",
    "lin_model_loaded = joblib.load(\"lin_model.pkl\")\n",
    "dec_tree_loaded = joblib.load(\"tree_model.pkl\")\n",
    "rand_for_loaded = joblib.load(\"rf_model.pkl\")"
   ]
  },
  {
   "cell_type": "code",
   "execution_count": 42,
   "id": "0c86c1c8",
   "metadata": {},
   "outputs": [
    {
     "data": {
      "text/plain": [
       "array([104537.  ,  89136.11, 168661.5 , 255399.59, 205543.1 ])"
      ]
     },
     "execution_count": 42,
     "metadata": {},
     "output_type": "execute_result"
    }
   ],
   "source": [
    "#Let's test if the loaded data works\n",
    "rand_for_loaded.predict(some_data)"
   ]
  },
  {
   "cell_type": "markdown",
   "id": "057689da",
   "metadata": {},
   "source": [
    "#### So when reloading, _loaded models in above behave as if they were _model (the full_pipeline_with_predictor)"
   ]
  },
  {
   "cell_type": "markdown",
   "id": "af487e4e",
   "metadata": {
    "id": "af487e4e"
   },
   "source": [
    "# 6. Fine-tune your models and combine them into a great solution"
   ]
  },
  {
   "cell_type": "markdown",
   "id": "b307508a",
   "metadata": {
    "id": "c6d6fc43"
   },
   "source": [
    "##### Ok, three models. Let's look at ways to finetune them"
   ]
  },
  {
   "cell_type": "markdown",
   "id": "842b4d0a",
   "metadata": {
    "id": "2996f31f"
   },
   "source": [
    "## Grid search"
   ]
  },
  {
   "cell_type": "markdown",
   "id": "539f730b",
   "metadata": {},
   "source": [
    "##### Trying out hyperparameters automatically  "
   ]
  },
  {
   "cell_type": "code",
   "execution_count": 46,
   "id": "c48a12ca",
   "metadata": {},
   "outputs": [
    {
     "data": {
      "text/html": [
       "<style>#sk-container-id-3 {color: black;background-color: white;}#sk-container-id-3 pre{padding: 0;}#sk-container-id-3 div.sk-toggleable {background-color: white;}#sk-container-id-3 label.sk-toggleable__label {cursor: pointer;display: block;width: 100%;margin-bottom: 0;padding: 0.3em;box-sizing: border-box;text-align: center;}#sk-container-id-3 label.sk-toggleable__label-arrow:before {content: \"▸\";float: left;margin-right: 0.25em;color: #696969;}#sk-container-id-3 label.sk-toggleable__label-arrow:hover:before {color: black;}#sk-container-id-3 div.sk-estimator:hover label.sk-toggleable__label-arrow:before {color: black;}#sk-container-id-3 div.sk-toggleable__content {max-height: 0;max-width: 0;overflow: hidden;text-align: left;background-color: #f0f8ff;}#sk-container-id-3 div.sk-toggleable__content pre {margin: 0.2em;color: black;border-radius: 0.25em;background-color: #f0f8ff;}#sk-container-id-3 input.sk-toggleable__control:checked~div.sk-toggleable__content {max-height: 200px;max-width: 100%;overflow: auto;}#sk-container-id-3 input.sk-toggleable__control:checked~label.sk-toggleable__label-arrow:before {content: \"▾\";}#sk-container-id-3 div.sk-estimator input.sk-toggleable__control:checked~label.sk-toggleable__label {background-color: #d4ebff;}#sk-container-id-3 div.sk-label input.sk-toggleable__control:checked~label.sk-toggleable__label {background-color: #d4ebff;}#sk-container-id-3 input.sk-hidden--visually {border: 0;clip: rect(1px 1px 1px 1px);clip: rect(1px, 1px, 1px, 1px);height: 1px;margin: -1px;overflow: hidden;padding: 0;position: absolute;width: 1px;}#sk-container-id-3 div.sk-estimator {font-family: monospace;background-color: #f0f8ff;border: 1px dotted black;border-radius: 0.25em;box-sizing: border-box;margin-bottom: 0.5em;}#sk-container-id-3 div.sk-estimator:hover {background-color: #d4ebff;}#sk-container-id-3 div.sk-parallel-item::after {content: \"\";width: 100%;border-bottom: 1px solid gray;flex-grow: 1;}#sk-container-id-3 div.sk-label:hover label.sk-toggleable__label {background-color: #d4ebff;}#sk-container-id-3 div.sk-serial::before {content: \"\";position: absolute;border-left: 1px solid gray;box-sizing: border-box;top: 0;bottom: 0;left: 50%;z-index: 0;}#sk-container-id-3 div.sk-serial {display: flex;flex-direction: column;align-items: center;background-color: white;padding-right: 0.2em;padding-left: 0.2em;position: relative;}#sk-container-id-3 div.sk-item {position: relative;z-index: 1;}#sk-container-id-3 div.sk-parallel {display: flex;align-items: stretch;justify-content: center;background-color: white;position: relative;}#sk-container-id-3 div.sk-item::before, #sk-container-id-3 div.sk-parallel-item::before {content: \"\";position: absolute;border-left: 1px solid gray;box-sizing: border-box;top: 0;bottom: 0;left: 50%;z-index: -1;}#sk-container-id-3 div.sk-parallel-item {display: flex;flex-direction: column;z-index: 1;position: relative;background-color: white;}#sk-container-id-3 div.sk-parallel-item:first-child::after {align-self: flex-end;width: 50%;}#sk-container-id-3 div.sk-parallel-item:last-child::after {align-self: flex-start;width: 50%;}#sk-container-id-3 div.sk-parallel-item:only-child::after {width: 0;}#sk-container-id-3 div.sk-dashed-wrapped {border: 1px dashed gray;margin: 0 0.4em 0.5em 0.4em;box-sizing: border-box;padding-bottom: 0.4em;background-color: white;}#sk-container-id-3 div.sk-label label {font-family: monospace;font-weight: bold;display: inline-block;line-height: 1.2em;}#sk-container-id-3 div.sk-label-container {text-align: center;}#sk-container-id-3 div.sk-container {/* jupyter's `normalize.less` sets `[hidden] { display: none; }` but bootstrap.min.css set `[hidden] { display: none !important; }` so we also need the `!important` here to be able to override the default hidden behavior on the sphinx rendered scikit-learn.org. See: https://github.com/scikit-learn/scikit-learn/issues/21755 */display: inline-block !important;position: relative;}#sk-container-id-3 div.sk-text-repr-fallback {display: none;}</style><div id=\"sk-container-id-3\" class=\"sk-top-container\"><div class=\"sk-text-repr-fallback\"><pre>GridSearchCV(cv=5, estimator=RandomForestRegressor(random_state=42),\n",
       "             param_grid=[{&#x27;max_features&#x27;: [2, 6, 12],\n",
       "                          &#x27;n_estimators&#x27;: [10, 100]},\n",
       "                         {&#x27;bootstrap&#x27;: [False], &#x27;max_features&#x27;: [2, 4],\n",
       "                          &#x27;n_estimators&#x27;: [3, 10]}],\n",
       "             return_train_score=True, scoring=&#x27;neg_mean_squared_error&#x27;)</pre><b>In a Jupyter environment, please rerun this cell to show the HTML representation or trust the notebook. <br />On GitHub, the HTML representation is unable to render, please try loading this page with nbviewer.org.</b></div><div class=\"sk-container\" hidden><div class=\"sk-item sk-dashed-wrapped\"><div class=\"sk-label-container\"><div class=\"sk-label sk-toggleable\"><input class=\"sk-toggleable__control sk-hidden--visually\" id=\"sk-estimator-id-3\" type=\"checkbox\" ><label for=\"sk-estimator-id-3\" class=\"sk-toggleable__label sk-toggleable__label-arrow\">GridSearchCV</label><div class=\"sk-toggleable__content\"><pre>GridSearchCV(cv=5, estimator=RandomForestRegressor(random_state=42),\n",
       "             param_grid=[{&#x27;max_features&#x27;: [2, 6, 12],\n",
       "                          &#x27;n_estimators&#x27;: [10, 100]},\n",
       "                         {&#x27;bootstrap&#x27;: [False], &#x27;max_features&#x27;: [2, 4],\n",
       "                          &#x27;n_estimators&#x27;: [3, 10]}],\n",
       "             return_train_score=True, scoring=&#x27;neg_mean_squared_error&#x27;)</pre></div></div></div><div class=\"sk-parallel\"><div class=\"sk-parallel-item\"><div class=\"sk-item\"><div class=\"sk-label-container\"><div class=\"sk-label sk-toggleable\"><input class=\"sk-toggleable__control sk-hidden--visually\" id=\"sk-estimator-id-4\" type=\"checkbox\" ><label for=\"sk-estimator-id-4\" class=\"sk-toggleable__label sk-toggleable__label-arrow\">estimator: RandomForestRegressor</label><div class=\"sk-toggleable__content\"><pre>RandomForestRegressor(random_state=42)</pre></div></div></div><div class=\"sk-serial\"><div class=\"sk-item\"><div class=\"sk-estimator sk-toggleable\"><input class=\"sk-toggleable__control sk-hidden--visually\" id=\"sk-estimator-id-5\" type=\"checkbox\" ><label for=\"sk-estimator-id-5\" class=\"sk-toggleable__label sk-toggleable__label-arrow\">RandomForestRegressor</label><div class=\"sk-toggleable__content\"><pre>RandomForestRegressor(random_state=42)</pre></div></div></div></div></div></div></div></div></div></div>"
      ],
      "text/plain": [
       "GridSearchCV(cv=5, estimator=RandomForestRegressor(random_state=42),\n",
       "             param_grid=[{'max_features': [2, 6, 12],\n",
       "                          'n_estimators': [10, 100]},\n",
       "                         {'bootstrap': [False], 'max_features': [2, 4],\n",
       "                          'n_estimators': [3, 10]}],\n",
       "             return_train_score=True, scoring='neg_mean_squared_error')"
      ]
     },
     "execution_count": 46,
     "metadata": {},
     "output_type": "execute_result"
    }
   ],
   "source": [
    "from sklearn.model_selection import GridSearchCV\n",
    "from sklearn.ensemble import RandomForestRegressor #This one had to be added\n",
    "\n",
    "param_grid = [\n",
    "    #try 6 (2x3) combinations of the hyperparameters\n",
    "    {'n_estimators': [10, 100], 'max_features': [2, 6, 12]},\n",
    "    #then try 4 (2x2) combinations with bootstrap set as False\n",
    "    {'bootstrap': [False], 'n_estimators' : [3,10], 'max_features':[2, 4]},\n",
    "]\n",
    "\n",
    "forest_reg = RandomForestRegressor(random_state=42)\n",
    "#train across 5 folds, that's a total of (6+4)*5 = 50 rounds of training\n",
    "grid_search = GridSearchCV(forest_reg, param_grid, cv=5,\n",
    "                          scoring='neg_mean_squared_error',\n",
    "                          return_train_score=True)\n",
    "grid_search.fit(housing_prepared, housing_labels)\n"
   ]
  },
  {
   "cell_type": "code",
   "execution_count": 47,
   "id": "48dd60cf",
   "metadata": {},
   "outputs": [
    {
     "data": {
      "text/plain": [
       "{'max_features': 12, 'n_estimators': 100}"
      ]
     },
     "execution_count": 47,
     "metadata": {},
     "output_type": "execute_result"
    }
   ],
   "source": [
    "grid_search.best_params_"
   ]
  },
  {
   "cell_type": "code",
   "execution_count": 49,
   "id": "9ac6cb42",
   "metadata": {},
   "outputs": [],
   "source": [
    "### The best score is with the max, so trying out more\n",
    "# did not take as long to load as I feared"
   ]
  },
  {
   "cell_type": "code",
   "execution_count": 48,
   "id": "7298e84e",
   "metadata": {},
   "outputs": [
    {
     "data": {
      "text/html": [
       "<style>#sk-container-id-4 {color: black;background-color: white;}#sk-container-id-4 pre{padding: 0;}#sk-container-id-4 div.sk-toggleable {background-color: white;}#sk-container-id-4 label.sk-toggleable__label {cursor: pointer;display: block;width: 100%;margin-bottom: 0;padding: 0.3em;box-sizing: border-box;text-align: center;}#sk-container-id-4 label.sk-toggleable__label-arrow:before {content: \"▸\";float: left;margin-right: 0.25em;color: #696969;}#sk-container-id-4 label.sk-toggleable__label-arrow:hover:before {color: black;}#sk-container-id-4 div.sk-estimator:hover label.sk-toggleable__label-arrow:before {color: black;}#sk-container-id-4 div.sk-toggleable__content {max-height: 0;max-width: 0;overflow: hidden;text-align: left;background-color: #f0f8ff;}#sk-container-id-4 div.sk-toggleable__content pre {margin: 0.2em;color: black;border-radius: 0.25em;background-color: #f0f8ff;}#sk-container-id-4 input.sk-toggleable__control:checked~div.sk-toggleable__content {max-height: 200px;max-width: 100%;overflow: auto;}#sk-container-id-4 input.sk-toggleable__control:checked~label.sk-toggleable__label-arrow:before {content: \"▾\";}#sk-container-id-4 div.sk-estimator input.sk-toggleable__control:checked~label.sk-toggleable__label {background-color: #d4ebff;}#sk-container-id-4 div.sk-label input.sk-toggleable__control:checked~label.sk-toggleable__label {background-color: #d4ebff;}#sk-container-id-4 input.sk-hidden--visually {border: 0;clip: rect(1px 1px 1px 1px);clip: rect(1px, 1px, 1px, 1px);height: 1px;margin: -1px;overflow: hidden;padding: 0;position: absolute;width: 1px;}#sk-container-id-4 div.sk-estimator {font-family: monospace;background-color: #f0f8ff;border: 1px dotted black;border-radius: 0.25em;box-sizing: border-box;margin-bottom: 0.5em;}#sk-container-id-4 div.sk-estimator:hover {background-color: #d4ebff;}#sk-container-id-4 div.sk-parallel-item::after {content: \"\";width: 100%;border-bottom: 1px solid gray;flex-grow: 1;}#sk-container-id-4 div.sk-label:hover label.sk-toggleable__label {background-color: #d4ebff;}#sk-container-id-4 div.sk-serial::before {content: \"\";position: absolute;border-left: 1px solid gray;box-sizing: border-box;top: 0;bottom: 0;left: 50%;z-index: 0;}#sk-container-id-4 div.sk-serial {display: flex;flex-direction: column;align-items: center;background-color: white;padding-right: 0.2em;padding-left: 0.2em;position: relative;}#sk-container-id-4 div.sk-item {position: relative;z-index: 1;}#sk-container-id-4 div.sk-parallel {display: flex;align-items: stretch;justify-content: center;background-color: white;position: relative;}#sk-container-id-4 div.sk-item::before, #sk-container-id-4 div.sk-parallel-item::before {content: \"\";position: absolute;border-left: 1px solid gray;box-sizing: border-box;top: 0;bottom: 0;left: 50%;z-index: -1;}#sk-container-id-4 div.sk-parallel-item {display: flex;flex-direction: column;z-index: 1;position: relative;background-color: white;}#sk-container-id-4 div.sk-parallel-item:first-child::after {align-self: flex-end;width: 50%;}#sk-container-id-4 div.sk-parallel-item:last-child::after {align-self: flex-start;width: 50%;}#sk-container-id-4 div.sk-parallel-item:only-child::after {width: 0;}#sk-container-id-4 div.sk-dashed-wrapped {border: 1px dashed gray;margin: 0 0.4em 0.5em 0.4em;box-sizing: border-box;padding-bottom: 0.4em;background-color: white;}#sk-container-id-4 div.sk-label label {font-family: monospace;font-weight: bold;display: inline-block;line-height: 1.2em;}#sk-container-id-4 div.sk-label-container {text-align: center;}#sk-container-id-4 div.sk-container {/* jupyter's `normalize.less` sets `[hidden] { display: none; }` but bootstrap.min.css set `[hidden] { display: none !important; }` so we also need the `!important` here to be able to override the default hidden behavior on the sphinx rendered scikit-learn.org. See: https://github.com/scikit-learn/scikit-learn/issues/21755 */display: inline-block !important;position: relative;}#sk-container-id-4 div.sk-text-repr-fallback {display: none;}</style><div id=\"sk-container-id-4\" class=\"sk-top-container\"><div class=\"sk-text-repr-fallback\"><pre>GridSearchCV(cv=5, estimator=RandomForestRegressor(random_state=42),\n",
       "             param_grid=[{&#x27;max_features&#x27;: [12, 20, 50],\n",
       "                          &#x27;n_estimators&#x27;: [100, 1000]},\n",
       "                         {&#x27;bootstrap&#x27;: [False], &#x27;max_features&#x27;: [2, 4],\n",
       "                          &#x27;n_estimators&#x27;: [3, 10]}],\n",
       "             return_train_score=True, scoring=&#x27;neg_mean_squared_error&#x27;)</pre><b>In a Jupyter environment, please rerun this cell to show the HTML representation or trust the notebook. <br />On GitHub, the HTML representation is unable to render, please try loading this page with nbviewer.org.</b></div><div class=\"sk-container\" hidden><div class=\"sk-item sk-dashed-wrapped\"><div class=\"sk-label-container\"><div class=\"sk-label sk-toggleable\"><input class=\"sk-toggleable__control sk-hidden--visually\" id=\"sk-estimator-id-6\" type=\"checkbox\" ><label for=\"sk-estimator-id-6\" class=\"sk-toggleable__label sk-toggleable__label-arrow\">GridSearchCV</label><div class=\"sk-toggleable__content\"><pre>GridSearchCV(cv=5, estimator=RandomForestRegressor(random_state=42),\n",
       "             param_grid=[{&#x27;max_features&#x27;: [12, 20, 50],\n",
       "                          &#x27;n_estimators&#x27;: [100, 1000]},\n",
       "                         {&#x27;bootstrap&#x27;: [False], &#x27;max_features&#x27;: [2, 4],\n",
       "                          &#x27;n_estimators&#x27;: [3, 10]}],\n",
       "             return_train_score=True, scoring=&#x27;neg_mean_squared_error&#x27;)</pre></div></div></div><div class=\"sk-parallel\"><div class=\"sk-parallel-item\"><div class=\"sk-item\"><div class=\"sk-label-container\"><div class=\"sk-label sk-toggleable\"><input class=\"sk-toggleable__control sk-hidden--visually\" id=\"sk-estimator-id-7\" type=\"checkbox\" ><label for=\"sk-estimator-id-7\" class=\"sk-toggleable__label sk-toggleable__label-arrow\">estimator: RandomForestRegressor</label><div class=\"sk-toggleable__content\"><pre>RandomForestRegressor(random_state=42)</pre></div></div></div><div class=\"sk-serial\"><div class=\"sk-item\"><div class=\"sk-estimator sk-toggleable\"><input class=\"sk-toggleable__control sk-hidden--visually\" id=\"sk-estimator-id-8\" type=\"checkbox\" ><label for=\"sk-estimator-id-8\" class=\"sk-toggleable__label sk-toggleable__label-arrow\">RandomForestRegressor</label><div class=\"sk-toggleable__content\"><pre>RandomForestRegressor(random_state=42)</pre></div></div></div></div></div></div></div></div></div></div>"
      ],
      "text/plain": [
       "GridSearchCV(cv=5, estimator=RandomForestRegressor(random_state=42),\n",
       "             param_grid=[{'max_features': [12, 20, 50],\n",
       "                          'n_estimators': [100, 1000]},\n",
       "                         {'bootstrap': [False], 'max_features': [2, 4],\n",
       "                          'n_estimators': [3, 10]}],\n",
       "             return_train_score=True, scoring='neg_mean_squared_error')"
      ]
     },
     "execution_count": 48,
     "metadata": {},
     "output_type": "execute_result"
    }
   ],
   "source": [
    "param_grid = [\n",
    "    #try 6 (2x3) combinations of the hyperparameters\n",
    "    {'n_estimators': [100, 1000], 'max_features': [12, 20, 50]},\n",
    "    #then try 4 (2x2) combinations with bootstrap set as False\n",
    "    {'bootstrap': [False], 'n_estimators' : [3,10], 'max_features':[2, 4]},\n",
    "]\n",
    "\n",
    "forest_reg = RandomForestRegressor(random_state=42)\n",
    "#train across 5 folds, that's a total of (6+4)*5 = 50 rounds of training\n",
    "grid_search = GridSearchCV(forest_reg, param_grid, cv=5,\n",
    "                          scoring='neg_mean_squared_error',\n",
    "                          return_train_score=True)\n",
    "grid_search.fit(housing_prepared, housing_labels)"
   ]
  },
  {
   "cell_type": "code",
   "execution_count": 50,
   "id": "a20d5efc",
   "metadata": {},
   "outputs": [
    {
     "data": {
      "text/plain": [
       "{'max_features': 50, 'n_estimators': 1000}"
      ]
     },
     "execution_count": 50,
     "metadata": {},
     "output_type": "execute_result"
    }
   ],
   "source": [
    "#Above one took longer\n",
    "\n",
    "grid_search.best_params_\n",
    "#This one now takes long as well"
   ]
  },
  {
   "cell_type": "code",
   "execution_count": 52,
   "id": "3b5153e9",
   "metadata": {},
   "outputs": [
    {
     "data": {
      "text/html": [
       "<style>#sk-container-id-5 {color: black;background-color: white;}#sk-container-id-5 pre{padding: 0;}#sk-container-id-5 div.sk-toggleable {background-color: white;}#sk-container-id-5 label.sk-toggleable__label {cursor: pointer;display: block;width: 100%;margin-bottom: 0;padding: 0.3em;box-sizing: border-box;text-align: center;}#sk-container-id-5 label.sk-toggleable__label-arrow:before {content: \"▸\";float: left;margin-right: 0.25em;color: #696969;}#sk-container-id-5 label.sk-toggleable__label-arrow:hover:before {color: black;}#sk-container-id-5 div.sk-estimator:hover label.sk-toggleable__label-arrow:before {color: black;}#sk-container-id-5 div.sk-toggleable__content {max-height: 0;max-width: 0;overflow: hidden;text-align: left;background-color: #f0f8ff;}#sk-container-id-5 div.sk-toggleable__content pre {margin: 0.2em;color: black;border-radius: 0.25em;background-color: #f0f8ff;}#sk-container-id-5 input.sk-toggleable__control:checked~div.sk-toggleable__content {max-height: 200px;max-width: 100%;overflow: auto;}#sk-container-id-5 input.sk-toggleable__control:checked~label.sk-toggleable__label-arrow:before {content: \"▾\";}#sk-container-id-5 div.sk-estimator input.sk-toggleable__control:checked~label.sk-toggleable__label {background-color: #d4ebff;}#sk-container-id-5 div.sk-label input.sk-toggleable__control:checked~label.sk-toggleable__label {background-color: #d4ebff;}#sk-container-id-5 input.sk-hidden--visually {border: 0;clip: rect(1px 1px 1px 1px);clip: rect(1px, 1px, 1px, 1px);height: 1px;margin: -1px;overflow: hidden;padding: 0;position: absolute;width: 1px;}#sk-container-id-5 div.sk-estimator {font-family: monospace;background-color: #f0f8ff;border: 1px dotted black;border-radius: 0.25em;box-sizing: border-box;margin-bottom: 0.5em;}#sk-container-id-5 div.sk-estimator:hover {background-color: #d4ebff;}#sk-container-id-5 div.sk-parallel-item::after {content: \"\";width: 100%;border-bottom: 1px solid gray;flex-grow: 1;}#sk-container-id-5 div.sk-label:hover label.sk-toggleable__label {background-color: #d4ebff;}#sk-container-id-5 div.sk-serial::before {content: \"\";position: absolute;border-left: 1px solid gray;box-sizing: border-box;top: 0;bottom: 0;left: 50%;z-index: 0;}#sk-container-id-5 div.sk-serial {display: flex;flex-direction: column;align-items: center;background-color: white;padding-right: 0.2em;padding-left: 0.2em;position: relative;}#sk-container-id-5 div.sk-item {position: relative;z-index: 1;}#sk-container-id-5 div.sk-parallel {display: flex;align-items: stretch;justify-content: center;background-color: white;position: relative;}#sk-container-id-5 div.sk-item::before, #sk-container-id-5 div.sk-parallel-item::before {content: \"\";position: absolute;border-left: 1px solid gray;box-sizing: border-box;top: 0;bottom: 0;left: 50%;z-index: -1;}#sk-container-id-5 div.sk-parallel-item {display: flex;flex-direction: column;z-index: 1;position: relative;background-color: white;}#sk-container-id-5 div.sk-parallel-item:first-child::after {align-self: flex-end;width: 50%;}#sk-container-id-5 div.sk-parallel-item:last-child::after {align-self: flex-start;width: 50%;}#sk-container-id-5 div.sk-parallel-item:only-child::after {width: 0;}#sk-container-id-5 div.sk-dashed-wrapped {border: 1px dashed gray;margin: 0 0.4em 0.5em 0.4em;box-sizing: border-box;padding-bottom: 0.4em;background-color: white;}#sk-container-id-5 div.sk-label label {font-family: monospace;font-weight: bold;display: inline-block;line-height: 1.2em;}#sk-container-id-5 div.sk-label-container {text-align: center;}#sk-container-id-5 div.sk-container {/* jupyter's `normalize.less` sets `[hidden] { display: none; }` but bootstrap.min.css set `[hidden] { display: none !important; }` so we also need the `!important` here to be able to override the default hidden behavior on the sphinx rendered scikit-learn.org. See: https://github.com/scikit-learn/scikit-learn/issues/21755 */display: inline-block !important;position: relative;}#sk-container-id-5 div.sk-text-repr-fallback {display: none;}</style><div id=\"sk-container-id-5\" class=\"sk-top-container\"><div class=\"sk-text-repr-fallback\"><pre>RandomForestRegressor(max_features=50, n_estimators=1000, random_state=42)</pre><b>In a Jupyter environment, please rerun this cell to show the HTML representation or trust the notebook. <br />On GitHub, the HTML representation is unable to render, please try loading this page with nbviewer.org.</b></div><div class=\"sk-container\" hidden><div class=\"sk-item\"><div class=\"sk-estimator sk-toggleable\"><input class=\"sk-toggleable__control sk-hidden--visually\" id=\"sk-estimator-id-9\" type=\"checkbox\" checked><label for=\"sk-estimator-id-9\" class=\"sk-toggleable__label sk-toggleable__label-arrow\">RandomForestRegressor</label><div class=\"sk-toggleable__content\"><pre>RandomForestRegressor(max_features=50, n_estimators=1000, random_state=42)</pre></div></div></div></div></div>"
      ],
      "text/plain": [
       "RandomForestRegressor(max_features=50, n_estimators=1000, random_state=42)"
      ]
     },
     "execution_count": 52,
     "metadata": {},
     "output_type": "execute_result"
    }
   ],
   "source": [
    "grid_search.best_estimator_"
   ]
  },
  {
   "cell_type": "code",
   "execution_count": 53,
   "id": "1e185e4d",
   "metadata": {},
   "outputs": [
    {
     "name": "stdout",
     "output_type": "stream",
     "text": [
      "32776.12152182023 {'max_features': 12, 'n_estimators': 100}\n",
      "32440.441217744014 {'max_features': 12, 'n_estimators': 1000}\n",
      "31485.692470624992 {'max_features': 20, 'n_estimators': 100}\n",
      "31439.57620252732 {'max_features': 20, 'n_estimators': 1000}\n",
      "30366.58388625145 {'max_features': 50, 'n_estimators': 100}\n",
      "30208.780101809152 {'max_features': 50, 'n_estimators': 1000}\n",
      "46603.75633715282 {'bootstrap': False, 'max_features': 2, 'n_estimators': 3}\n",
      "39585.57451312437 {'bootstrap': False, 'max_features': 2, 'n_estimators': 10}\n",
      "45959.99398631797 {'bootstrap': False, 'max_features': 4, 'n_estimators': 3}\n",
      "38662.9746611697 {'bootstrap': False, 'max_features': 4, 'n_estimators': 10}\n"
     ]
    }
   ],
   "source": [
    "cvres = grid_search.cv_results_\n",
    "for mean_score, params in zip(cvres[\"mean_test_score\"], cvres[\"params\"]):\n",
    "    print(np.sqrt(-mean_score), params)"
   ]
  },
  {
   "cell_type": "code",
   "execution_count": 55,
   "id": "33176b5b",
   "metadata": {},
   "outputs": [],
   "source": [
    "# so max_features: 50 + n_estimators: 100, but especially 1000 perform slightly\n",
    "#better then the default (30.654 original vs.30.366 & 30.208)\n",
    "#so the best model is now finetuned"
   ]
  },
  {
   "cell_type": "markdown",
   "id": "972368f2",
   "metadata": {},
   "source": [
    "## Randomized Search"
   ]
  },
  {
   "cell_type": "code",
   "execution_count": 63,
   "id": "068a68f9",
   "metadata": {},
   "outputs": [
    {
     "data": {
      "text/html": [
       "<style>#sk-container-id-7 {color: black;background-color: white;}#sk-container-id-7 pre{padding: 0;}#sk-container-id-7 div.sk-toggleable {background-color: white;}#sk-container-id-7 label.sk-toggleable__label {cursor: pointer;display: block;width: 100%;margin-bottom: 0;padding: 0.3em;box-sizing: border-box;text-align: center;}#sk-container-id-7 label.sk-toggleable__label-arrow:before {content: \"▸\";float: left;margin-right: 0.25em;color: #696969;}#sk-container-id-7 label.sk-toggleable__label-arrow:hover:before {color: black;}#sk-container-id-7 div.sk-estimator:hover label.sk-toggleable__label-arrow:before {color: black;}#sk-container-id-7 div.sk-toggleable__content {max-height: 0;max-width: 0;overflow: hidden;text-align: left;background-color: #f0f8ff;}#sk-container-id-7 div.sk-toggleable__content pre {margin: 0.2em;color: black;border-radius: 0.25em;background-color: #f0f8ff;}#sk-container-id-7 input.sk-toggleable__control:checked~div.sk-toggleable__content {max-height: 200px;max-width: 100%;overflow: auto;}#sk-container-id-7 input.sk-toggleable__control:checked~label.sk-toggleable__label-arrow:before {content: \"▾\";}#sk-container-id-7 div.sk-estimator input.sk-toggleable__control:checked~label.sk-toggleable__label {background-color: #d4ebff;}#sk-container-id-7 div.sk-label input.sk-toggleable__control:checked~label.sk-toggleable__label {background-color: #d4ebff;}#sk-container-id-7 input.sk-hidden--visually {border: 0;clip: rect(1px 1px 1px 1px);clip: rect(1px, 1px, 1px, 1px);height: 1px;margin: -1px;overflow: hidden;padding: 0;position: absolute;width: 1px;}#sk-container-id-7 div.sk-estimator {font-family: monospace;background-color: #f0f8ff;border: 1px dotted black;border-radius: 0.25em;box-sizing: border-box;margin-bottom: 0.5em;}#sk-container-id-7 div.sk-estimator:hover {background-color: #d4ebff;}#sk-container-id-7 div.sk-parallel-item::after {content: \"\";width: 100%;border-bottom: 1px solid gray;flex-grow: 1;}#sk-container-id-7 div.sk-label:hover label.sk-toggleable__label {background-color: #d4ebff;}#sk-container-id-7 div.sk-serial::before {content: \"\";position: absolute;border-left: 1px solid gray;box-sizing: border-box;top: 0;bottom: 0;left: 50%;z-index: 0;}#sk-container-id-7 div.sk-serial {display: flex;flex-direction: column;align-items: center;background-color: white;padding-right: 0.2em;padding-left: 0.2em;position: relative;}#sk-container-id-7 div.sk-item {position: relative;z-index: 1;}#sk-container-id-7 div.sk-parallel {display: flex;align-items: stretch;justify-content: center;background-color: white;position: relative;}#sk-container-id-7 div.sk-item::before, #sk-container-id-7 div.sk-parallel-item::before {content: \"\";position: absolute;border-left: 1px solid gray;box-sizing: border-box;top: 0;bottom: 0;left: 50%;z-index: -1;}#sk-container-id-7 div.sk-parallel-item {display: flex;flex-direction: column;z-index: 1;position: relative;background-color: white;}#sk-container-id-7 div.sk-parallel-item:first-child::after {align-self: flex-end;width: 50%;}#sk-container-id-7 div.sk-parallel-item:last-child::after {align-self: flex-start;width: 50%;}#sk-container-id-7 div.sk-parallel-item:only-child::after {width: 0;}#sk-container-id-7 div.sk-dashed-wrapped {border: 1px dashed gray;margin: 0 0.4em 0.5em 0.4em;box-sizing: border-box;padding-bottom: 0.4em;background-color: white;}#sk-container-id-7 div.sk-label label {font-family: monospace;font-weight: bold;display: inline-block;line-height: 1.2em;}#sk-container-id-7 div.sk-label-container {text-align: center;}#sk-container-id-7 div.sk-container {/* jupyter's `normalize.less` sets `[hidden] { display: none; }` but bootstrap.min.css set `[hidden] { display: none !important; }` so we also need the `!important` here to be able to override the default hidden behavior on the sphinx rendered scikit-learn.org. See: https://github.com/scikit-learn/scikit-learn/issues/21755 */display: inline-block !important;position: relative;}#sk-container-id-7 div.sk-text-repr-fallback {display: none;}</style><div id=\"sk-container-id-7\" class=\"sk-top-container\"><div class=\"sk-text-repr-fallback\"><pre>RandomizedSearchCV(cv=5, estimator=RandomForestRegressor(random_state=42),\n",
       "                   param_distributions={&#x27;max_features&#x27;: &lt;scipy.stats._distn_infrastructure.rv_frozen object at 0x00000225DF7F2740&gt;,\n",
       "                                        &#x27;n_estimators&#x27;: &lt;scipy.stats._distn_infrastructure.rv_frozen object at 0x00000225DF7F2A40&gt;},\n",
       "                   random_state=42, scoring=&#x27;neg_mean_squared_error&#x27;)</pre><b>In a Jupyter environment, please rerun this cell to show the HTML representation or trust the notebook. <br />On GitHub, the HTML representation is unable to render, please try loading this page with nbviewer.org.</b></div><div class=\"sk-container\" hidden><div class=\"sk-item sk-dashed-wrapped\"><div class=\"sk-label-container\"><div class=\"sk-label sk-toggleable\"><input class=\"sk-toggleable__control sk-hidden--visually\" id=\"sk-estimator-id-13\" type=\"checkbox\" ><label for=\"sk-estimator-id-13\" class=\"sk-toggleable__label sk-toggleable__label-arrow\">RandomizedSearchCV</label><div class=\"sk-toggleable__content\"><pre>RandomizedSearchCV(cv=5, estimator=RandomForestRegressor(random_state=42),\n",
       "                   param_distributions={&#x27;max_features&#x27;: &lt;scipy.stats._distn_infrastructure.rv_frozen object at 0x00000225DF7F2740&gt;,\n",
       "                                        &#x27;n_estimators&#x27;: &lt;scipy.stats._distn_infrastructure.rv_frozen object at 0x00000225DF7F2A40&gt;},\n",
       "                   random_state=42, scoring=&#x27;neg_mean_squared_error&#x27;)</pre></div></div></div><div class=\"sk-parallel\"><div class=\"sk-parallel-item\"><div class=\"sk-item\"><div class=\"sk-label-container\"><div class=\"sk-label sk-toggleable\"><input class=\"sk-toggleable__control sk-hidden--visually\" id=\"sk-estimator-id-14\" type=\"checkbox\" ><label for=\"sk-estimator-id-14\" class=\"sk-toggleable__label sk-toggleable__label-arrow\">estimator: RandomForestRegressor</label><div class=\"sk-toggleable__content\"><pre>RandomForestRegressor(random_state=42)</pre></div></div></div><div class=\"sk-serial\"><div class=\"sk-item\"><div class=\"sk-estimator sk-toggleable\"><input class=\"sk-toggleable__control sk-hidden--visually\" id=\"sk-estimator-id-15\" type=\"checkbox\" ><label for=\"sk-estimator-id-15\" class=\"sk-toggleable__label sk-toggleable__label-arrow\">RandomForestRegressor</label><div class=\"sk-toggleable__content\"><pre>RandomForestRegressor(random_state=42)</pre></div></div></div></div></div></div></div></div></div></div>"
      ],
      "text/plain": [
       "RandomizedSearchCV(cv=5, estimator=RandomForestRegressor(random_state=42),\n",
       "                   param_distributions={'max_features': <scipy.stats._distn_infrastructure.rv_frozen object at 0x00000225DF7F2740>,\n",
       "                                        'n_estimators': <scipy.stats._distn_infrastructure.rv_frozen object at 0x00000225DF7F2A40>},\n",
       "                   random_state=42, scoring='neg_mean_squared_error')"
      ]
     },
     "execution_count": 63,
     "metadata": {},
     "output_type": "execute_result"
    }
   ],
   "source": [
    "from sklearn.model_selection import RandomizedSearchCV\n",
    "from scipy.stats import randint\n",
    "\n",
    "param_distribs = {\n",
    "        'n_estimators': randint(low=1, high=200),\n",
    "        'max_features': randint(low=1, high=20), #Below I noted that top 15 features are relevant.\n",
    "    } #Therefore, I am trying out the max_features high with 20 instead of 8\n",
    "\n",
    "forest_reg = RandomForestRegressor(random_state=42)\n",
    "rnd_search = RandomizedSearchCV(forest_reg, param_distributions=param_distribs,\n",
    "                                n_iter=10, cv=5, scoring='neg_mean_squared_error', random_state=42)\n",
    "rnd_search.fit(housing_prepared, housing_labels)\n",
    "    "
   ]
  },
  {
   "cell_type": "code",
   "execution_count": 65,
   "id": "561b08f3",
   "metadata": {},
   "outputs": [
    {
     "name": "stdout",
     "output_type": "stream",
     "text": [
      "34676.93834054847 {'max_features': 7, 'n_estimators': 180}\n",
      "32587.554366474076 {'max_features': 15, 'n_estimators': 107}\n",
      "33934.44091663454 {'max_features': 8, 'n_estimators': 189}\n",
      "35078.72778172765 {'max_features': 7, 'n_estimators': 122}\n",
      "31843.373864154066 {'max_features': 19, 'n_estimators': 75}\n",
      "33359.06643816351 {'max_features': 11, 'n_estimators': 88}\n",
      "36413.39114928409 {'max_features': 4, 'n_estimators': 104}\n",
      "37558.09174570462 {'max_features': 3, 'n_estimators': 150}\n",
      "38344.46970192017 {'max_features': 2, 'n_estimators': 88}\n",
      "32631.64647070945 {'max_features': 12, 'n_estimators': 158}\n"
     ]
    }
   ],
   "source": [
    "cvres = rnd_search.cv_results_\n",
    "for mean_score, params in zip(cvres[\"mean_test_score\"], cvres[\"params\"]):\n",
    "    print(np.sqrt(-mean_score), params)"
   ]
  },
  {
   "cell_type": "code",
   "execution_count": 69,
   "id": "cb71877c",
   "metadata": {},
   "outputs": [
    {
     "data": {
      "text/html": [
       "<style>#sk-container-id-8 {color: black;background-color: white;}#sk-container-id-8 pre{padding: 0;}#sk-container-id-8 div.sk-toggleable {background-color: white;}#sk-container-id-8 label.sk-toggleable__label {cursor: pointer;display: block;width: 100%;margin-bottom: 0;padding: 0.3em;box-sizing: border-box;text-align: center;}#sk-container-id-8 label.sk-toggleable__label-arrow:before {content: \"▸\";float: left;margin-right: 0.25em;color: #696969;}#sk-container-id-8 label.sk-toggleable__label-arrow:hover:before {color: black;}#sk-container-id-8 div.sk-estimator:hover label.sk-toggleable__label-arrow:before {color: black;}#sk-container-id-8 div.sk-toggleable__content {max-height: 0;max-width: 0;overflow: hidden;text-align: left;background-color: #f0f8ff;}#sk-container-id-8 div.sk-toggleable__content pre {margin: 0.2em;color: black;border-radius: 0.25em;background-color: #f0f8ff;}#sk-container-id-8 input.sk-toggleable__control:checked~div.sk-toggleable__content {max-height: 200px;max-width: 100%;overflow: auto;}#sk-container-id-8 input.sk-toggleable__control:checked~label.sk-toggleable__label-arrow:before {content: \"▾\";}#sk-container-id-8 div.sk-estimator input.sk-toggleable__control:checked~label.sk-toggleable__label {background-color: #d4ebff;}#sk-container-id-8 div.sk-label input.sk-toggleable__control:checked~label.sk-toggleable__label {background-color: #d4ebff;}#sk-container-id-8 input.sk-hidden--visually {border: 0;clip: rect(1px 1px 1px 1px);clip: rect(1px, 1px, 1px, 1px);height: 1px;margin: -1px;overflow: hidden;padding: 0;position: absolute;width: 1px;}#sk-container-id-8 div.sk-estimator {font-family: monospace;background-color: #f0f8ff;border: 1px dotted black;border-radius: 0.25em;box-sizing: border-box;margin-bottom: 0.5em;}#sk-container-id-8 div.sk-estimator:hover {background-color: #d4ebff;}#sk-container-id-8 div.sk-parallel-item::after {content: \"\";width: 100%;border-bottom: 1px solid gray;flex-grow: 1;}#sk-container-id-8 div.sk-label:hover label.sk-toggleable__label {background-color: #d4ebff;}#sk-container-id-8 div.sk-serial::before {content: \"\";position: absolute;border-left: 1px solid gray;box-sizing: border-box;top: 0;bottom: 0;left: 50%;z-index: 0;}#sk-container-id-8 div.sk-serial {display: flex;flex-direction: column;align-items: center;background-color: white;padding-right: 0.2em;padding-left: 0.2em;position: relative;}#sk-container-id-8 div.sk-item {position: relative;z-index: 1;}#sk-container-id-8 div.sk-parallel {display: flex;align-items: stretch;justify-content: center;background-color: white;position: relative;}#sk-container-id-8 div.sk-item::before, #sk-container-id-8 div.sk-parallel-item::before {content: \"\";position: absolute;border-left: 1px solid gray;box-sizing: border-box;top: 0;bottom: 0;left: 50%;z-index: -1;}#sk-container-id-8 div.sk-parallel-item {display: flex;flex-direction: column;z-index: 1;position: relative;background-color: white;}#sk-container-id-8 div.sk-parallel-item:first-child::after {align-self: flex-end;width: 50%;}#sk-container-id-8 div.sk-parallel-item:last-child::after {align-self: flex-start;width: 50%;}#sk-container-id-8 div.sk-parallel-item:only-child::after {width: 0;}#sk-container-id-8 div.sk-dashed-wrapped {border: 1px dashed gray;margin: 0 0.4em 0.5em 0.4em;box-sizing: border-box;padding-bottom: 0.4em;background-color: white;}#sk-container-id-8 div.sk-label label {font-family: monospace;font-weight: bold;display: inline-block;line-height: 1.2em;}#sk-container-id-8 div.sk-label-container {text-align: center;}#sk-container-id-8 div.sk-container {/* jupyter's `normalize.less` sets `[hidden] { display: none; }` but bootstrap.min.css set `[hidden] { display: none !important; }` so we also need the `!important` here to be able to override the default hidden behavior on the sphinx rendered scikit-learn.org. See: https://github.com/scikit-learn/scikit-learn/issues/21755 */display: inline-block !important;position: relative;}#sk-container-id-8 div.sk-text-repr-fallback {display: none;}</style><div id=\"sk-container-id-8\" class=\"sk-top-container\"><div class=\"sk-text-repr-fallback\"><pre>RandomForestRegressor(max_features=19, n_estimators=75, random_state=42)</pre><b>In a Jupyter environment, please rerun this cell to show the HTML representation or trust the notebook. <br />On GitHub, the HTML representation is unable to render, please try loading this page with nbviewer.org.</b></div><div class=\"sk-container\" hidden><div class=\"sk-item\"><div class=\"sk-estimator sk-toggleable\"><input class=\"sk-toggleable__control sk-hidden--visually\" id=\"sk-estimator-id-16\" type=\"checkbox\" checked><label for=\"sk-estimator-id-16\" class=\"sk-toggleable__label sk-toggleable__label-arrow\">RandomForestRegressor</label><div class=\"sk-toggleable__content\"><pre>RandomForestRegressor(max_features=19, n_estimators=75, random_state=42)</pre></div></div></div></div></div>"
      ],
      "text/plain": [
       "RandomForestRegressor(max_features=19, n_estimators=75, random_state=42)"
      ]
     },
     "execution_count": 69,
     "metadata": {},
     "output_type": "execute_result"
    }
   ],
   "source": [
    "rnd_search.best_estimator_"
   ]
  },
  {
   "cell_type": "code",
   "execution_count": 67,
   "id": "43ea5892",
   "metadata": {},
   "outputs": [],
   "source": [
    "#None of above is performing better than the GridSearch result or even the default\n",
    "#19 features comes closest with 31,8 K"
   ]
  },
  {
   "cell_type": "markdown",
   "id": "07d985af",
   "metadata": {},
   "source": [
    "## Analyze the best models and their errors"
   ]
  },
  {
   "cell_type": "code",
   "execution_count": 62,
   "id": "1a0cf769",
   "metadata": {},
   "outputs": [
    {
     "data": {
      "text/plain": [
       "array([4.23017263e-03, 2.97692092e-03, 8.52291179e-03, 1.85649007e-02,\n",
       "       1.58853114e-01, 3.91837454e-03, 3.61961629e-02, 1.32254805e-02,\n",
       "       1.08744297e-02, 2.54277199e-02, 7.57758358e-04, 5.67954847e-03,\n",
       "       6.47984022e-02, 5.02928902e-02, 2.68890063e-02, 2.46545640e-04,\n",
       "       9.79451181e-02, 2.02805347e-03, 6.64394945e-04, 2.28568974e-02,\n",
       "       2.46618434e-03, 3.94604510e-03, 8.36893904e-04, 1.82116139e-02,\n",
       "       9.10646569e-03, 2.21257823e-02, 7.93395117e-02, 5.68522212e-02,\n",
       "       4.30187912e-03, 6.60671102e-03, 8.65513598e-04, 2.07842885e-04,\n",
       "       1.26042312e-03, 9.31688870e-04, 1.46631384e-04, 3.98375464e-03,\n",
       "       1.76319682e-03, 5.50828208e-05, 1.32732791e-04, 3.67362312e-05,\n",
       "       1.17827555e-03, 1.49173716e-03, 2.41988654e-05, 1.40181978e-05,\n",
       "       1.77436848e-04, 1.33534432e-04, 3.14216268e-04, 7.52818545e-04,\n",
       "       5.10791084e-04, 1.96616992e-04, 9.62600665e-04, 6.48540215e-04,\n",
       "       6.43916063e-04, 4.70442901e-04, 9.34669840e-04, 2.77394270e-06,\n",
       "       2.56999013e-06, 6.20987988e-04, 5.68660082e-04, 1.00359758e-04,\n",
       "       1.38029045e-05, 6.47928469e-04, 9.30517627e-04, 4.79352805e-04,\n",
       "       1.76004916e-04, 5.60191734e-05, 2.40081755e-06, 2.38665714e-05,\n",
       "       1.25054584e-04, 2.35037879e-04, 3.71807656e-04, 1.26400325e-03,\n",
       "       7.29768962e-04, 1.35506556e-04, 7.05672933e-05, 5.94534815e-05,\n",
       "       8.40677760e-05, 3.18133655e-04, 2.10804300e-05, 2.00099475e-04,\n",
       "       2.70104916e-03, 1.25520478e-03, 5.25744798e-04, 8.78145847e-05,\n",
       "       1.20871986e-04, 9.94406711e-05, 2.89955010e-04, 8.81462608e-04,\n",
       "       2.33401163e-04, 1.12611650e-04, 1.55647072e-04, 9.10245882e-05,\n",
       "       6.93607934e-04, 6.26127742e-05, 4.17640676e-04, 2.16285232e-05,\n",
       "       5.13612622e-05, 1.93631760e-06, 1.78421701e-05, 3.81231028e-07,\n",
       "       1.24024103e-05, 4.81140525e-04, 7.91255572e-06, 4.36221193e-04,\n",
       "       5.96290793e-07, 1.29301840e-06, 8.60280185e-04, 5.11663915e-05,\n",
       "       2.04073899e-04, 8.76221302e-05, 2.20010167e-04, 3.27601144e-04,\n",
       "       1.22965694e-05, 1.13506981e-03, 1.06702892e-04, 4.72741448e-05,\n",
       "       2.08743675e-03, 2.52578470e-05, 9.34952627e-05, 1.84701379e-04,\n",
       "       1.25373865e-03, 7.96985503e-05, 1.43071288e-03, 1.47716593e-05,\n",
       "       7.22999204e-04, 3.47204239e-05, 5.20520598e-06, 1.36519567e-06,\n",
       "       5.12810059e-05, 1.56623478e-05, 7.30975513e-04, 4.97781471e-05,\n",
       "       4.36615741e-06, 6.75526428e-05, 7.54339079e-04, 3.37006261e-07,\n",
       "       4.12537214e-04, 9.45978742e-04, 2.60464287e-06, 4.01909408e-04,\n",
       "       1.43242818e-04, 1.85061991e-05, 9.17607162e-05, 8.57170589e-04,\n",
       "       5.74583244e-04, 5.38596414e-05, 3.92887991e-05, 1.19433202e-05,\n",
       "       6.68518725e-05, 3.57849919e-04, 1.05802396e-06, 4.61543473e-04,\n",
       "       1.06026667e-03, 3.47196011e-04, 4.53588292e-04, 7.02844844e-06,\n",
       "       2.22904226e-04, 2.25453813e-05, 1.09942469e-04, 7.50423724e-04,\n",
       "       2.57110536e-04, 1.65776107e-04, 8.16129124e-05, 6.74636629e-04,\n",
       "       7.50511958e-04, 7.44703620e-04, 5.19751951e-05, 7.98393924e-03,\n",
       "       3.20180561e-04, 1.07105176e-02, 4.14030018e-02, 9.28465989e-06,\n",
       "       1.84265045e-04, 4.30575767e-04, 2.31827193e-06, 3.31295243e-04,\n",
       "       2.05654842e-04, 5.61354064e-04, 5.48880161e-03, 3.13073444e-05,\n",
       "       4.57865353e-05, 4.00876080e-06, 3.30571323e-02, 8.16587612e-05,\n",
       "       4.29317964e-03, 2.70001679e-03, 1.14484298e-04, 1.78860924e-04,\n",
       "       2.68490434e-04, 9.70976916e-06, 3.69305613e-04, 1.14399717e-04,\n",
       "       5.86957709e-04, 1.92733476e-03, 2.70314360e-04, 1.28140064e-03,\n",
       "       9.60028540e-05, 3.87336835e-04, 1.97792245e-04, 2.23618027e-03,\n",
       "       1.53914932e-04, 1.70603406e-04, 8.80288061e-04, 8.59238162e-05,\n",
       "       2.48886410e-04, 8.17914574e-05, 6.11518440e-05, 7.34981477e-05,\n",
       "       1.44765130e-04, 3.23680975e-04, 1.07400388e-04, 1.79891265e-04,\n",
       "       1.87086658e-04, 5.34673669e-05, 1.66636971e-05, 3.34378243e-06,\n",
       "       1.30359194e-03, 1.29580282e-04, 2.98542081e-04, 1.14864735e-06,\n",
       "       4.08142352e-04, 1.20081947e-03, 1.25129987e-03, 1.02337483e-04,\n",
       "       5.37399430e-05, 1.07351622e-05, 1.09829574e-05, 2.32211786e-04,\n",
       "       1.39780322e-06, 1.70154791e-02, 2.23868604e-04, 4.13415537e-03,\n",
       "       1.11729731e-02, 8.75396358e-05, 4.29167097e-05, 5.94483983e-05,\n",
       "       8.93610444e-05, 2.50901580e-04, 2.74709612e-05, 5.46083109e-04,\n",
       "       5.35545058e-04, 2.95689826e-05, 1.02694272e-03, 7.57514477e-05,\n",
       "       8.54147193e-04, 8.06386177e-03, 6.56757744e-05, 3.11900582e-03,\n",
       "       7.10984779e-05, 8.25596488e-04, 2.97887435e-05, 1.50032902e-03,\n",
       "       1.87923018e-04, 1.53559285e-03, 7.70705226e-04, 8.16279172e-04,\n",
       "       2.11542397e-04, 1.20417127e-04, 9.42070302e-05, 4.73066830e-05,\n",
       "       6.27856339e-06, 6.01924736e-04, 2.37823882e-04, 1.62358006e-06,\n",
       "       7.40173937e-05, 2.68387157e-05, 8.90572690e-06, 4.28539334e-04,\n",
       "       2.08727441e-04, 1.33678167e-04, 7.81089294e-05, 1.96087030e-04,\n",
       "       6.73307269e-04, 1.17333161e-06, 3.88823977e-05, 7.04163882e-04,\n",
       "       1.85126078e-04, 1.30163283e-04, 5.38589998e-04, 1.11275749e-05,\n",
       "       5.34268849e-04, 4.22031249e-06, 9.46110079e-06, 8.17047783e-05,\n",
       "       8.98840295e-05, 5.65598908e-05, 3.40616648e-05, 6.76568357e-05,\n",
       "       2.01657885e-05, 2.67568024e-05, 1.09507019e-05, 9.37714509e-04,\n",
       "       7.34736825e-06, 8.36337541e-04, 5.65158686e-04, 5.88708313e-06,\n",
       "       1.05978424e-04, 7.79975879e-05, 6.42453606e-04, 9.27566518e-04])"
      ]
     },
     "execution_count": 62,
     "metadata": {},
     "output_type": "execute_result"
    }
   ],
   "source": [
    "#First compute feature importance\n",
    "#Randomforest provides indication relative importance\n",
    "feature_importances = grid_search.best_estimator_.feature_importances_\n",
    "feature_importances"
   ]
  },
  {
   "cell_type": "code",
   "execution_count": 76,
   "id": "e5751de6",
   "metadata": {},
   "outputs": [
    {
     "data": {
      "text/plain": [
       "[(0.1588531138516039, 'OverallQual'),\n",
       " (0.09794511808017298, 'GrLivArea'),\n",
       " (0.07933951168742413, 'GarageCars'),\n",
       " (0.06479840224019064, 'TotalBsmtSF'),\n",
       " (0.05685222120298386, 'GarageArea'),\n",
       " (0.05029289021978306, '1stFlrSF'),\n",
       " (0.03619616292968438, 'YearBuilt'),\n",
       " (0.026889006301409127, '2ndFlrSF'),\n",
       " (0.025427719866834068, 'BsmtFinSF1'),\n",
       " (0.02285689736687939, 'FullBath'),\n",
       " (0.022125782315279074, 'GarageYrBlt'),\n",
       " (0.018564900683158105, 'LotArea'),\n",
       " (0.018211613891120196, 'TotRmsAbvGrd'),\n",
       " (0.01322548047234262, 'YearRemodAdd'),\n",
       " (0.010874429735247257, 'MasVnrArea'),\n",
       " (0.009106465693842089, 'Fireplaces'),\n",
       " (0.008522911790377407, 'LotFrontage'),\n",
       " (0.006606711023794759, 'OpenPorchSF'),\n",
       " (0.005679548474727195, 'BsmtUnfSF'),\n",
       " (0.004301879117465606, 'WoodDeckSF'),\n",
       " (0.004230172634298786, 'Id'),\n",
       " (0.003983754638119172, 'MoSold'),\n",
       " (0.003946045103393035, 'BedroomAbvGr'),\n",
       " (0.003918374536650959, 'OverallCond'),\n",
       " (0.002976920919358093, 'MSSubClass'),\n",
       " (0.0024661843382304278, 'HalfBath'),\n",
       " (0.0020280534676850987, 'BsmtFullBath'),\n",
       " (0.001763196824467697, 'YrSold'),\n",
       " (0.0014917371551927908, 'RM'),\n",
       " (0.0012604231186758596, 'ScreenPorch'),\n",
       " (0.001178275552341273, 'RL'),\n",
       " (0.0009316888702775569, 'PoolArea'),\n",
       " (0.0008655135975358534, 'EnclosedPorch'),\n",
       " (0.0008368939036286401, 'KitchenAbvGr'),\n",
       " (0.000757758357593535, 'BsmtFinSF2'),\n",
       " (0.0006643949450612682, 'BsmtHalfBath'),\n",
       " (0.0002465456404170645, 'LowQualFinSF'),\n",
       " (0.00020784288544696149, '3SsnPorch'),\n",
       " (0.00014663138364499756, 'MiscVal'),\n",
       " (0.000132732791235634, 'FV'),\n",
       " (5.508282083143781e-05, 'C (all)'),\n",
       " (3.673623120693216e-05, 'RH')]"
      ]
     },
     "execution_count": 76,
     "metadata": {},
     "output_type": "execute_result"
    }
   ],
   "source": [
    "#The attributes created\n",
    "#extra_attribs = [\"NAME OF EXTRA ATTRIBUTE\"]\n",
    "#cat_encoder = cat_pipeline.named_steps[\"cat_encoder\"] # old solution\n",
    "\n",
    "#categories converted to numbers\n",
    "cat_encoder = full_pipeline.named_transformers_[\"cat\"]\n",
    "\n",
    "#Grading scales we converted to one hot encoding\n",
    "cat_one_hot_attribs = list(cat_encoder.categories_[0])\n",
    "\n",
    "#all those attributes together\n",
    "attributes = num_attribs  + cat_one_hot_attribs #+ extra_attribs\n",
    "sorted(zip(feature_importances, attributes), reverse=True)"
   ]
  },
  {
   "cell_type": "code",
   "execution_count": 68,
   "id": "183de79b",
   "metadata": {},
   "outputs": [],
   "source": [
    "#So I could already drop 27 variables (all below Fireplace). \n",
    "#Only top 15 variables influence by at leaast 1% \n",
    "\n",
    "#As a next step, I increased the max_features on the RandomSearch. \n",
    "#Yet, no clear improvement "
   ]
  },
  {
   "cell_type": "markdown",
   "id": "247937ba",
   "metadata": {},
   "source": [
    "## Evaluate your system on the test set"
   ]
  },
  {
   "cell_type": "code",
   "execution_count": 79,
   "id": "700a0800",
   "metadata": {},
   "outputs": [],
   "source": [
    "from sklearn.metrics import mean_squared_error #did not import this one before\n",
    "\n",
    "final_model = grid_search.best_estimator_ #Better than randomsearch or default\n",
    "\n",
    "X_test = strat_test_set.drop(\"SalePrice\", axis=1)\n",
    "y_test = strat_test_set[\"SalePrice\"].copy()\n",
    "\n",
    "X_test_prepared = full_pipeline.transform(X_test)\n",
    "final_predictions = final_model.predict(X_test_prepared)\n",
    "\n",
    "final_mse = mean_squared_error(y_test, final_predictions)\n",
    "final_rmse = np.sqrt(final_mse)"
   ]
  },
  {
   "cell_type": "code",
   "execution_count": null,
   "id": "d9d62644",
   "metadata": {},
   "outputs": [],
   "source": [
    "#The first time I run this, I find unknown categories in the strat_test_set.\n",
    "#Therefore pipeline can not be completed\n",
    "# Solution was in the OneHotEncoder error handling"
   ]
  },
  {
   "cell_type": "code",
   "execution_count": 80,
   "id": "22cf154a",
   "metadata": {},
   "outputs": [
    {
     "data": {
      "text/plain": [
       "25992.4417982325"
      ]
     },
     "execution_count": 80,
     "metadata": {},
     "output_type": "execute_result"
    }
   ],
   "source": [
    "final_rmse"
   ]
  },
  {
   "cell_type": "code",
   "execution_count": 81,
   "id": "f7aaa4e3",
   "metadata": {},
   "outputs": [],
   "source": [
    "#Good job! Even better than with the GridSearch and default Cross-Validation"
   ]
  },
  {
   "cell_type": "code",
   "execution_count": 83,
   "id": "78379ab1",
   "metadata": {},
   "outputs": [
    {
     "data": {
      "text/plain": [
       "array([12554.10830948, 34548.63855238])"
      ]
     },
     "execution_count": 83,
     "metadata": {},
     "output_type": "execute_result"
    }
   ],
   "source": [
    "#95% confidence interval for the RMSE\n",
    "\n",
    "from scipy import stats\n",
    "\n",
    "confidence = 0.95\n",
    "squared_errors = (final_predictions - y_test) ** 2\n",
    "np.sqrt(stats.t.interval(confidence, len(squared_errors) - 1,\n",
    "                         loc=squared_errors.mean(),\n",
    "                         scale=stats.sem(squared_errors)))"
   ]
  },
  {
   "cell_type": "code",
   "execution_count": null,
   "id": "aebe2b3f",
   "metadata": {},
   "outputs": [],
   "source": []
  },
  {
   "cell_type": "markdown",
   "id": "e3bbb24b",
   "metadata": {
    "id": "e3bbb24b"
   },
   "source": [
    "# 7. Present your solution"
   ]
  },
  {
   "cell_type": "code",
   "execution_count": null,
   "id": "9e913626",
   "metadata": {},
   "outputs": [],
   "source": [
    "#Ok, now I have to look in Kaggle on how to submit:\n",
    "\n",
    "#Load the test set and run the same stuff on that"
   ]
  },
  {
   "cell_type": "code",
   "execution_count": 87,
   "id": "00b83cc4",
   "metadata": {},
   "outputs": [
    {
     "data": {
      "text/html": [
       "<div>\n",
       "<style scoped>\n",
       "    .dataframe tbody tr th:only-of-type {\n",
       "        vertical-align: middle;\n",
       "    }\n",
       "\n",
       "    .dataframe tbody tr th {\n",
       "        vertical-align: top;\n",
       "    }\n",
       "\n",
       "    .dataframe thead th {\n",
       "        text-align: right;\n",
       "    }\n",
       "</style>\n",
       "<table border=\"1\" class=\"dataframe\">\n",
       "  <thead>\n",
       "    <tr style=\"text-align: right;\">\n",
       "      <th></th>\n",
       "      <th>Id</th>\n",
       "      <th>MSSubClass</th>\n",
       "      <th>MSZoning</th>\n",
       "      <th>LotFrontage</th>\n",
       "      <th>LotArea</th>\n",
       "      <th>Street</th>\n",
       "      <th>Alley</th>\n",
       "      <th>LotShape</th>\n",
       "      <th>LandContour</th>\n",
       "      <th>Utilities</th>\n",
       "      <th>...</th>\n",
       "      <th>ScreenPorch</th>\n",
       "      <th>PoolArea</th>\n",
       "      <th>PoolQC</th>\n",
       "      <th>Fence</th>\n",
       "      <th>MiscFeature</th>\n",
       "      <th>MiscVal</th>\n",
       "      <th>MoSold</th>\n",
       "      <th>YrSold</th>\n",
       "      <th>SaleType</th>\n",
       "      <th>SaleCondition</th>\n",
       "    </tr>\n",
       "  </thead>\n",
       "  <tbody>\n",
       "    <tr>\n",
       "      <th>0</th>\n",
       "      <td>1461</td>\n",
       "      <td>20</td>\n",
       "      <td>RH</td>\n",
       "      <td>80.0</td>\n",
       "      <td>11622</td>\n",
       "      <td>Pave</td>\n",
       "      <td>NaN</td>\n",
       "      <td>Reg</td>\n",
       "      <td>Lvl</td>\n",
       "      <td>AllPub</td>\n",
       "      <td>...</td>\n",
       "      <td>120</td>\n",
       "      <td>0</td>\n",
       "      <td>NaN</td>\n",
       "      <td>MnPrv</td>\n",
       "      <td>NaN</td>\n",
       "      <td>0</td>\n",
       "      <td>6</td>\n",
       "      <td>2010</td>\n",
       "      <td>WD</td>\n",
       "      <td>Normal</td>\n",
       "    </tr>\n",
       "    <tr>\n",
       "      <th>1</th>\n",
       "      <td>1462</td>\n",
       "      <td>20</td>\n",
       "      <td>RL</td>\n",
       "      <td>81.0</td>\n",
       "      <td>14267</td>\n",
       "      <td>Pave</td>\n",
       "      <td>NaN</td>\n",
       "      <td>IR1</td>\n",
       "      <td>Lvl</td>\n",
       "      <td>AllPub</td>\n",
       "      <td>...</td>\n",
       "      <td>0</td>\n",
       "      <td>0</td>\n",
       "      <td>NaN</td>\n",
       "      <td>NaN</td>\n",
       "      <td>Gar2</td>\n",
       "      <td>12500</td>\n",
       "      <td>6</td>\n",
       "      <td>2010</td>\n",
       "      <td>WD</td>\n",
       "      <td>Normal</td>\n",
       "    </tr>\n",
       "    <tr>\n",
       "      <th>2</th>\n",
       "      <td>1463</td>\n",
       "      <td>60</td>\n",
       "      <td>RL</td>\n",
       "      <td>74.0</td>\n",
       "      <td>13830</td>\n",
       "      <td>Pave</td>\n",
       "      <td>NaN</td>\n",
       "      <td>IR1</td>\n",
       "      <td>Lvl</td>\n",
       "      <td>AllPub</td>\n",
       "      <td>...</td>\n",
       "      <td>0</td>\n",
       "      <td>0</td>\n",
       "      <td>NaN</td>\n",
       "      <td>MnPrv</td>\n",
       "      <td>NaN</td>\n",
       "      <td>0</td>\n",
       "      <td>3</td>\n",
       "      <td>2010</td>\n",
       "      <td>WD</td>\n",
       "      <td>Normal</td>\n",
       "    </tr>\n",
       "    <tr>\n",
       "      <th>3</th>\n",
       "      <td>1464</td>\n",
       "      <td>60</td>\n",
       "      <td>RL</td>\n",
       "      <td>78.0</td>\n",
       "      <td>9978</td>\n",
       "      <td>Pave</td>\n",
       "      <td>NaN</td>\n",
       "      <td>IR1</td>\n",
       "      <td>Lvl</td>\n",
       "      <td>AllPub</td>\n",
       "      <td>...</td>\n",
       "      <td>0</td>\n",
       "      <td>0</td>\n",
       "      <td>NaN</td>\n",
       "      <td>NaN</td>\n",
       "      <td>NaN</td>\n",
       "      <td>0</td>\n",
       "      <td>6</td>\n",
       "      <td>2010</td>\n",
       "      <td>WD</td>\n",
       "      <td>Normal</td>\n",
       "    </tr>\n",
       "    <tr>\n",
       "      <th>4</th>\n",
       "      <td>1465</td>\n",
       "      <td>120</td>\n",
       "      <td>RL</td>\n",
       "      <td>43.0</td>\n",
       "      <td>5005</td>\n",
       "      <td>Pave</td>\n",
       "      <td>NaN</td>\n",
       "      <td>IR1</td>\n",
       "      <td>HLS</td>\n",
       "      <td>AllPub</td>\n",
       "      <td>...</td>\n",
       "      <td>144</td>\n",
       "      <td>0</td>\n",
       "      <td>NaN</td>\n",
       "      <td>NaN</td>\n",
       "      <td>NaN</td>\n",
       "      <td>0</td>\n",
       "      <td>1</td>\n",
       "      <td>2010</td>\n",
       "      <td>WD</td>\n",
       "      <td>Normal</td>\n",
       "    </tr>\n",
       "  </tbody>\n",
       "</table>\n",
       "<p>5 rows × 80 columns</p>\n",
       "</div>"
      ],
      "text/plain": [
       "     Id  MSSubClass MSZoning  LotFrontage  LotArea Street Alley LotShape  \\\n",
       "0  1461          20       RH         80.0    11622   Pave   NaN      Reg   \n",
       "1  1462          20       RL         81.0    14267   Pave   NaN      IR1   \n",
       "2  1463          60       RL         74.0    13830   Pave   NaN      IR1   \n",
       "3  1464          60       RL         78.0     9978   Pave   NaN      IR1   \n",
       "4  1465         120       RL         43.0     5005   Pave   NaN      IR1   \n",
       "\n",
       "  LandContour Utilities  ... ScreenPorch PoolArea PoolQC  Fence MiscFeature  \\\n",
       "0         Lvl    AllPub  ...         120        0    NaN  MnPrv         NaN   \n",
       "1         Lvl    AllPub  ...           0        0    NaN    NaN        Gar2   \n",
       "2         Lvl    AllPub  ...           0        0    NaN  MnPrv         NaN   \n",
       "3         Lvl    AllPub  ...           0        0    NaN    NaN         NaN   \n",
       "4         HLS    AllPub  ...         144        0    NaN    NaN         NaN   \n",
       "\n",
       "  MiscVal MoSold  YrSold  SaleType  SaleCondition  \n",
       "0       0      6    2010        WD         Normal  \n",
       "1   12500      6    2010        WD         Normal  \n",
       "2       0      3    2010        WD         Normal  \n",
       "3       0      6    2010        WD         Normal  \n",
       "4       0      1    2010        WD         Normal  \n",
       "\n",
       "[5 rows x 80 columns]"
      ]
     },
     "execution_count": 87,
     "metadata": {},
     "output_type": "execute_result"
    }
   ],
   "source": [
    "housing_sub = load_test_data()\n",
    "housing_sub.head()"
   ]
  },
  {
   "cell_type": "code",
   "execution_count": 86,
   "id": "d760903f",
   "metadata": {},
   "outputs": [],
   "source": [
    "#So loading was successfull. Now I have to run the model and create 1 columns with 'Id' and one with 'SalePrice' "
   ]
  },
  {
   "cell_type": "code",
   "execution_count": 88,
   "id": "e24d532c",
   "metadata": {},
   "outputs": [],
   "source": [
    "final_model = grid_search.best_estimator_ #Better than randomsearch or \n",
    "\n",
    "X_submission = full_pipeline.transform(housing_sub)\n",
    "final_predictions_sub = final_model.predict(X_submission)"
   ]
  },
  {
   "cell_type": "code",
   "execution_count": null,
   "id": "5edb5c0f",
   "metadata": {
    "id": "5edb5c0f"
   },
   "outputs": [],
   "source": [
    "X_test = strat_test_set.drop(\"SalePrice\", axis=1)\n",
    "y_test = strat_test_set[\"SalePrice\"].copy()\n",
    "\n",
    "X_test_prepared = full_pipeline.transform(X_test)\n",
    "final_predictions = final_model.predict(X_test_prepared)"
   ]
  },
  {
   "cell_type": "code",
   "execution_count": 89,
   "id": "7d383db4",
   "metadata": {},
   "outputs": [
    {
     "data": {
      "text/plain": [
       "array([126601.986, 152024.845, 185025.136])"
      ]
     },
     "execution_count": 89,
     "metadata": {},
     "output_type": "execute_result"
    }
   ],
   "source": [
    "final_predictions_sub[:3]"
   ]
  },
  {
   "cell_type": "code",
   "execution_count": 92,
   "id": "471aa12b",
   "metadata": {},
   "outputs": [
    {
     "data": {
      "text/plain": [
       "0    1461\n",
       "1    1462\n",
       "2    1463\n",
       "Name: Id, dtype: int64"
      ]
     },
     "execution_count": 92,
     "metadata": {},
     "output_type": "execute_result"
    }
   ],
   "source": [
    "ID_sub = housing_sub['Id']\n",
    "ID_sub[:3]"
   ]
  },
  {
   "cell_type": "code",
   "execution_count": 96,
   "id": "c3a284d7",
   "metadata": {},
   "outputs": [
    {
     "data": {
      "text/html": [
       "<div>\n",
       "<style scoped>\n",
       "    .dataframe tbody tr th:only-of-type {\n",
       "        vertical-align: middle;\n",
       "    }\n",
       "\n",
       "    .dataframe tbody tr th {\n",
       "        vertical-align: top;\n",
       "    }\n",
       "\n",
       "    .dataframe thead th {\n",
       "        text-align: right;\n",
       "    }\n",
       "</style>\n",
       "<table border=\"1\" class=\"dataframe\">\n",
       "  <thead>\n",
       "    <tr style=\"text-align: right;\">\n",
       "      <th></th>\n",
       "      <th>Id</th>\n",
       "      <th>SalePrice</th>\n",
       "    </tr>\n",
       "  </thead>\n",
       "  <tbody>\n",
       "    <tr>\n",
       "      <th>0</th>\n",
       "      <td>1461</td>\n",
       "      <td>126601.986</td>\n",
       "    </tr>\n",
       "    <tr>\n",
       "      <th>1</th>\n",
       "      <td>1462</td>\n",
       "      <td>152024.845</td>\n",
       "    </tr>\n",
       "    <tr>\n",
       "      <th>2</th>\n",
       "      <td>1463</td>\n",
       "      <td>185025.136</td>\n",
       "    </tr>\n",
       "  </tbody>\n",
       "</table>\n",
       "</div>"
      ],
      "text/plain": [
       "     Id   SalePrice\n",
       "0  1461  126601.986\n",
       "1  1462  152024.845\n",
       "2  1463  185025.136"
      ]
     },
     "execution_count": 96,
     "metadata": {},
     "output_type": "execute_result"
    }
   ],
   "source": [
    "import pandas as pd\n",
    "\n",
    "df = pd.DataFrame()\n",
    "df['Id'] = ID_sub\n",
    "df['SalePrice']=final_predictions_sub\n",
    "df[:3]\n"
   ]
  },
  {
   "cell_type": "code",
   "execution_count": 98,
   "id": "cedc9228",
   "metadata": {},
   "outputs": [],
   "source": [
    "housing_path = HOUSING_PATH\n",
    "output_path =os.path.join(housing_path, \"submission_1.csv\")\n",
    "df.to_csv(output_path, index = False)"
   ]
  },
  {
   "cell_type": "code",
   "execution_count": 99,
   "id": "67358d30",
   "metadata": {},
   "outputs": [],
   "source": [
    "#Done, Got the outputfile! :D"
   ]
  },
  {
   "cell_type": "markdown",
   "id": "28c8af30",
   "metadata": {
    "id": "28c8af30"
   },
   "source": [
    "# 8. Launch, monitor and maintain your system"
   ]
  },
  {
   "cell_type": "code",
   "execution_count": 84,
   "id": "226eb3bc",
   "metadata": {
    "id": "226eb3bc"
   },
   "outputs": [],
   "source": [
    "#Not applicable in this case"
   ]
  },
  {
   "cell_type": "code",
   "execution_count": null,
   "id": "ddcf7df5",
   "metadata": {
    "id": "ddcf7df5"
   },
   "outputs": [],
   "source": []
  }
 ],
 "metadata": {
  "colab": {
   "name": "Kaggle Housing - Chapter 2. 20220624.ipynb",
   "provenance": []
  },
  "kernelspec": {
   "display_name": "Python 3 (ipykernel)",
   "language": "python",
   "name": "python3"
  },
  "language_info": {
   "codemirror_mode": {
    "name": "ipython",
    "version": 3
   },
   "file_extension": ".py",
   "mimetype": "text/x-python",
   "name": "python",
   "nbconvert_exporter": "python",
   "pygments_lexer": "ipython3",
   "version": "3.10.2"
  }
 },
 "nbformat": 4,
 "nbformat_minor": 5
}
